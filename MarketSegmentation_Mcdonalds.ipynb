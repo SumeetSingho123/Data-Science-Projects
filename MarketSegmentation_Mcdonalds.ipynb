{
  "cells": [
    {
      "cell_type": "markdown",
      "metadata": {
        "id": "view-in-github",
        "colab_type": "text"
      },
      "source": [
        "<a href=\"https://colab.research.google.com/github/SumeetSingho123/Data-Science-Projects/blob/master/MarketSegmentation_Mcdonalds.ipynb\" target=\"_parent\"><img src=\"https://colab.research.google.com/assets/colab-badge.svg\" alt=\"Open In Colab\"/></a>"
      ]
    },
    {
      "cell_type": "markdown",
      "source": [
        "# **Feynn Labs Task 1**"
      ],
      "metadata": {
        "id": "2vIIrszDSt8x"
      }
    },
    {
      "cell_type": "markdown",
      "metadata": {
        "id": "4L0A-7ATAz8S"
      },
      "source": [
        "**Import Libraries**"
      ]
    },
    {
      "cell_type": "code",
      "execution_count": null,
      "metadata": {
        "id": "U_xaP7FZzNJm"
      },
      "outputs": [],
      "source": [
        "import numpy as np\n",
        "import pandas as pd\n",
        "import seaborn as sns\n",
        "sns.set(style=\"darkgrid\")\n",
        "import matplotlib.pyplot as plt\n",
        "import sklearn"
      ]
    },
    {
      "cell_type": "markdown",
      "metadata": {
        "id": "nMYmxHlPA6NV"
      },
      "source": [
        "**Read the dataset**"
      ]
    },
    {
      "cell_type": "code",
      "execution_count": null,
      "metadata": {
        "id": "973_ZRLuzDkH"
      },
      "outputs": [],
      "source": [
        "dataset = pd.read_csv('mcdonalds.csv')\n"
      ]
    },
    {
      "cell_type": "code",
      "execution_count": null,
      "metadata": {
        "colab": {
          "base_uri": "https://localhost:8080/",
          "height": 206
        },
        "id": "wFneBTJSzYE6",
        "outputId": "97d67445-f92f-4366-c60a-7c841cbc8899"
      },
      "outputs": [
        {
          "output_type": "execute_result",
          "data": {
            "text/plain": [
              "  yummy convenient spicy fattening greasy fast cheap tasty expensive healthy  \\\n",
              "0    No        Yes    No       Yes     No  Yes   Yes    No       Yes      No   \n",
              "1   Yes        Yes    No       Yes    Yes  Yes   Yes   Yes       Yes      No   \n",
              "2    No        Yes   Yes       Yes    Yes  Yes    No   Yes       Yes     Yes   \n",
              "3   Yes        Yes    No       Yes    Yes  Yes   Yes   Yes        No      No   \n",
              "4    No        Yes    No       Yes    Yes  Yes   Yes    No        No     Yes   \n",
              "\n",
              "  disgusting Like  Age      VisitFrequency  Gender  \n",
              "0         No   -3   61  Every three months  Female  \n",
              "1         No   +2   51  Every three months  Female  \n",
              "2         No   +1   62  Every three months  Female  \n",
              "3        Yes   +4   69         Once a week  Female  \n",
              "4         No   +2   49        Once a month    Male  "
            ],
            "text/html": [
              "\n",
              "  <div id=\"df-0c6e4fa7-5c63-449c-9f66-2bdd592785d7\">\n",
              "    <div class=\"colab-df-container\">\n",
              "      <div>\n",
              "<style scoped>\n",
              "    .dataframe tbody tr th:only-of-type {\n",
              "        vertical-align: middle;\n",
              "    }\n",
              "\n",
              "    .dataframe tbody tr th {\n",
              "        vertical-align: top;\n",
              "    }\n",
              "\n",
              "    .dataframe thead th {\n",
              "        text-align: right;\n",
              "    }\n",
              "</style>\n",
              "<table border=\"1\" class=\"dataframe\">\n",
              "  <thead>\n",
              "    <tr style=\"text-align: right;\">\n",
              "      <th></th>\n",
              "      <th>yummy</th>\n",
              "      <th>convenient</th>\n",
              "      <th>spicy</th>\n",
              "      <th>fattening</th>\n",
              "      <th>greasy</th>\n",
              "      <th>fast</th>\n",
              "      <th>cheap</th>\n",
              "      <th>tasty</th>\n",
              "      <th>expensive</th>\n",
              "      <th>healthy</th>\n",
              "      <th>disgusting</th>\n",
              "      <th>Like</th>\n",
              "      <th>Age</th>\n",
              "      <th>VisitFrequency</th>\n",
              "      <th>Gender</th>\n",
              "    </tr>\n",
              "  </thead>\n",
              "  <tbody>\n",
              "    <tr>\n",
              "      <th>0</th>\n",
              "      <td>No</td>\n",
              "      <td>Yes</td>\n",
              "      <td>No</td>\n",
              "      <td>Yes</td>\n",
              "      <td>No</td>\n",
              "      <td>Yes</td>\n",
              "      <td>Yes</td>\n",
              "      <td>No</td>\n",
              "      <td>Yes</td>\n",
              "      <td>No</td>\n",
              "      <td>No</td>\n",
              "      <td>-3</td>\n",
              "      <td>61</td>\n",
              "      <td>Every three months</td>\n",
              "      <td>Female</td>\n",
              "    </tr>\n",
              "    <tr>\n",
              "      <th>1</th>\n",
              "      <td>Yes</td>\n",
              "      <td>Yes</td>\n",
              "      <td>No</td>\n",
              "      <td>Yes</td>\n",
              "      <td>Yes</td>\n",
              "      <td>Yes</td>\n",
              "      <td>Yes</td>\n",
              "      <td>Yes</td>\n",
              "      <td>Yes</td>\n",
              "      <td>No</td>\n",
              "      <td>No</td>\n",
              "      <td>+2</td>\n",
              "      <td>51</td>\n",
              "      <td>Every three months</td>\n",
              "      <td>Female</td>\n",
              "    </tr>\n",
              "    <tr>\n",
              "      <th>2</th>\n",
              "      <td>No</td>\n",
              "      <td>Yes</td>\n",
              "      <td>Yes</td>\n",
              "      <td>Yes</td>\n",
              "      <td>Yes</td>\n",
              "      <td>Yes</td>\n",
              "      <td>No</td>\n",
              "      <td>Yes</td>\n",
              "      <td>Yes</td>\n",
              "      <td>Yes</td>\n",
              "      <td>No</td>\n",
              "      <td>+1</td>\n",
              "      <td>62</td>\n",
              "      <td>Every three months</td>\n",
              "      <td>Female</td>\n",
              "    </tr>\n",
              "    <tr>\n",
              "      <th>3</th>\n",
              "      <td>Yes</td>\n",
              "      <td>Yes</td>\n",
              "      <td>No</td>\n",
              "      <td>Yes</td>\n",
              "      <td>Yes</td>\n",
              "      <td>Yes</td>\n",
              "      <td>Yes</td>\n",
              "      <td>Yes</td>\n",
              "      <td>No</td>\n",
              "      <td>No</td>\n",
              "      <td>Yes</td>\n",
              "      <td>+4</td>\n",
              "      <td>69</td>\n",
              "      <td>Once a week</td>\n",
              "      <td>Female</td>\n",
              "    </tr>\n",
              "    <tr>\n",
              "      <th>4</th>\n",
              "      <td>No</td>\n",
              "      <td>Yes</td>\n",
              "      <td>No</td>\n",
              "      <td>Yes</td>\n",
              "      <td>Yes</td>\n",
              "      <td>Yes</td>\n",
              "      <td>Yes</td>\n",
              "      <td>No</td>\n",
              "      <td>No</td>\n",
              "      <td>Yes</td>\n",
              "      <td>No</td>\n",
              "      <td>+2</td>\n",
              "      <td>49</td>\n",
              "      <td>Once a month</td>\n",
              "      <td>Male</td>\n",
              "    </tr>\n",
              "  </tbody>\n",
              "</table>\n",
              "</div>\n",
              "      <button class=\"colab-df-convert\" onclick=\"convertToInteractive('df-0c6e4fa7-5c63-449c-9f66-2bdd592785d7')\"\n",
              "              title=\"Convert this dataframe to an interactive table.\"\n",
              "              style=\"display:none;\">\n",
              "        \n",
              "  <svg xmlns=\"http://www.w3.org/2000/svg\" height=\"24px\"viewBox=\"0 0 24 24\"\n",
              "       width=\"24px\">\n",
              "    <path d=\"M0 0h24v24H0V0z\" fill=\"none\"/>\n",
              "    <path d=\"M18.56 5.44l.94 2.06.94-2.06 2.06-.94-2.06-.94-.94-2.06-.94 2.06-2.06.94zm-11 1L8.5 8.5l.94-2.06 2.06-.94-2.06-.94L8.5 2.5l-.94 2.06-2.06.94zm10 10l.94 2.06.94-2.06 2.06-.94-2.06-.94-.94-2.06-.94 2.06-2.06.94z\"/><path d=\"M17.41 7.96l-1.37-1.37c-.4-.4-.92-.59-1.43-.59-.52 0-1.04.2-1.43.59L10.3 9.45l-7.72 7.72c-.78.78-.78 2.05 0 2.83L4 21.41c.39.39.9.59 1.41.59.51 0 1.02-.2 1.41-.59l7.78-7.78 2.81-2.81c.8-.78.8-2.07 0-2.86zM5.41 20L4 18.59l7.72-7.72 1.47 1.35L5.41 20z\"/>\n",
              "  </svg>\n",
              "      </button>\n",
              "      \n",
              "  <style>\n",
              "    .colab-df-container {\n",
              "      display:flex;\n",
              "      flex-wrap:wrap;\n",
              "      gap: 12px;\n",
              "    }\n",
              "\n",
              "    .colab-df-convert {\n",
              "      background-color: #E8F0FE;\n",
              "      border: none;\n",
              "      border-radius: 50%;\n",
              "      cursor: pointer;\n",
              "      display: none;\n",
              "      fill: #1967D2;\n",
              "      height: 32px;\n",
              "      padding: 0 0 0 0;\n",
              "      width: 32px;\n",
              "    }\n",
              "\n",
              "    .colab-df-convert:hover {\n",
              "      background-color: #E2EBFA;\n",
              "      box-shadow: 0px 1px 2px rgba(60, 64, 67, 0.3), 0px 1px 3px 1px rgba(60, 64, 67, 0.15);\n",
              "      fill: #174EA6;\n",
              "    }\n",
              "\n",
              "    [theme=dark] .colab-df-convert {\n",
              "      background-color: #3B4455;\n",
              "      fill: #D2E3FC;\n",
              "    }\n",
              "\n",
              "    [theme=dark] .colab-df-convert:hover {\n",
              "      background-color: #434B5C;\n",
              "      box-shadow: 0px 1px 3px 1px rgba(0, 0, 0, 0.15);\n",
              "      filter: drop-shadow(0px 1px 2px rgba(0, 0, 0, 0.3));\n",
              "      fill: #FFFFFF;\n",
              "    }\n",
              "  </style>\n",
              "\n",
              "      <script>\n",
              "        const buttonEl =\n",
              "          document.querySelector('#df-0c6e4fa7-5c63-449c-9f66-2bdd592785d7 button.colab-df-convert');\n",
              "        buttonEl.style.display =\n",
              "          google.colab.kernel.accessAllowed ? 'block' : 'none';\n",
              "\n",
              "        async function convertToInteractive(key) {\n",
              "          const element = document.querySelector('#df-0c6e4fa7-5c63-449c-9f66-2bdd592785d7');\n",
              "          const dataTable =\n",
              "            await google.colab.kernel.invokeFunction('convertToInteractive',\n",
              "                                                     [key], {});\n",
              "          if (!dataTable) return;\n",
              "\n",
              "          const docLinkHtml = 'Like what you see? Visit the ' +\n",
              "            '<a target=\"_blank\" href=https://colab.research.google.com/notebooks/data_table.ipynb>data table notebook</a>'\n",
              "            + ' to learn more about interactive tables.';\n",
              "          element.innerHTML = '';\n",
              "          dataTable['output_type'] = 'display_data';\n",
              "          await google.colab.output.renderOutput(dataTable, element);\n",
              "          const docLink = document.createElement('div');\n",
              "          docLink.innerHTML = docLinkHtml;\n",
              "          element.appendChild(docLink);\n",
              "        }\n",
              "      </script>\n",
              "    </div>\n",
              "  </div>\n",
              "  "
            ]
          },
          "metadata": {},
          "execution_count": 4
        }
      ],
      "source": [
        "dataset.head()"
      ]
    },
    {
      "cell_type": "code",
      "execution_count": null,
      "metadata": {
        "colab": {
          "base_uri": "https://localhost:8080/"
        },
        "id": "CRX5tMXWzvSP",
        "outputId": "e91c509c-49ba-4072-c105-a4f785449ea0"
      },
      "outputs": [
        {
          "output_type": "execute_result",
          "data": {
            "text/plain": [
              "(1453, 15)"
            ]
          },
          "metadata": {},
          "execution_count": 5
        }
      ],
      "source": [
        "dataset.shape"
      ]
    },
    {
      "cell_type": "markdown",
      "metadata": {
        "id": "P36tEAoSBer5"
      },
      "source": [
        "**Data Exploration**\n",
        "**Data Cleaning and Preprocessing**"
      ]
    },
    {
      "cell_type": "code",
      "execution_count": null,
      "metadata": {
        "colab": {
          "base_uri": "https://localhost:8080/"
        },
        "id": "BLinqzW20Pij",
        "outputId": "4489ebc9-ca61-4129-d67f-610d3d12d7ed"
      },
      "outputs": [
        {
          "output_type": "stream",
          "name": "stdout",
          "text": [
            "<class 'pandas.core.frame.DataFrame'>\n",
            "RangeIndex: 1453 entries, 0 to 1452\n",
            "Data columns (total 15 columns):\n",
            " #   Column          Non-Null Count  Dtype \n",
            "---  ------          --------------  ----- \n",
            " 0   yummy           1453 non-null   object\n",
            " 1   convenient      1453 non-null   object\n",
            " 2   spicy           1453 non-null   object\n",
            " 3   fattening       1453 non-null   object\n",
            " 4   greasy          1453 non-null   object\n",
            " 5   fast            1453 non-null   object\n",
            " 6   cheap           1453 non-null   object\n",
            " 7   tasty           1453 non-null   object\n",
            " 8   expensive       1453 non-null   object\n",
            " 9   healthy         1453 non-null   object\n",
            " 10  disgusting      1453 non-null   object\n",
            " 11  Like            1453 non-null   object\n",
            " 12  Age             1453 non-null   int64 \n",
            " 13  VisitFrequency  1453 non-null   object\n",
            " 14  Gender          1453 non-null   object\n",
            "dtypes: int64(1), object(14)\n",
            "memory usage: 170.4+ KB\n"
          ]
        }
      ],
      "source": [
        "dataset.info()"
      ]
    },
    {
      "cell_type": "code",
      "execution_count": null,
      "metadata": {
        "colab": {
          "base_uri": "https://localhost:8080/"
        },
        "id": "5bXVJ6jD0WT-",
        "outputId": "867ba62b-c294-4184-9df0-43af88474c4e"
      },
      "outputs": [
        {
          "output_type": "execute_result",
          "data": {
            "text/plain": [
              "yummy             object\n",
              "convenient        object\n",
              "spicy             object\n",
              "fattening         object\n",
              "greasy            object\n",
              "fast              object\n",
              "cheap             object\n",
              "tasty             object\n",
              "expensive         object\n",
              "healthy           object\n",
              "disgusting        object\n",
              "Like              object\n",
              "Age                int64\n",
              "VisitFrequency    object\n",
              "Gender            object\n",
              "dtype: object"
            ]
          },
          "metadata": {},
          "execution_count": 7
        }
      ],
      "source": [
        "dataset.dtypes"
      ]
    },
    {
      "cell_type": "code",
      "execution_count": null,
      "metadata": {
        "colab": {
          "base_uri": "https://localhost:8080/"
        },
        "id": "FLHyszPE0dO_",
        "outputId": "59dc2376-a2d4-4781-89d3-ae2f90ebaac3"
      },
      "outputs": [
        {
          "output_type": "execute_result",
          "data": {
            "text/plain": [
              "array([61, 51, 62, 69, 49, 55, 56, 23, 58, 32, 53, 28, 65, 54, 67, 34, 31,\n",
              "       47, 37, 41, 36, 50, 39, 35, 20, 24, 44, 40, 48, 38, 57, 60, 66, 42,\n",
              "       26, 52, 29, 25, 22, 45, 18, 68, 43, 21, 27, 33, 63, 46, 59, 19, 64,\n",
              "       70, 30, 71])"
            ]
          },
          "metadata": {},
          "execution_count": 8
        }
      ],
      "source": [
        "dataset['Age'].unique()"
      ]
    },
    {
      "cell_type": "code",
      "execution_count": null,
      "metadata": {
        "colab": {
          "base_uri": "https://localhost:8080/"
        },
        "id": "ZrXtKBeS1p4a",
        "outputId": "fb598110-553d-4988-82fa-a8e46dad2c7a"
      },
      "outputs": [
        {
          "output_type": "execute_result",
          "data": {
            "text/plain": [
              "array(['No', 'Yes'], dtype=object)"
            ]
          },
          "metadata": {},
          "execution_count": 9
        }
      ],
      "source": [
        "dataset['spicy'].unique()"
      ]
    },
    {
      "cell_type": "code",
      "execution_count": null,
      "metadata": {
        "colab": {
          "base_uri": "https://localhost:8080/"
        },
        "id": "OLaidjAe12QU",
        "outputId": "ef4ec416-8a24-42db-fd25-8e62c945c091"
      },
      "outputs": [
        {
          "output_type": "execute_result",
          "data": {
            "text/plain": [
              "yummy             0\n",
              "convenient        0\n",
              "spicy             0\n",
              "fattening         0\n",
              "greasy            0\n",
              "fast              0\n",
              "cheap             0\n",
              "tasty             0\n",
              "expensive         0\n",
              "healthy           0\n",
              "disgusting        0\n",
              "Like              0\n",
              "Age               0\n",
              "VisitFrequency    0\n",
              "Gender            0\n",
              "dtype: int64"
            ]
          },
          "metadata": {},
          "execution_count": 10
        }
      ],
      "source": [
        "dataset.isnull().sum()"
      ]
    },
    {
      "cell_type": "code",
      "execution_count": null,
      "metadata": {
        "colab": {
          "base_uri": "https://localhost:8080/"
        },
        "id": "2_aOZ7xD2CHP",
        "outputId": "71cd2600-08ed-4684-f6fb-2c89d5886044"
      },
      "outputs": [
        {
          "output_type": "execute_result",
          "data": {
            "text/plain": [
              "yummy             False\n",
              "convenient        False\n",
              "spicy             False\n",
              "fattening         False\n",
              "greasy            False\n",
              "fast              False\n",
              "cheap             False\n",
              "tasty             False\n",
              "expensive         False\n",
              "healthy           False\n",
              "disgusting        False\n",
              "Like              False\n",
              "Age               False\n",
              "VisitFrequency    False\n",
              "Gender            False\n",
              "dtype: bool"
            ]
          },
          "metadata": {},
          "execution_count": 11
        }
      ],
      "source": [
        "dataset.isnull().any()"
      ]
    },
    {
      "cell_type": "code",
      "execution_count": null,
      "metadata": {
        "colab": {
          "base_uri": "https://localhost:8080/"
        },
        "id": "jJpuQGY9ZklS",
        "outputId": "bba0454b-aa21-4c12-e80f-681cc65e1b77"
      },
      "outputs": [
        {
          "output_type": "execute_result",
          "data": {
            "text/plain": [
              "Female    788\n",
              "Male      665\n",
              "Name: Gender, dtype: int64"
            ]
          },
          "metadata": {},
          "execution_count": 12
        }
      ],
      "source": [
        "dataset['Gender'].value_counts()"
      ]
    },
    {
      "cell_type": "code",
      "execution_count": null,
      "metadata": {
        "colab": {
          "base_uri": "https://localhost:8080/"
        },
        "id": "mlYtURlTZttU",
        "outputId": "60ae0d8b-3367-42af-d9fe-59014eb8b603"
      },
      "outputs": [
        {
          "output_type": "execute_result",
          "data": {
            "text/plain": [
              "Once a month             439\n",
              "Every three months       342\n",
              "Once a year              252\n",
              "Once a week              235\n",
              "Never                    131\n",
              "More than once a week     54\n",
              "Name: VisitFrequency, dtype: int64"
            ]
          },
          "metadata": {},
          "execution_count": 13
        }
      ],
      "source": [
        "dataset['VisitFrequency'].value_counts()"
      ]
    },
    {
      "cell_type": "code",
      "execution_count": null,
      "metadata": {
        "colab": {
          "base_uri": "https://localhost:8080/"
        },
        "id": "c0s_eeDX196l",
        "outputId": "21f63ed2-66c4-4cfd-e678-437f880facbf"
      },
      "outputs": [
        {
          "output_type": "execute_result",
          "data": {
            "text/plain": [
              "Index(['yummy', 'convenient', 'spicy', 'fattening', 'greasy', 'fast', 'cheap',\n",
              "       'tasty', 'expensive', 'healthy', 'disgusting', 'Like', 'Age',\n",
              "       'VisitFrequency', 'Gender'],\n",
              "      dtype='object')"
            ]
          },
          "metadata": {},
          "execution_count": 14
        }
      ],
      "source": [
        "dataset.columns"
      ]
    },
    {
      "cell_type": "markdown",
      "metadata": {
        "id": "s58W0L74BtCt"
      },
      "source": [
        "**Data Visualization**"
      ]
    },
    {
      "cell_type": "code",
      "execution_count": null,
      "metadata": {
        "colab": {
          "base_uri": "https://localhost:8080/",
          "height": 360
        },
        "id": "8UIqRTdi2I8W",
        "outputId": "fb5530ad-1d73-4422-e780-bea0eeb5cbc9"
      },
      "outputs": [
        {
          "output_type": "execute_result",
          "data": {
            "text/plain": [
              "<matplotlib.axes._subplots.AxesSubplot at 0x7fb0466b2590>"
            ]
          },
          "metadata": {},
          "execution_count": 15
        },
        {
          "output_type": "display_data",
          "data": {
            "text/plain": [
              "<Figure size 432x288 with 2 Axes>"
            ],
            "image/png": "[encoded data removed]"
          },
          "metadata": {}
        }
      ],
      "source": [
        "sns.heatmap(dataset.isnull(), yticklabels=False)"
      ]
    },
    {
      "cell_type": "code",
      "execution_count": null,
      "metadata": {
        "colab": {
          "base_uri": "https://localhost:8080/",
          "height": 357
        },
        "id": "loFG_tJw2YgC",
        "outputId": "598a6db9-6c13-4b22-ac68-34cd2109a83a"
      },
      "outputs": [
        {
          "output_type": "stream",
          "name": "stderr",
          "text": [
            "/usr/local/lib/python3.7/dist-packages/seaborn/_decorators.py:43: FutureWarning: Pass the following variables as keyword args: x, y. From version 0.12, the only valid positional argument will be `data`, and passing other arguments without an explicit keyword will result in an error or misinterpretation.\n",
            "  FutureWarning\n"
          ]
        },
        {
          "output_type": "execute_result",
          "data": {
            "text/plain": [
              "<matplotlib.axes._subplots.AxesSubplot at 0x7fb043dbe710>"
            ]
          },
          "metadata": {},
          "execution_count": 16
        },
        {
          "output_type": "display_data",
          "data": {
            "text/plain": [
              "<Figure size 432x288 with 1 Axes>"
            ],
            "image/png": "[encoded data removed]"
          },
          "metadata": {}
        }
      ],
      "source": [
        "sns.barplot(dataset['Age'],dataset['healthy'])"
      ]
    },
    {
      "cell_type": "code",
      "execution_count": null,
      "metadata": {
        "colab": {
          "base_uri": "https://localhost:8080/",
          "height": 382
        },
        "id": "temHgo4u2hJ3",
        "outputId": "eaede15e-36ff-4c81-fd98-71d477cbbc40"
      },
      "outputs": [
        {
          "output_type": "execute_result",
          "data": {
            "text/plain": [
              "<seaborn.axisgrid.FacetGrid at 0x7fb04389fc90>"
            ]
          },
          "metadata": {},
          "execution_count": 17
        },
        {
          "output_type": "display_data",
          "data": {
            "text/plain": [
              "<Figure size 360x360 with 1 Axes>"
            ],
            "image/png": "[encoded data removed]"
          },
          "metadata": {}
        }
      ],
      "source": [
        "sns.displot(dataset['Age'])"
      ]
    },
    {
      "cell_type": "code",
      "execution_count": null,
      "metadata": {
        "colab": {
          "base_uri": "https://localhost:8080/",
          "height": 302
        },
        "id": "bx0T9EI9zcRe",
        "outputId": "ee002e2c-ab62-4d76-cd78-9ec90b86e0b8"
      },
      "outputs": [
        {
          "output_type": "execute_result",
          "data": {
            "text/plain": [
              "<matplotlib.legend.Legend at 0x7fb0437e2890>"
            ]
          },
          "metadata": {},
          "execution_count": 18
        },
        {
          "output_type": "display_data",
          "data": {
            "text/plain": [
              "<Figure size 432x288 with 1 Axes>"
            ],
            "image/png": "[encoded data removed]"
          },
          "metadata": {}
        }
      ],
      "source": [
        "sns.boxplot(data = dataset, x = 'yummy', y = 'Age', hue='Gender', palette='husl')\n",
        "plt.legend(bbox_to_anchor = (1,1))"
      ]
    },
    {
      "cell_type": "code",
      "execution_count": null,
      "metadata": {
        "colab": {
          "base_uri": "https://localhost:8080/",
          "height": 302
        },
        "id": "D9eB_P_Q1vFc",
        "outputId": "200bef5c-13e9-4508-e02e-48ff925bd89a"
      },
      "outputs": [
        {
          "output_type": "execute_result",
          "data": {
            "text/plain": [
              "<matplotlib.legend.Legend at 0x7fb04389f990>"
            ]
          },
          "metadata": {},
          "execution_count": 19
        },
        {
          "output_type": "display_data",
          "data": {
            "text/plain": [
              "<Figure size 432x288 with 1 Axes>"
            ],
            "image/png": "[encoded data removed]"
          },
          "metadata": {}
        }
      ],
      "source": [
        "sns.boxplot(data = dataset, x = 'yummy', y = 'Age', hue='VisitFrequency',  palette='RdPu')\n",
        "plt.legend(bbox_to_anchor = (1,1))"
      ]
    },
    {
      "cell_type": "code",
      "execution_count": null,
      "metadata": {
        "id": "T7h974ls4LTC"
      },
      "outputs": [],
      "source": [
        "data1 = dataset.copy()"
      ]
    },
    {
      "cell_type": "code",
      "execution_count": null,
      "metadata": {
        "id": "wuasSWVo4V3Z"
      },
      "outputs": [],
      "source": [
        "data1 = data1.iloc[:,0:-4]"
      ]
    },
    {
      "cell_type": "code",
      "execution_count": null,
      "metadata": {
        "colab": {
          "base_uri": "https://localhost:8080/",
          "height": 206
        },
        "id": "BeeA7JdY4ykf",
        "outputId": "66ce042c-5b41-46a6-b1e6-c23dd634ddbf"
      },
      "outputs": [
        {
          "output_type": "execute_result",
          "data": {
            "text/plain": [
              "  yummy convenient spicy fattening greasy fast cheap tasty expensive healthy  \\\n",
              "0    No        Yes    No       Yes     No  Yes   Yes    No       Yes      No   \n",
              "1   Yes        Yes    No       Yes    Yes  Yes   Yes   Yes       Yes      No   \n",
              "2    No        Yes   Yes       Yes    Yes  Yes    No   Yes       Yes     Yes   \n",
              "3   Yes        Yes    No       Yes    Yes  Yes   Yes   Yes        No      No   \n",
              "4    No        Yes    No       Yes    Yes  Yes   Yes    No        No     Yes   \n",
              "\n",
              "  disgusting  \n",
              "0         No  \n",
              "1         No  \n",
              "2         No  \n",
              "3        Yes  \n",
              "4         No  "
            ],
            "text/html": [
              "\n",
              "  <div id=\"df-4f231881-b0d2-4d61-a815-cb0e994cb87e\">\n",
              "    <div class=\"colab-df-container\">\n",
              "      <div>\n",
              "<style scoped>\n",
              "    .dataframe tbody tr th:only-of-type {\n",
              "        vertical-align: middle;\n",
              "    }\n",
              "\n",
              "    .dataframe tbody tr th {\n",
              "        vertical-align: top;\n",
              "    }\n",
              "\n",
              "    .dataframe thead th {\n",
              "        text-align: right;\n",
              "    }\n",
              "</style>\n",
              "<table border=\"1\" class=\"dataframe\">\n",
              "  <thead>\n",
              "    <tr style=\"text-align: right;\">\n",
              "      <th></th>\n",
              "      <th>yummy</th>\n",
              "      <th>convenient</th>\n",
              "      <th>spicy</th>\n",
              "      <th>fattening</th>\n",
              "      <th>greasy</th>\n",
              "      <th>fast</th>\n",
              "      <th>cheap</th>\n",
              "      <th>tasty</th>\n",
              "      <th>expensive</th>\n",
              "      <th>healthy</th>\n",
              "      <th>disgusting</th>\n",
              "    </tr>\n",
              "  </thead>\n",
              "  <tbody>\n",
              "    <tr>\n",
              "      <th>0</th>\n",
              "      <td>No</td>\n",
              "      <td>Yes</td>\n",
              "      <td>No</td>\n",
              "      <td>Yes</td>\n",
              "      <td>No</td>\n",
              "      <td>Yes</td>\n",
              "      <td>Yes</td>\n",
              "      <td>No</td>\n",
              "      <td>Yes</td>\n",
              "      <td>No</td>\n",
              "      <td>No</td>\n",
              "    </tr>\n",
              "    <tr>\n",
              "      <th>1</th>\n",
              "      <td>Yes</td>\n",
              "      <td>Yes</td>\n",
              "      <td>No</td>\n",
              "      <td>Yes</td>\n",
              "      <td>Yes</td>\n",
              "      <td>Yes</td>\n",
              "      <td>Yes</td>\n",
              "      <td>Yes</td>\n",
              "      <td>Yes</td>\n",
              "      <td>No</td>\n",
              "      <td>No</td>\n",
              "    </tr>\n",
              "    <tr>\n",
              "      <th>2</th>\n",
              "      <td>No</td>\n",
              "      <td>Yes</td>\n",
              "      <td>Yes</td>\n",
              "      <td>Yes</td>\n",
              "      <td>Yes</td>\n",
              "      <td>Yes</td>\n",
              "      <td>No</td>\n",
              "      <td>Yes</td>\n",
              "      <td>Yes</td>\n",
              "      <td>Yes</td>\n",
              "      <td>No</td>\n",
              "    </tr>\n",
              "    <tr>\n",
              "      <th>3</th>\n",
              "      <td>Yes</td>\n",
              "      <td>Yes</td>\n",
              "      <td>No</td>\n",
              "      <td>Yes</td>\n",
              "      <td>Yes</td>\n",
              "      <td>Yes</td>\n",
              "      <td>Yes</td>\n",
              "      <td>Yes</td>\n",
              "      <td>No</td>\n",
              "      <td>No</td>\n",
              "      <td>Yes</td>\n",
              "    </tr>\n",
              "    <tr>\n",
              "      <th>4</th>\n",
              "      <td>No</td>\n",
              "      <td>Yes</td>\n",
              "      <td>No</td>\n",
              "      <td>Yes</td>\n",
              "      <td>Yes</td>\n",
              "      <td>Yes</td>\n",
              "      <td>Yes</td>\n",
              "      <td>No</td>\n",
              "      <td>No</td>\n",
              "      <td>Yes</td>\n",
              "      <td>No</td>\n",
              "    </tr>\n",
              "  </tbody>\n",
              "</table>\n",
              "</div>\n",
              "      <button class=\"colab-df-convert\" onclick=\"convertToInteractive('df-4f231881-b0d2-4d61-a815-cb0e994cb87e')\"\n",
              "              title=\"Convert this dataframe to an interactive table.\"\n",
              "              style=\"display:none;\">\n",
              "        \n",
              "  <svg xmlns=\"http://www.w3.org/2000/svg\" height=\"24px\"viewBox=\"0 0 24 24\"\n",
              "       width=\"24px\">\n",
              "    <path d=\"M0 0h24v24H0V0z\" fill=\"none\"/>\n",
              "    <path d=\"M18.56 5.44l.94 2.06.94-2.06 2.06-.94-2.06-.94-.94-2.06-.94 2.06-2.06.94zm-11 1L8.5 8.5l.94-2.06 2.06-.94-2.06-.94L8.5 2.5l-.94 2.06-2.06.94zm10 10l.94 2.06.94-2.06 2.06-.94-2.06-.94-.94-2.06-.94 2.06-2.06.94z\"/><path d=\"M17.41 7.96l-1.37-1.37c-.4-.4-.92-.59-1.43-.59-.52 0-1.04.2-1.43.59L10.3 9.45l-7.72 7.72c-.78.78-.78 2.05 0 2.83L4 21.41c.39.39.9.59 1.41.59.51 0 1.02-.2 1.41-.59l7.78-7.78 2.81-2.81c.8-.78.8-2.07 0-2.86zM5.41 20L4 18.59l7.72-7.72 1.47 1.35L5.41 20z\"/>\n",
              "  </svg>\n",
              "      </button>\n",
              "      \n",
              "  <style>\n",
              "    .colab-df-container {\n",
              "      display:flex;\n",
              "      flex-wrap:wrap;\n",
              "      gap: 12px;\n",
              "    }\n",
              "\n",
              "    .colab-df-convert {\n",
              "      background-color: #E8F0FE;\n",
              "      border: none;\n",
              "      border-radius: 50%;\n",
              "      cursor: pointer;\n",
              "      display: none;\n",
              "      fill: #1967D2;\n",
              "      height: 32px;\n",
              "      padding: 0 0 0 0;\n",
              "      width: 32px;\n",
              "    }\n",
              "\n",
              "    .colab-df-convert:hover {\n",
              "      background-color: #E2EBFA;\n",
              "      box-shadow: 0px 1px 2px rgba(60, 64, 67, 0.3), 0px 1px 3px 1px rgba(60, 64, 67, 0.15);\n",
              "      fill: #174EA6;\n",
              "    }\n",
              "\n",
              "    [theme=dark] .colab-df-convert {\n",
              "      background-color: #3B4455;\n",
              "      fill: #D2E3FC;\n",
              "    }\n",
              "\n",
              "    [theme=dark] .colab-df-convert:hover {\n",
              "      background-color: #434B5C;\n",
              "      box-shadow: 0px 1px 3px 1px rgba(0, 0, 0, 0.15);\n",
              "      filter: drop-shadow(0px 1px 2px rgba(0, 0, 0, 0.3));\n",
              "      fill: #FFFFFF;\n",
              "    }\n",
              "  </style>\n",
              "\n",
              "      <script>\n",
              "        const buttonEl =\n",
              "          document.querySelector('#df-4f231881-b0d2-4d61-a815-cb0e994cb87e button.colab-df-convert');\n",
              "        buttonEl.style.display =\n",
              "          google.colab.kernel.accessAllowed ? 'block' : 'none';\n",
              "\n",
              "        async function convertToInteractive(key) {\n",
              "          const element = document.querySelector('#df-4f231881-b0d2-4d61-a815-cb0e994cb87e');\n",
              "          const dataTable =\n",
              "            await google.colab.kernel.invokeFunction('convertToInteractive',\n",
              "                                                     [key], {});\n",
              "          if (!dataTable) return;\n",
              "\n",
              "          const docLinkHtml = 'Like what you see? Visit the ' +\n",
              "            '<a target=\"_blank\" href=https://colab.research.google.com/notebooks/data_table.ipynb>data table notebook</a>'\n",
              "            + ' to learn more about interactive tables.';\n",
              "          element.innerHTML = '';\n",
              "          dataTable['output_type'] = 'display_data';\n",
              "          await google.colab.output.renderOutput(dataTable, element);\n",
              "          const docLink = document.createElement('div');\n",
              "          docLink.innerHTML = docLinkHtml;\n",
              "          element.appendChild(docLink);\n",
              "        }\n",
              "      </script>\n",
              "    </div>\n",
              "  </div>\n",
              "  "
            ]
          },
          "metadata": {},
          "execution_count": 22
        }
      ],
      "source": [
        "data1.head()"
      ]
    },
    {
      "cell_type": "code",
      "execution_count": null,
      "metadata": {
        "colab": {
          "base_uri": "https://localhost:8080/"
        },
        "id": "KwlUwBp-4-8V",
        "outputId": "67d9f1f6-53e8-4944-923b-d29346c72c8c"
      },
      "outputs": [
        {
          "output_type": "execute_result",
          "data": {
            "text/plain": [
              "Index(['yummy', 'convenient', 'spicy', 'fattening', 'greasy', 'fast', 'cheap',\n",
              "       'tasty', 'expensive', 'healthy', 'disgusting'],\n",
              "      dtype='object')"
            ]
          },
          "metadata": {},
          "execution_count": 23
        }
      ],
      "source": [
        "data1.columns"
      ]
    },
    {
      "cell_type": "code",
      "execution_count": null,
      "metadata": {
        "id": "kUBVpUEu5BWm"
      },
      "outputs": [],
      "source": [
        "data2 = data1.copy()"
      ]
    },
    {
      "cell_type": "code",
      "execution_count": null,
      "metadata": {
        "colab": {
          "base_uri": "https://localhost:8080/",
          "height": 424
        },
        "id": "J03XPpsq5Ere",
        "outputId": "4b9c5392-d687-4062-9cd4-01638c9e6323"
      },
      "outputs": [
        {
          "output_type": "execute_result",
          "data": {
            "text/plain": [
              "      yummy  convenient  spicy  fattening  greasy  fast  cheap  tasty  \\\n",
              "0         0           1      0          1       0     1      1      0   \n",
              "1         1           1      0          1       1     1      1      1   \n",
              "2         0           1      1          1       1     1      0      1   \n",
              "3         1           1      0          1       1     1      1      1   \n",
              "4         0           1      0          1       1     1      1      0   \n",
              "...     ...         ...    ...        ...     ...   ...    ...    ...   \n",
              "1448      0           1      0          1       1     0      0      0   \n",
              "1449      1           1      0          1       0     0      1      1   \n",
              "1450      1           1      0          1       0     1      0      1   \n",
              "1451      1           1      0          0       0     1      1      1   \n",
              "1452      0           1      0          1       1     0      0      0   \n",
              "\n",
              "      expensive  healthy  disgusting          Like  Age      VisitFrequency  \\\n",
              "0             1        0           0            -3   61  Every three months   \n",
              "1             1        0           0            +2   51  Every three months   \n",
              "2             1        1           0            +1   62  Every three months   \n",
              "3             0        0           1            +4   69         Once a week   \n",
              "4             0        1           0            +2   49        Once a month   \n",
              "...         ...      ...         ...           ...  ...                 ...   \n",
              "1448          1        0           1  I hate it!-5   47         Once a year   \n",
              "1449          0        1           0            +2   36         Once a week   \n",
              "1450          1        0           0            +3   52        Once a month   \n",
              "1451          0        1           0            +4   41  Every three months   \n",
              "1452          1        0           1            -3   30  Every three months   \n",
              "\n",
              "      Gender  \n",
              "0     Female  \n",
              "1     Female  \n",
              "2     Female  \n",
              "3     Female  \n",
              "4       Male  \n",
              "...      ...  \n",
              "1448    Male  \n",
              "1449  Female  \n",
              "1450  Female  \n",
              "1451    Male  \n",
              "1452    Male  \n",
              "\n",
              "[1453 rows x 15 columns]"
            ],
            "text/html": [
              "\n",
              "  <div id=\"df-1dd222f9-b62e-4af1-88c0-5f253a8bb3e2\">\n",
              "    <div class=\"colab-df-container\">\n",
              "      <div>\n",
              "<style scoped>\n",
              "    .dataframe tbody tr th:only-of-type {\n",
              "        vertical-align: middle;\n",
              "    }\n",
              "\n",
              "    .dataframe tbody tr th {\n",
              "        vertical-align: top;\n",
              "    }\n",
              "\n",
              "    .dataframe thead th {\n",
              "        text-align: right;\n",
              "    }\n",
              "</style>\n",
              "<table border=\"1\" class=\"dataframe\">\n",
              "  <thead>\n",
              "    <tr style=\"text-align: right;\">\n",
              "      <th></th>\n",
              "      <th>yummy</th>\n",
              "      <th>convenient</th>\n",
              "      <th>spicy</th>\n",
              "      <th>fattening</th>\n",
              "      <th>greasy</th>\n",
              "      <th>fast</th>\n",
              "      <th>cheap</th>\n",
              "      <th>tasty</th>\n",
              "      <th>expensive</th>\n",
              "      <th>healthy</th>\n",
              "      <th>disgusting</th>\n",
              "      <th>Like</th>\n",
              "      <th>Age</th>\n",
              "      <th>VisitFrequency</th>\n",
              "      <th>Gender</th>\n",
              "    </tr>\n",
              "  </thead>\n",
              "  <tbody>\n",
              "    <tr>\n",
              "      <th>0</th>\n",
              "      <td>0</td>\n",
              "      <td>1</td>\n",
              "      <td>0</td>\n",
              "      <td>1</td>\n",
              "      <td>0</td>\n",
              "      <td>1</td>\n",
              "      <td>1</td>\n",
              "      <td>0</td>\n",
              "      <td>1</td>\n",
              "      <td>0</td>\n",
              "      <td>0</td>\n",
              "      <td>-3</td>\n",
              "      <td>61</td>\n",
              "      <td>Every three months</td>\n",
              "      <td>Female</td>\n",
              "    </tr>\n",
              "    <tr>\n",
              "      <th>1</th>\n",
              "      <td>1</td>\n",
              "      <td>1</td>\n",
              "      <td>0</td>\n",
              "      <td>1</td>\n",
              "      <td>1</td>\n",
              "      <td>1</td>\n",
              "      <td>1</td>\n",
              "      <td>1</td>\n",
              "      <td>1</td>\n",
              "      <td>0</td>\n",
              "      <td>0</td>\n",
              "      <td>+2</td>\n",
              "      <td>51</td>\n",
              "      <td>Every three months</td>\n",
              "      <td>Female</td>\n",
              "    </tr>\n",
              "    <tr>\n",
              "      <th>2</th>\n",
              "      <td>0</td>\n",
              "      <td>1</td>\n",
              "      <td>1</td>\n",
              "      <td>1</td>\n",
              "      <td>1</td>\n",
              "      <td>1</td>\n",
              "      <td>0</td>\n",
              "      <td>1</td>\n",
              "      <td>1</td>\n",
              "      <td>1</td>\n",
              "      <td>0</td>\n",
              "      <td>+1</td>\n",
              "      <td>62</td>\n",
              "      <td>Every three months</td>\n",
              "      <td>Female</td>\n",
              "    </tr>\n",
              "    <tr>\n",
              "      <th>3</th>\n",
              "      <td>1</td>\n",
              "      <td>1</td>\n",
              "      <td>0</td>\n",
              "      <td>1</td>\n",
              "      <td>1</td>\n",
              "      <td>1</td>\n",
              "      <td>1</td>\n",
              "      <td>1</td>\n",
              "      <td>0</td>\n",
              "      <td>0</td>\n",
              "      <td>1</td>\n",
              "      <td>+4</td>\n",
              "      <td>69</td>\n",
              "      <td>Once a week</td>\n",
              "      <td>Female</td>\n",
              "    </tr>\n",
              "    <tr>\n",
              "      <th>4</th>\n",
              "      <td>0</td>\n",
              "      <td>1</td>\n",
              "      <td>0</td>\n",
              "      <td>1</td>\n",
              "      <td>1</td>\n",
              "      <td>1</td>\n",
              "      <td>1</td>\n",
              "      <td>0</td>\n",
              "      <td>0</td>\n",
              "      <td>1</td>\n",
              "      <td>0</td>\n",
              "      <td>+2</td>\n",
              "      <td>49</td>\n",
              "      <td>Once a month</td>\n",
              "      <td>Male</td>\n",
              "    </tr>\n",
              "    <tr>\n",
              "      <th>...</th>\n",
              "      <td>...</td>\n",
              "      <td>...</td>\n",
              "      <td>...</td>\n",
              "      <td>...</td>\n",
              "      <td>...</td>\n",
              "      <td>...</td>\n",
              "      <td>...</td>\n",
              "      <td>...</td>\n",
              "      <td>...</td>\n",
              "      <td>...</td>\n",
              "      <td>...</td>\n",
              "      <td>...</td>\n",
              "      <td>...</td>\n",
              "      <td>...</td>\n",
              "      <td>...</td>\n",
              "    </tr>\n",
              "    <tr>\n",
              "      <th>1448</th>\n",
              "      <td>0</td>\n",
              "      <td>1</td>\n",
              "      <td>0</td>\n",
              "      <td>1</td>\n",
              "      <td>1</td>\n",
              "      <td>0</td>\n",
              "      <td>0</td>\n",
              "      <td>0</td>\n",
              "      <td>1</td>\n",
              "      <td>0</td>\n",
              "      <td>1</td>\n",
              "      <td>I hate it!-5</td>\n",
              "      <td>47</td>\n",
              "      <td>Once a year</td>\n",
              "      <td>Male</td>\n",
              "    </tr>\n",
              "    <tr>\n",
              "      <th>1449</th>\n",
              "      <td>1</td>\n",
              "      <td>1</td>\n",
              "      <td>0</td>\n",
              "      <td>1</td>\n",
              "      <td>0</td>\n",
              "      <td>0</td>\n",
              "      <td>1</td>\n",
              "      <td>1</td>\n",
              "      <td>0</td>\n",
              "      <td>1</td>\n",
              "      <td>0</td>\n",
              "      <td>+2</td>\n",
              "      <td>36</td>\n",
              "      <td>Once a week</td>\n",
              "      <td>Female</td>\n",
              "    </tr>\n",
              "    <tr>\n",
              "      <th>1450</th>\n",
              "      <td>1</td>\n",
              "      <td>1</td>\n",
              "      <td>0</td>\n",
              "      <td>1</td>\n",
              "      <td>0</td>\n",
              "      <td>1</td>\n",
              "      <td>0</td>\n",
              "      <td>1</td>\n",
              "      <td>1</td>\n",
              "      <td>0</td>\n",
              "      <td>0</td>\n",
              "      <td>+3</td>\n",
              "      <td>52</td>\n",
              "      <td>Once a month</td>\n",
              "      <td>Female</td>\n",
              "    </tr>\n",
              "    <tr>\n",
              "      <th>1451</th>\n",
              "      <td>1</td>\n",
              "      <td>1</td>\n",
              "      <td>0</td>\n",
              "      <td>0</td>\n",
              "      <td>0</td>\n",
              "      <td>1</td>\n",
              "      <td>1</td>\n",
              "      <td>1</td>\n",
              "      <td>0</td>\n",
              "      <td>1</td>\n",
              "      <td>0</td>\n",
              "      <td>+4</td>\n",
              "      <td>41</td>\n",
              "      <td>Every three months</td>\n",
              "      <td>Male</td>\n",
              "    </tr>\n",
              "    <tr>\n",
              "      <th>1452</th>\n",
              "      <td>0</td>\n",
              "      <td>1</td>\n",
              "      <td>0</td>\n",
              "      <td>1</td>\n",
              "      <td>1</td>\n",
              "      <td>0</td>\n",
              "      <td>0</td>\n",
              "      <td>0</td>\n",
              "      <td>1</td>\n",
              "      <td>0</td>\n",
              "      <td>1</td>\n",
              "      <td>-3</td>\n",
              "      <td>30</td>\n",
              "      <td>Every three months</td>\n",
              "      <td>Male</td>\n",
              "    </tr>\n",
              "  </tbody>\n",
              "</table>\n",
              "<p>1453 rows × 15 columns</p>\n",
              "</div>\n",
              "      <button class=\"colab-df-convert\" onclick=\"convertToInteractive('df-1dd222f9-b62e-4af1-88c0-5f253a8bb3e2')\"\n",
              "              title=\"Convert this dataframe to an interactive table.\"\n",
              "              style=\"display:none;\">\n",
              "        \n",
              "  <svg xmlns=\"http://www.w3.org/2000/svg\" height=\"24px\"viewBox=\"0 0 24 24\"\n",
              "       width=\"24px\">\n",
              "    <path d=\"M0 0h24v24H0V0z\" fill=\"none\"/>\n",
              "    <path d=\"M18.56 5.44l.94 2.06.94-2.06 2.06-.94-2.06-.94-.94-2.06-.94 2.06-2.06.94zm-11 1L8.5 8.5l.94-2.06 2.06-.94-2.06-.94L8.5 2.5l-.94 2.06-2.06.94zm10 10l.94 2.06.94-2.06 2.06-.94-2.06-.94-.94-2.06-.94 2.06-2.06.94z\"/><path d=\"M17.41 7.96l-1.37-1.37c-.4-.4-.92-.59-1.43-.59-.52 0-1.04.2-1.43.59L10.3 9.45l-7.72 7.72c-.78.78-.78 2.05 0 2.83L4 21.41c.39.39.9.59 1.41.59.51 0 1.02-.2 1.41-.59l7.78-7.78 2.81-2.81c.8-.78.8-2.07 0-2.86zM5.41 20L4 18.59l7.72-7.72 1.47 1.35L5.41 20z\"/>\n",
              "  </svg>\n",
              "      </button>\n",
              "      \n",
              "  <style>\n",
              "    .colab-df-container {\n",
              "      display:flex;\n",
              "      flex-wrap:wrap;\n",
              "      gap: 12px;\n",
              "    }\n",
              "\n",
              "    .colab-df-convert {\n",
              "      background-color: #E8F0FE;\n",
              "      border: none;\n",
              "      border-radius: 50%;\n",
              "      cursor: pointer;\n",
              "      display: none;\n",
              "      fill: #1967D2;\n",
              "      height: 32px;\n",
              "      padding: 0 0 0 0;\n",
              "      width: 32px;\n",
              "    }\n",
              "\n",
              "    .colab-df-convert:hover {\n",
              "      background-color: #E2EBFA;\n",
              "      box-shadow: 0px 1px 2px rgba(60, 64, 67, 0.3), 0px 1px 3px 1px rgba(60, 64, 67, 0.15);\n",
              "      fill: #174EA6;\n",
              "    }\n",
              "\n",
              "    [theme=dark] .colab-df-convert {\n",
              "      background-color: #3B4455;\n",
              "      fill: #D2E3FC;\n",
              "    }\n",
              "\n",
              "    [theme=dark] .colab-df-convert:hover {\n",
              "      background-color: #434B5C;\n",
              "      box-shadow: 0px 1px 3px 1px rgba(0, 0, 0, 0.15);\n",
              "      filter: drop-shadow(0px 1px 2px rgba(0, 0, 0, 0.3));\n",
              "      fill: #FFFFFF;\n",
              "    }\n",
              "  </style>\n",
              "\n",
              "      <script>\n",
              "        const buttonEl =\n",
              "          document.querySelector('#df-1dd222f9-b62e-4af1-88c0-5f253a8bb3e2 button.colab-df-convert');\n",
              "        buttonEl.style.display =\n",
              "          google.colab.kernel.accessAllowed ? 'block' : 'none';\n",
              "\n",
              "        async function convertToInteractive(key) {\n",
              "          const element = document.querySelector('#df-1dd222f9-b62e-4af1-88c0-5f253a8bb3e2');\n",
              "          const dataTable =\n",
              "            await google.colab.kernel.invokeFunction('convertToInteractive',\n",
              "                                                     [key], {});\n",
              "          if (!dataTable) return;\n",
              "\n",
              "          const docLinkHtml = 'Like what you see? Visit the ' +\n",
              "            '<a target=\"_blank\" href=https://colab.research.google.com/notebooks/data_table.ipynb>data table notebook</a>'\n",
              "            + ' to learn more about interactive tables.';\n",
              "          element.innerHTML = '';\n",
              "          dataTable['output_type'] = 'display_data';\n",
              "          await google.colab.output.renderOutput(dataTable, element);\n",
              "          const docLink = document.createElement('div');\n",
              "          docLink.innerHTML = docLinkHtml;\n",
              "          element.appendChild(docLink);\n",
              "        }\n",
              "      </script>\n",
              "    </div>\n",
              "  </div>\n",
              "  "
            ]
          },
          "metadata": {},
          "execution_count": 25
        }
      ],
      "source": [
        "data1 = dataset.replace(to_replace = ['Yes','No'],value = [1,0])\n",
        "data1"
      ]
    },
    {
      "cell_type": "code",
      "execution_count": null,
      "metadata": {
        "colab": {
          "base_uri": "https://localhost:8080/",
          "height": 487
        },
        "id": "Pin324fF5JHK",
        "outputId": "47a5c85a-6271-4637-c01c-e4d567f9b72a"
      },
      "outputs": [
        {
          "output_type": "display_data",
          "data": {
            "text/plain": [
              "<Figure size 504x504 with 2 Axes>"
            ],
            "image/png": "[encoded data removed]"
          },
          "metadata": {}
        }
      ],
      "source": [
        "plt.figure(figsize=(7,7))\n",
        "sns.heatmap(data1.corr(), annot=True, cmap=\"PiYG\")\n",
        "plt.show()"
      ]
    },
    {
      "cell_type": "code",
      "execution_count": null,
      "metadata": {
        "id": "wLIBgKEf5LNd"
      },
      "outputs": [],
      "source": [
        "for col in (data2.columns):\n",
        "    data2[col] = data2[col].map({'Yes':1, 'No':0})"
      ]
    },
    {
      "cell_type": "code",
      "execution_count": null,
      "metadata": {
        "colab": {
          "base_uri": "https://localhost:8080/"
        },
        "id": "sh3eydu45Ogz",
        "outputId": "bf01619b-ba33-4418-ade7-1c4b7b97d228"
      },
      "outputs": [
        {
          "output_type": "execute_result",
          "data": {
            "text/plain": [
              "yummy         0.552650\n",
              "convenient    0.907777\n",
              "spicy         0.093599\n",
              "fattening     0.867171\n",
              "greasy        0.526497\n",
              "fast          0.900206\n",
              "cheap         0.598761\n",
              "tasty         0.644184\n",
              "expensive     0.357880\n",
              "healthy       0.198899\n",
              "disgusting    0.242946\n",
              "dtype: float64"
            ]
          },
          "metadata": {},
          "execution_count": 28
        }
      ],
      "source": [
        "data2.mean()"
      ]
    },
    {
      "cell_type": "markdown",
      "metadata": {
        "id": "xdB2IPIsB1-1"
      },
      "source": [
        "**Principal Component Analysis (PCA)**"
      ]
    },
    {
      "cell_type": "code",
      "execution_count": null,
      "metadata": {
        "id": "KeE3Kazc5S2B"
      },
      "outputs": [],
      "source": [
        "import plotly.express as px\n",
        "from sklearn.decomposition import PCA\n",
        "from sklearn.preprocessing import StandardScaler"
      ]
    },
    {
      "cell_type": "code",
      "execution_count": null,
      "metadata": {
        "colab": {
          "base_uri": "https://localhost:8080/",
          "height": 542
        },
        "id": "BG8TE3RQ5gaF",
        "outputId": "43465f61-3dc0-4279-f3c3-2381c3bbc527"
      },
      "outputs": [
        {
          "output_type": "display_data",
          "data": {
            "text/html": [
              "<html>\n",
              "<head><meta charset=\"utf-8\" /></head>\n",
              "<body>\n",
              "    <div>            <script src=\"https://cdnjs.cloudflare.com/ajax/libs/mathjax/2.7.5/MathJax.js?config=TeX-AMS-MML_SVG\"></script><script type=\"text/javascript\">if (window.MathJax) {MathJax.Hub.Config({SVG: {font: \"STIX-Web\"}});}</script>                <script type=\"text/javascript\">window.PlotlyConfig = {MathJaxConfig: 'local'};</script>\n",
              "        <script src=\"https://cdn.plot.ly/plotly-2.8.3.min.js\"></script>                <div id=\"bed403c4-c8b7-4c49-85df-18a8b91e8aec\" class=\"plotly-graph-div\" style=\"height:525px; width:100%;\"></div>            <script type=\"text/javascript\">                                    window.PLOTLYENV=window.PLOTLYENV || {};                                    if (document.getElementById(\"bed403c4-c8b7-4c49-85df-18a8b91e8aec\")) {                    Plotly.newPlot(                        \"bed403c4-c8b7-4c49-85df-18a8b91e8aec\",                        [{\"hovertemplate\":\"0=%{x}<br>1=%{y}<extra></extra>\",\"legendgroup\":\"\",\"marker\":{\"color\":\"#636efa\",\"symbol\":\"circle\"},\"mode\":\"markers\",\"name\":\"\",\"showlegend\":false,\"x\":[0.4253670557968473,-0.21863768045159743,0.3754147523306394,-0.17292648285263063,0.18705739953186332,-0.8521221082036452,-0.40596143342898655,-0.5476794122116482,1.7055734494762513,0.11854824465940646,0.47107825339580844,0.49330117401842394,0.09632532403679088,-0.3996050718295148,0.7625529809078454,-0.8521221082036452,-0.5476794122116482,-0.32672517112415805,1.2598942710479057,0.49330117401842394,0.49330117401842394,-0.523080376443594,0.14975888730794873,-0.1922508129320621,-1.0658327287005696,0.2528762620212097,-0.1729264828526306,0.05272938217005996,0.3172795651242812,-1.0658327287005696,-0.5476794122116482,-0.7051309229564537,-0.5476794122116482,0.7755209493878051,-1.0658327287005696,0.7755209493878051,-1.0658327287005696,0.7755209493878051,0.9308525392878548,1.5970801961589096,0.07793039188480086,-1.0658327287005696,-1.0721890903000413,-0.5149361830926414,0.7755209493878051,-0.0639517331889757,-0.36794499784545026,-0.18589445133259042,-0.8521221082036452,-0.5476794122116482,1.435392244659388,-0.07616546973884122,0.11854824465940646,1.137305910266863,-1.1820644127240827,-0.37518861843601603,0.7755209493878051,0.4007680200287878,-0.8521221082036452,-0.5476794122116482,-0.21049348710064456,-0.7613900327085726,-1.0658327287005696,1.0669956768998428,-0.5476794122116482,1.2926375001669124,0.754814550201674,-0.0639517331889757,-0.5888992389329405,-0.8521221082036452,-0.11738529646013365,-1.1820644127240827,0.39953229175238025,-0.07074592244401924,-1.1820644127240827,1.5502418595762018,-0.8521221082036452,0.7625529809078454,0.11219188305993481,-1.1820644127240827,1.1127068744988087,-0.37518861843601603,-0.37518861843601603,-1.1820644127240827,0.750813324327085,-0.9683537922271582,0.15611524890742037,0.7039749877443771,-0.18589445133259042,-0.5294367380430658,-0.8521221082036452,-0.1729264828526306,1.7055734494762513,-0.37518861843601603,-0.7613900327085726,-0.21049348710064456,-0.07074592244401924,0.7379539451397913,1.0669956768998428,-0.8521221082036452,0.4007680200287878,0.11854824465940646,-0.0639517331889757,-0.8584784698031167,-0.5149361830926414,0.7625529809078454,0.6017944273357659,0.5420045024651361,-0.8521221082036452,0.4007680200287878,0.5356481408656645,-0.5158367558530282,1.7055734494762513,-0.18589445133259042,1.175488930217184,0.09632532403679088,-0.7677463943080443,-1.0658327287005696,0.7755209493878051,0.4007680200287878,-1.1820644127240827,-0.22499404205106885,-0.3996050718295148,0.47107825339580844,-0.5476794122116482,0.2910390384350385,0.47107825339580844,-0.8521221082036452,0.18705739953186332,-0.1729264828526306,-0.019906359986722317,0.7625529809078454,-0.8521221082036452,-0.5476794122116482,-0.07074592244401924,0.8469286948034461,-0.8521221082036452,-0.8521221082036452,-0.43918615889430646,-0.5476794122116482,-0.37518861843601603,0.7755209493878051,0.7625529809078454,0.3040070069149983,-0.3923478223115986,-0.8521221082036452,0.11854824465940646,-0.3996050718295148,1.44174860625886,0.11854824465940646,1.7055734494762513,-1.1820644127240827,0.11854824465940646,-0.8521221082036452,-0.5540357738111198,-0.5476794122116482,-0.49142030245952945,0.11854824465940646,0.11854824465940646,0.5092612733461295,-0.07074592244401924,1.5970801961589096,-1.1820644127240827,1.5970801961589096,-1.1820644127240827,-1.1820644127240827,0.9444076312768575,-0.18589445133259042,-0.8521221082036452,-0.095162375837518,-0.095162375837518,-0.5149361830926414,-0.1729264828526306,0.4475626879207542,1.44174860625886,1.44174860625886,0.7755209493878051,1.2926375001669124,-0.42420410759756905,0.3172795651242812,0.9702346637860529,0.14113594887537065,0.9244961776883831,0.7755209493878051,0.15611524890742037,0.7625529809078454,-0.37518861843601603,0.09632532403679088,0.7755209493878051,-0.3806081657308381,-0.18589445133259042,-0.5476794122116482,-0.5476794122116482,-0.5476794122116482,-0.7613900327085726,0.7379539451397913,0.4007680200287878,1.7055734494762513,-0.37518861843601603,-0.5476794122116482,-1.1820644127240827,-1.0721890903000413,0.5954817344270353,0.7755209493878051,0.08996896243731921,1.7055734494762513,-0.37518861843601603,1.590723834559438,1.54388549797673,1.137305910266863,-0.37518861843601603,1.44174860625886,-0.5540357738111198,-0.5476794122116482,-0.6311678671161545,0.27323419192202797,1.0393457926051968,-1.0658327287005696,0.273879834559456,0.09632532403679088,-0.49142030245952945,-0.10200023378330288,-0.8521221082036452,1.137305910266863,-0.6974361609410236,-0.07074592244401924,0.5891253728275638,-0.8521221082036452,1.0669956768998428,-0.5476794122116482,-0.8521221082036452,-0.5476794122116482,-0.8776217167320859,0.7755209493878051,-1.1820644127240827,0.09632532403679088,-1.1884207743235546,1.2926375001669124,0.3667890626333736,-0.8521221082036452,1.2926375001669124,0.7755209493878051,1.5970801961589096,0.13542522991332703,-0.3021261353561037,-0.11738529646013365,0.9444076312768575,-0.7613900327085726,0.11854824465940646,-1.1820644127240827,1.435392244659388,-0.3869645273303098,-0.8521221082036452,0.11854824465940646,-1.0658327287005696,-0.8584784698031167,-0.07074592244401924,0.09632532403679088,-1.1820644127240827,-0.8521221082036452,-0.5149361830926414,-0.28445654294094375,-0.18589445133259042,0.5560996099288373,0.3040070069149983,0.9118556331891785,0.39441165842931597,-0.7031468799030675,-1.0658327287005696,-0.1729264828526306,0.3040070069149983,0.11854824465940646,-0.8521221082036452,-0.5476794122116482,0.4007680200287878,1.0669956768998428,0.09632532403679088,-0.5476794122116482,-0.5476794122116482,0.09632532403679088,1.6992170878767796,-0.7613900327085726,0.22704149797674822,0.11219188305993481,-0.6967905183035955,-0.5476794122116482,0.917884570807895,1.5970801961589096,0.7755209493878051,0.3172795651242812,0.25165691393684037,-0.21049348710064456,0.7625529809078454,0.5891253728275638,0.09632532403679088,-0.37518861843601603,-0.28445654294094375,-0.07616546973884122,-0.18589445133259042,-0.5158367558530282,-0.957339475383228,0.11854824465940646,0.11854824465940646,0.22704149797674822,0.2910390384350385,-0.3996050718295148,0.28561949114021645,-0.8521221082036452,0.6408943332123019,-1.0658327287005696,1.7055734494762513,0.4007680200287878,-0.8521221082036452,-0.5476794122116482,-0.07074592244401924,-0.18589445133259042,-1.0658327287005696,-0.28445654294094375,-0.5476794122116482,0.09632532403679088,1.5970801961589096,-0.8530226809640316,-0.5149361830926414,-0.18589445133259042,-0.23361698048364699,-1.0658327287005696,-0.37518861843601603,0.26102045537216245,-0.29111181851217327,0.10445345235376331,-0.3923478223115986,0.7755209493878051,-1.1820644127240827,-0.5476794122116482,-0.37518861843601603,0.4007680200287878,-0.8521221082036452,1.2212001278161506,0.47107825339580844,0.3749332559843261,-0.9105011388005202,-1.1820644127240827,-0.3021261353561037,1.1127068744988087,-0.8521221082036452,-0.1729264828526306,-0.8521221082036452,-0.3996050718295148,-0.07740119801524876,-0.5476794122116482,-0.18589445133259042,-0.21863768045159715,-0.03800269332501249,-1.1884207743235546,0.3040070069149983,0.22704149797674822,-0.8521221082036452,0.49330117401842394,-0.21863768045159715,1.5502418595762018,0.4007680200287878,0.3770694899949108,-0.7051309229564537,-0.8521221082036452,-0.07740119801524876,0.3358496632736183,-0.18589445133259042,-0.21684984870011623,-0.07074592244401924,-1.0658327287005696,-0.49142030245952945,0.2206851363772764,0.11854824465940646,-0.9683537922271582,0.11854824465940646,-0.15423437734852577,-1.0735711594067412,-0.3806081657308381,0.11219188305993481,0.8082641785068121,0.3941127444575582,1.44174860625886,-0.5476794122116482,-0.5476794122116482,0.7755209493878051,0.11854824465940646,-0.6311678671161545,-0.5476794122116482,0.7625529809078454,-0.043422240619834525,-0.5476794122116482,0.6017944273357659,1.137305910266863,0.626409843295858,0.08458566745603036,0.7755209493878051,0.09632532403679088,-0.8521221082036452,-0.5476794122116482,0.09632532403679088,-0.5149361830926414,-0.7051309229564537,-0.18589445133259042,0.4007680200287878,-1.1820644127240827,0.7755209493878051,1.2926375001669124,0.11219188305993481,-0.5476794122116482,-0.18589445133259042,-0.3806081657308381,-0.5476794122116482,-0.8521221082036452,0.11854824465940646,-1.1884207743235546,1.2598942710479057,0.11854824465940646,0.42715488754832287,-0.38154498003548765,-1.1820644127240827,0.5488423604109209,0.11854824465940646,-0.29111181851217327,-0.9683537922271582,-1.1820644127240827,1.44174860625886,-1.0658327287005696,1.5970801961589096,0.09632532403679088,-0.0639517331889757,0.9702346637860529,1.2598942710479057,-0.38663710334955514,0.49330117401842394,0.8710462342251872,0.6985554404495551,0.16425944225837302,0.2910390384350385,0.4326106763874077,-0.21049348710064456,-0.37518861843601603,0.09632532403679088,-0.6702674578346332,-1.0735711594067412,-1.1820644127240827,0.14975888730794873,-0.5476794122116482,-1.1820644127240827,-1.1820644127240827,-0.43870466254799323,-0.18589445133259042,0.7625529809078454,0.17480735441152526,-0.18589445133259042,0.4007680200287878,-0.03800269332501249,0.7379539451397913,1.44174860625886,-0.18589445133259042,-0.11738529646013365,0.2528762620212097,1.0669956768998428,-0.5476794122116482,-0.8521221082036452,-0.8521221082036452,-0.8521221082036452,0.09632532403679088,-0.5476794122116482,-0.8521221082036452,0.7755209493878051,-0.9683537922271582,-0.5476794122116482,-0.5476794122116482,-0.0639517331889757,0.9308525392878548,-0.7613900327085726,0.9308525392878548,1.54388549797673,-0.5476794122116482,-0.4136998641351582,0.16845099281205353,-0.7613900327085726,-0.095162375837518,-1.1820644127240827,0.2910390384350385,-1.0658327287005696,0.4647218917963368,0.11854824465940646,-0.0639517331889757,0.7370533723794046,-0.5476794122116482,-0.8521221082036452,0.11854824465940646,1.2223272667998917,0.4007680200287878,1.1127068744988087,0.11854824465940646,-0.8521221082036452,-0.095162375837518,-0.5476794122116482,0.11854824465940646,-1.0658327287005696,0.11219188305993481,-1.1820644127240827,1.1045626811478564,0.665791967794056,-0.5476794122116482,-1.1820644127240827,-0.3996050718295148,-0.8584784698031167,-0.5476794122116482,-1.0658327287005696,-1.0658327287005696,-0.18589445133259042,0.11854824465940646,-0.21049348710064456,-0.5476794122116482,0.2910390384350385,-1.1820644127240827,0.7565240432891283,1.0669956768998428,1.2603000336926866,-1.1820644127240827,-0.8521221082036452,-0.5476794122116482,-0.11738529646013365,1.2598942710479057,-0.8584784698031167,-0.7613900327085726,-0.5158367558530282,-1.0658327287005696,0.2910390384350385,0.4007680200287878,-0.18589445133259042,0.8464471984571331,-0.7286468035895659,-0.37518861843601603,-0.5476794122116482,-0.21049348710064456,0.2845363360052745,1.44174860625886,0.49330117401842394,0.45208134729713156,0.4007680200287878,-0.36050516595297866,-0.37518861843601603,-0.8521221082036452,-0.18589445133259042,-0.21863768045159715,1.44174860625886,0.09632532403679088,-0.3806081657308381,-0.8521221082036452,-0.9683537922271582,1.5970801961589096,-0.8521221082036452,-0.5476794122116482,0.3040070069149983,0.7755209493878051,-0.37518861843601603,-0.5221931174524997,-0.8521221082036452,0.1612226354874017,-0.8598605389098168,1.5502418595762018,-0.8521221082036452,0.7755209493878051,-1.0721890903000413,0.14113594887537065,-0.5476794122116482,0.5954817344270353,-0.5476794122116482,0.2910390384350385,0.09632532403679088,-0.5476794122116482,1.175488930217184,1.2223272667998917,-0.7677463943080443,-0.03800269332501249,0.11854824465940646,1.5502418595762018,-0.1729264828526306,0.09632532403679088,0.11854824465940646,1.0461836505509816,-0.5476794122116482,-0.5476794122116482,-0.43918615889430646,-0.4073435025356864,0.47107825339580844,-0.7436288548863034,-1.0658327287005696,0.7755209493878051,0.5242433246428669,0.09632532403679088,0.03822882721963568,-0.5540357738111198,1.7055734494762513,0.7755209493878051,-1.0658327287005696,-0.07074592244401924,0.4007680200287878,1.44174860625886,0.47107825339580844,0.4007680200287878,-0.8521221082036452,0.11854824465940646,-0.8521221082036452,1.284899069460741,0.47107825339580844,0.3303938744345335,-0.019906359986722317,0.47107825339580844,0.09632532403679088,-0.03800269332501249,-0.8521221082036452,-0.5888992389329405,-0.37518861843601603,-0.6393120604671072,-0.07074592244401924,0.7755209493878051,-0.18589445133259042,-1.0658327287005696,0.4007680200287878,-1.1820644127240827,0.5954817344270353,-0.37518861843601603,0.9308525392878548,-0.8521221082036452,1.5502418595762018,-0.521292544692113,-0.8521221082036452,1.5970801961589096,-0.1596539246433478,-0.5149361830926414,-0.49142030245952945,0.4007680200287878,0.45088224274925476,-0.8521221082036452,0.11854824465940646,-0.8521221082036452,-0.5476794122116482,0.7755209493878051,-0.8521221082036452,1.137305910266863,1.4011307534842543,-0.8521221082036452,0.22704149797674822,-0.8584784698031167,-0.18589445133259042,0.06958998723194243,-0.18589445133259042,-1.1820644127240827,0.5811044083416724,-0.9683537922271582,-0.8521221082036452,-0.5476794122116482,0.7755209493878051,0.22704149797674822,0.11854824465940646,-0.5149361830926414,1.1045626811478564,-0.7613900327085726,0.665791967794056,-0.5476794122116482,-0.5149361830926414,1.284899069460741,0.9702346637860529,-0.8776217167320859,0.11854824465940646,0.7755209493878051,0.18070103793239162,-1.0658327287005696,0.11854824465940646,-0.5476794122116482,-1.0658327287005696,-0.07616546973884122,0.5891253728275638,-1.1820644127240827,1.7055734494762513,-1.0658327287005696,-0.5476794122116482,0.11854824465940646,-0.8521221082036452,-0.043422240619834525,0.5900621871322134,-0.8521221082036452,-0.7436288548863034,-0.8521221082036452,0.7755209493878051,1.4011307534842543,0.7755209493878051,-0.04432281338022123,-0.5476794122116482,-0.8839780783315574,1.0669956768998428,0.754814550201674,-0.1729264828526306,-0.5476794122116482,0.7755209493878051,1.7055734494762513,-0.5476794122116482,1.44174860625886,-0.21863768045159715,0.07082571550835001,1.5502418595762018,0.626409843295858,-0.5476794122116482,-0.8521221082036452,-0.37518861843601603,-0.8521221082036452,0.11219188305993481,1.175488930217184,-0.8521221082036452,0.4007680200287878,-0.8521221082036452,0.626409843295858,0.7171419187909305,-1.0658327287005696,-1.0658327287005696,-1.1884207743235546,0.8082641785068121,-0.5476794122116482,0.09632532403679088,-0.7613900327085726,0.4007680200287878,0.11854824465940646,-0.37518861843601603,0.7625529809078454,0.659289265364292,0.26102045537216245,-0.18589445133259042,0.4007680200287878,-0.37518861843601603,0.7625529809078454,1.5970801961589096,1.0669956768998428,-0.057595371589504056,0.09632532403679088,-0.1792828444521023,-0.1729264828526306,-0.5476794122116482,0.4007680200287878,-0.18138283691842394,-0.5476794122116482,-0.5476794122116482,-0.07074592244401924,-0.7613900327085726,0.09632532403679088,0.9702346637860529,0.7298097517888388,1.130949548667391,1.5970801961589096,0.5900621871322134,-0.5476794122116482,0.6330487386750493,-0.40596143342898655,0.09632532403679088,0.7625529809078454,1.5970801961589096,-1.0658327287005696,-0.2908129045404153,1.5502418595762018,0.2519394477165601,-0.5476794122116482,-1.1820644127240827,-0.29111181851217327,0.7755209493878051,0.8082641785068121,0.3040070069149983,-0.8521221082036452,-0.18589445133259042,0.6985554404495551,-0.8521221082036452,-0.8521221082036452,0.039165641524285345,0.11854824465940646,-0.07710228404349091,-0.043422240619834525,-0.11738529646013365,-0.18589445133259042,-0.07740119801524876,0.6348365704265305,0.29765064531552665,-0.6895468977130297,0.11854824465940646,-0.3996050718295148,-0.18589445133259042,0.9308525392878548,0.9648151164912313,1.44174860625886,-0.5476794122116482,-0.3996050718295148,-0.7613900327085726,0.2664400026669843,-1.1884207743235546,0.4007680200287878,0.3172795651242812,-1.0658327287005696,-0.18589445133259042,0.39441165842931597,1.0393457926051968,0.5811044083416724,1.44174860625886,-0.5476794122116482,1.1127068744988087,-0.18589445133259042,-0.07710228404349091,0.8710462342251872,-0.10200023378330288,1.175488930217184,0.15764815053594275,-0.18589445133259042,-0.8521221082036452,0.5420045024651361,0.750813324327085,0.5954817344270353,-0.8521221082036452,1.0669956768998428,0.47107825339580844,1.0669956768998428,0.7755209493878051,0.2131456682376984,-0.18589445133259042,-1.1884207743235546,-0.5149361830926414,0.09632532403679088,-0.5476794122116482,0.853285056402918,-1.0658327287005696,0.11854824465940646,1.5970801961589096,-0.18589445133259042,0.18705739953186332,0.42625431478793613,0.4007680200287878,0.7755209493878051,-0.07710228404349091,-0.38154498003548765,-0.8521221082036452,-1.0658327287005696,-0.5149361830926414,1.0669956768998428,0.47107825339580844,-0.5476794122116482,-0.7613900327085726,-0.095162375837518,-0.8521221082036452,1.44174860625886,1.44174860625886,-0.8521221082036452,-0.8521221082036452,0.5811044083416724,-0.7613900327085726,-1.1820644127240827,0.11854824465940646,1.435392244659388,-0.8521221082036452,-0.5476794122116482,0.5806986456968914,-0.8521221082036452,-0.5540357738111198,-0.37518861843601603,-0.5158367558530282,0.9308525392878548,-1.1820644127240827,-0.3815087384912248,1.7055734494762513,-0.8521221082036452,0.5554539672914093,0.19307892077337202,1.0669956768998428,1.44174860625886,-1.0658327287005696,1.1127068744988087,0.39953229175238025,0.5795715067131499,0.3040070069149983,-0.43234830094852156,-0.43870466254799323,-0.8521221082036452,0.7755209493878051,0.9635957684068612,-0.21863768045159715,-0.9747101538266305,-0.9683537922271582,0.7379539451397913,1.44174860625886,0.7755209493878051,1.156464735619804,1.44174860625886,-0.523080376443594,-0.5149361830926414,1.44174860625886,-0.8521221082036452,-0.8448784876130794,-0.3996050718295148,1.44174860625886,-0.8448784876130794,0.4007680200287878,0.5891253728275638,-0.5476794122116482,1.137305910266863,-0.18589445133259042,-0.37518861843601603,1.1045626811478564,0.9635957684068612,-0.8521221082036452,0.11854824465940646,-0.23361698048364699,-0.0639517331889757,1.44174860625886,0.13542522991332703,-1.1820644127240827,0.09632532403679088,-0.8521221082036452,0.7755209493878051,-0.9683537922271582,-0.1729264828526306,-1.1820644127240827,-0.8130222023271089,0.16938780711670323,-0.18589445133259042,-0.8521221082036452,-0.095162375837518,0.09632532403679088,-0.9683537922271582,-0.8521221082036452,-0.5149361830926414,-1.1820644127240827,-0.5476794122116482,0.11854824465940646,1.1045626811478564,0.7625529809078454,-0.8521221082036452,1.0669956768998428,-0.07710228404349091,-0.07074592244401924,0.9308525392878548,-0.7613900327085726,0.16425944225837302,0.273879834559456,0.5900621871322134,0.09632532403679088,-0.37518861843601603,0.09632532403679088,-0.8521221082036452,-0.37518861843601603,-0.07074592244401924,0.11854824465940646,0.09632532403679088,0.95585733770069,-0.8521221082036452,0.6357733847311801,-0.7613900327085726,0.16845099281205353,0.4007680200287878,-1.1820644127240827,0.7755209493878051,0.09632532403679088,-0.5158367558530282,-0.21049348710064456,-0.5476794122116482,0.187775322891485,1.5970801961589096,0.49330117401842394,0.2664400026669843,0.7625529809078454,0.4007680200287878,-0.21049348710064456,0.43351124914779443,-0.18589445133259042,0.11854824465940646,-0.8521221082036452,-0.7613900327085726,0.6330487386750493,-1.0658327287005696,-1.0721890903000413,0.9648151164912313,-0.5540357738111198,0.7755209493878051,-0.47736917884462765,1.2598942710479057,0.09632532403679088,-0.43870466254799323,0.49330117401842394,-0.36794499784545026,-0.18589445133259042,0.5900621871322134,0.3172795651242812,0.39441165842931597,0.4386321976289164,-1.0658327287005696,-0.6311678671161545,-0.21863768045159715,-0.5476794122116482,0.11854824465940646,-0.3620380675815009,-0.21049348710064456,-1.1820644127240827,1.5970801961589096,-0.8521221082036452,-0.5476794122116482,-0.5476794122116482,0.7625529809078454,0.4007680200287878,-0.7286468035895659,-0.14018325373362386,1.7055734494762513,0.6985554404495551,0.11854824465940646,-0.7051309229564537,-0.8521221082036452,-0.5476794122116482,0.39441165842931597,-0.5476794122116482,-0.9683537922271582,1.44174860625886,-0.5476794122116482,-0.8521221082036452,0.43351124914779443,0.47107825339580844,-0.7436288548863034,-0.8521221082036452,-1.1820644127240827,-0.8521221082036452,1.7055734494762513,-0.7286468035895659,1.5502418595762018,0.11854824465940646,-0.07074592244401924,-0.5476794122116482,-1.0658327287005696,-1.1820644127240827,-0.9683537922271582,-0.8584784698031167,-0.8521221082036452,-0.18589445133259042,0.6017944273357659,-0.18589445133259042,-0.7169068318507477,-1.1820644127240827,0.7755209493878051,0.2910390384350385,-1.0658327287005696,-0.5476794122116482,-1.1820644127240827,-0.5540357738111198,-0.9683537922271582,-0.8521221082036452,0.11854824465940646,-0.21049348710064456,-0.095162375837518,0.3941127444575582,0.8001199851558595,0.7625529809078454,-1.0658327287005696,-0.07616546973884122,0.41250026023234004,-1.1820644127240827,0.9308525392878548,1.44174860625886,-0.19363288203876208,0.09632532403679088,1.44174860625886,-0.3996050718295148,1.435392244659388,-0.5476794122116482,-0.095162375837518,-0.5476794122116482,-0.8521221082036452,0.8710462342251872,0.4007680200287878,-0.38154498003548765,-0.8521221082036452,-0.18589445133259042,0.5092612733461295,1.059257246193671,0.2910390384350385,-0.8521221082036452,-0.38154498003548765,-1.0658327287005696,0.8840142027051471,-0.07740119801524876,0.2910390384350385,-0.07074592244401924,-1.0658327287005696,1.137305910266863,-0.07074592244401924,-0.17596328962360197,-0.14322006050459526,-0.8448784876130794,-0.07740119801524876,-0.5476794122116482,0.11854824465940646,-0.3021261353561037,-1.1820644127240827,0.09632532403679088,0.39441165842931597,0.6005750792513963,-0.8521221082036452,-0.7613900327085726,-1.0658327287005696,0.11854824465940646,1.5970801961589096,0.4007680200287878,-0.8584784698031167,0.7379539451397913,1.7055734494762513,-0.48582553291042085,-0.18589445133259042,0.4007680200287878,0.01333087747982366,0.11854824465940646,-0.5476794122116482,1.44174860625886,0.7755209493878051,-0.7051309229564537,-0.07074592244401924,0.47107825339580844,1.5970801961589096,-0.5149361830926414,0.2664400026669843,-0.9683537922271582,0.4007680200287878,0.4529822352155763,1.5970801961589096,0.4253670557968418,-0.07616546973884122,-0.8521221082036452,-0.5476794122116482,1.7055734494762513,0.11854824465940646,0.7561966193083737,-0.8521221082036452,-0.8521221082036452,1.130949548667391,-0.37518861843601603,0.09632532403679088,0.3114468388074698,1.5970801961589096,-0.21049348710064456,0.28561949114021645,-0.5476794122116482,-0.8521221082036452,-0.5476794122116482,-0.5476794122116482,0.3040070069149983,-0.5476794122116482,-0.5476794122116482,0.47107825339580844,0.3040070069149983,-0.5476794122116482,0.09632532403679088,-0.8521221082036452,-0.8521221082036452,0.7755209493878051,-0.8521221082036452,-1.1820644127240827,-0.8530226809640316,-0.5888992389329405,-0.18589445133259042,0.7315975835403198,0.4007680200287878,-0.8530226809640316,-0.5149361830926414,1.44174860625886,0.43351124914779443,-0.5476794122116482,-0.957339475383228,0.26102045537216245,0.9308525392878548,-0.7286468035895659,0.9702346637860529,-0.8521221082036452,0.47107825339580844,-0.7613900327085726,1.325516922235347,-0.5476794122116482,1.44174860625886,0.273879834559456,-0.10151873743698964,1.5970801961589096,0.8840142027051471,-0.18589445133259042,-1.1884207743235546,-0.5476794122116482,-0.5476794122116482,-0.5158367558530282,-0.019906359986722317,-0.11738529646013365,0.6017944273357659,0.43351124914779443,1.7055734494762513,0.5891253728275638,0.11854824465940646,-0.7613900327085726,1.44174860625886,-0.7613900327085726,0.26102045537216245,-0.8521221082036452,-0.7613900327085726,0.11854824465940646,-0.8521221082036452,0.7625529809078454,-0.3360887125594799,-0.1792828444521023,0.11854824465940646,-0.18589445133259042,-0.06443322953528889,-0.8521221082036452,-1.0658327287005696,1.44174860625886,-0.8073114833650654,0.09632532403679088,0.2795905535214995,-0.21049348710064456,0.4007680200287878,-0.07074592244401924,-0.07074592244401924,0.6266923770755775,-0.43918615889430646,0.11854824465940646,0.7755209493878051,0.09632532403679088,1.5502418595762018,-0.5476794122116482,1.7055734494762513,0.7755209493878051,0.7755209493878051,-1.1884207743235546,1.7055734494762513,-0.07074592244401924,0.4007680200287878,0.7379539451397913,-0.18589445133259042,0.4007680200287878,0.9702346637860529,-0.49777666405900106,0.15020831864347112,-0.5476794122116482,0.4007680200287878,-0.1729264828526306,0.4007680200287878,0.5900621871322134,-0.1483274470845765,0.3548465693722951,-0.07740119801524876,-1.0658327287005696,0.8082641785068121,-0.5476794122116482,-0.8521221082036452,-0.37518861843601603,0.11854824465940646,1.137305910266863,0.47925005040352225,-0.1729264828526306,0.3040070069149983,-1.1820644127240827,-1.0658327287005696,0.11854824465940646,-1.1820644127240827,0.11219188305993481,0.5811044083416724,-0.1729264828526306,0.4007680200287878,-0.095162375837518,0.9702346637860529,0.4007680200287878,-0.5476794122116482,1.44174860625886,-1.1820644127240827,0.11854824465940646,-0.051160671326006116,1.5970801961589096,0.4007680200287878,0.7691645877883336,-0.7613900327085726,-0.37518861843601603,-0.18589445133259042,-0.5149361830926414,-1.0658327287005696,-0.5476794122116482,-0.5476794122116482,1.284899069460741,-0.6967905183035955,1.0669956768998428,1.7055734494762513,1.44174860625886,1.5970801961589096,-0.18589445133259042,-0.5476794122116482,0.3040070069149983,0.01333087747982366,0.4007680200287878,0.7625529809078454,-0.07740119801524876,-0.8584784698031167,0.09632532403679088,-0.37518861843601603,0.9308525392878548,-0.5476794122116482,-0.43918615889430646,-0.07616546973884122,0.15790308065890138,0.2664400026669843,0.11854824465940646,0.8192788105088004,-0.019906359986722317,-0.07074592244401924,-0.8521221082036452,0.15611524890742037,-0.5158367558530282,-0.8521221082036452,0.9308525392878548,-0.5476794122116482,0.9638783021865813,-0.8598605389098168,-0.8521221082036452,-1.1820644127240827,1.44174860625886,1.5502418595762018,-0.8521221082036452,0.25829580931603174,-0.9747101538266305,0.273879834559456,0.2910390384350385,1.5502418595762018,0.5488423604109209,1.0669956768998428,0.11854824465940646,1.0669956768998428,0.11854824465940646,-0.18589445133259042,-0.8521221082036452,-0.37518861843601603,0.7039749877443771,0.13542522991332703,0.4007680200287878,0.43351124914779443,1.44174860625886,0.7379539451397913,-1.0721890903000413,0.7755209493878051,0.32318649538823035,0.4007680200287878,-0.3996050718295148,-0.5540357738111198,-0.18589445133259042,-0.3996050718295148,-1.0658327287005696,0.11854824465940646,-0.37518861843601603,-0.7613900327085726,0.47107825339580844,0.7691645877883336,0.7755209493878051,-0.8521221082036452,1.2223272667998917,-0.5476794122116482,-0.5476794122116482,0.2664400026669843,-0.7367909969405185,-0.18589445133259042,-0.0004356890769985042,0.09632532403679088,-0.8521221082036452,-0.8521221082036452,-0.7367909969405185,-0.5476794122116482,-0.6639110962351614,0.09632532403679088,-0.37518861843601603,-0.5476794122116482,-0.5476794122116482,-0.37518861843601603,-0.07074592244401924,-0.5476794122116482,0.7755209493878051,-0.019906359986722317,-0.5158367558530282,0.9648151164912313,1.5970801961589096,-0.019906359986722317,1.1127068744988087,-0.8448784876130794,0.09632532403679088,-0.8521221082036452,-0.07074592244401924,-0.8584784698031167,0.9308525392878548,0.4007680200287878,0.5618103288908809,-0.5476794122116482,-0.5476794122116482,-0.4758362772161053,-0.3996050718295148,-0.16059073894799744,0.7755209493878051,1.44174860625886,-0.7613900327085726,0.7755209493878051,0.7625529809078454,1.1127068744988087,1.7055734494762513,-0.18589445133259042,1.1127068744988087,0.2910390384350385,0.853285056402918,-0.18589445133259042,-0.7436288548863034,-0.5476794122116482,0.5560996099288373,-0.8521221082036452,0.47107825339580844,0.9702346637860529,0.4007680200287878,-0.3996050718295148,0.9308525392878548,0.7755209493878051,-0.8521221082036452,-0.5476794122116482,-0.8521221082036452,-0.8521221082036452,0.09632532403679088,-0.8521221082036452,-0.8130222023271089,0.5488423604109209,-0.07074592244401924,-0.43918615889430646,1.1045626811478564,-0.18589445133259042,0.4007680200287878,1.284899069460741,-0.1729264828526306,0.7755209493878051,0.11854824465940646,-1.0658327287005696,0.11854824465940646,-0.28450021163168515,-0.9683537922271582,0.11854824465940646,-0.6639110962351614,-0.8521221082036452,0.18705739953186332,0.3040070069149983,-0.7613900327085726,0.7039749877443771,1.5502418595762018,-0.957339475383228,-0.18589445133259042,-1.1820644127240827,1.5502418595762018],\"xaxis\":\"x\",\"y\":[-0.21907878279009935,0.388189959689709,0.7304350663348288,-0.3527523306962424,-0.8076101464579472,-0.14925715704199669,1.158063690925133,-0.21309599814352764,0.25861701095885326,0.998822720576108,-0.960021073176049,0.8591663880233932,-0.8203647406233346,1.139254996944557,0.39155397809630077,-0.1492571570419967,-0.21309599814352764,0.4316307170025354,-0.43898795378592914,0.8591663880233932,0.8591663880233932,0.4520288007912374,0.26734232111756784,1.0814702556582143,-0.07266372177507859,0.0808721595971417,-0.3527523306962423,0.11034041452101866,-0.1756380254772715,-0.07266372177507859,-0.21309599814352764,-0.40235955100418946,-0.21309599814352764,-1.0238599142775804,-0.07266372177507859,-1.0238599142775804,-0.07266372177507859,-1.0238599142775804,-1.0402739116191633,0.17164480710047214,1.1332197681944363,-0.07266372177507859,-0.053855027794502866,0.4613756038444044,-1.0238599142775804,0.3439357563844861,0.2082732098822117,1.062661561677639,-0.1492571570419967,-0.21309599814352764,0.20686749842263097,-0.5204137982360927,0.998822720576108,0.25189764554358607,-0.038569767515416374,-0.5130469405307695,-1.0238599142775804,-0.884203581724866,-0.1492571570419967,-0.21309599814352764,0.3975367627428735,-0.13650256287660945,-0.07266372177507859,0.3277151369947695,-0.21309599814352764,0.23548364820200285,0.5126201362143437,0.3439357563844861,-0.43645350526385124,-0.1492571570419967,-0.7437713053564161,-0.038569767515416374,0.7858439820472465,-0.5768857816323009,-0.038569767515416374,0.27503100830043603,-0.1492571570419967,0.39155397809630077,1.0176314145566838,-0.038569767515416374,-0.4132271533911792,-0.5130469405307695,-0.5130469405307695,-0.038569767515416374,0.6186189397457514,-0.11516320278233459,0.24853362713699198,0.7220051409457151,1.062661561677639,0.47083749477181325,-0.1492571570419967,-0.3527523306962423,0.25861701095885326,-0.5130469405307695,-0.13650256287660945,0.3975367627428735,-0.5768857816323009,-0.27357082083846457,0.3277151369947695,-0.1492571570419967,-0.884203581724866,0.998822720576108,0.3439357563844861,-0.13044846306142102,0.4613756038444044,0.39155397809630077,0.946138591881774,-0.1227597758785526,-0.1492571570419967,-0.884203581724866,-0.1039510818979766,1.173348951204219,0.25861701095885326,1.062661561677639,0.41468734085315034,-0.8203647406233346,-0.11769386889603353,-0.07266372177507859,-1.0238599142775804,-0.884203581724866,-0.038569767515416374,0.4069986536702823,1.139254996944557,-0.960021073176049,-0.21309599814352764,0.6988717781888659,-0.960021073176049,-0.1492571570419967,-0.8076101464579472,-0.3527523306962423,-0.7862707863636728,0.39155397809630077,-0.1492571570419967,-0.21309599814352764,-0.5768857816323009,0.4231172662422635,-0.1492571570419967,-0.1492571570419967,-0.1261237942851467,-0.21309599814352764,-0.5130469405307695,-1.0238599142775804,0.39155397809630077,-0.7165421141850153,-0.22950999548511086,-0.1492571570419967,0.998822720576108,1.139254996944557,0.18805880444205506,0.998822720576108,0.25861701095885326,-0.038569767515416374,0.998822720576108,-0.1492571570419967,-0.19428730416295198,-0.21309599814352764,-0.4789529862711078,0.998822720576108,0.998822720576108,-0.7972313778664843,-0.5768857816323009,0.17164480710047214,-0.038569767515416374,0.17164480710047214,-0.038569767515416374,-0.038569767515416374,0.3806177852350076,1.062661561677639,-0.1492571570419967,1.0754161558430257,1.0754161558430257,0.4613756038444044,-0.3527523306962423,-0.6576754341498143,0.18805880444205506,0.18805880444205506,-1.0238599142775804,0.23548364820200285,0.4741301980097917,-0.1756380254772715,0.49537660453462,-0.8493336836494695,-1.021465217638587,-1.0238599142775804,0.24853362713699198,0.39155397809630077,-0.5130469405307695,-0.8203647406233346,-1.0238599142775804,-0.4565749571345614,1.062661561677639,-0.21309599814352764,-0.21309599814352764,-0.21309599814352764,-0.13650256287660945,-0.27357082083846457,-0.884203581724866,0.25861701095885326,-0.5130469405307695,-0.21309599814352764,-0.038569767515416374,-0.053855027794502866,0.6350329370873345,-1.0238599142775804,-0.8015560466427589,0.25861701095885326,-0.5130469405307695,0.1904535010810484,0.2938397022810123,0.25189764554358607,-0.5130469405307695,0.18805880444205506,-0.19428730416295198,-0.21309599814352764,0.4954695581040665,0.9545685172708871,-0.9533017077607824,-0.07266372177507859,0.9824087232345244,-0.8203647406233346,-0.4789529862711078,0.4845089666012543,-0.1492571570419967,0.25189764554358607,-0.1935113603472174,-0.5768857816323009,0.6538416310679108,-0.1492571570419967,0.3277151369947695,-0.21309599814352764,-0.1492571570419967,-0.21309599814352764,-0.10240860861694762,-1.0238599142775804,-0.038569767515416374,-0.8203647406233346,-0.01976107353484074,0.23548364820200285,0.1113723800593144,-0.1492571570419967,0.23548364820200285,-1.0238599142775804,0.17164480710047214,-0.8026847837052558,1.0967555159373008,-0.7437713053564161,0.3806177852350076,-0.13650256287660945,0.998822720576108,-0.038569767515416374,0.20686749842263097,-0.43776626315398576,-0.1492571570419967,0.998822720576108,-0.07266372177507859,-0.13044846306142102,-0.5768857816323009,-0.8203647406233346,-0.038569767515416374,-0.1492571570419967,0.4613756038444044,-0.5002923463653823,1.062661561677639,-0.900617579066449,-0.7165421141850153,0.5555560424599555,-0.8653948877442897,-0.1468624604030041,-0.07266372177507859,-0.3527523306962423,-0.7165421141850153,0.998822720576108,-0.1492571570419967,-0.21309599814352764,-0.884203581724866,0.3277151369947695,-0.8203647406233346,-0.21309599814352764,-0.21309599814352764,-0.8203647406233346,0.2774257049394293,-0.13650256287660945,1.0857949244344887,1.0176314145566838,-0.16567115438357993,-0.21309599814352764,0.37513998075471733,0.17164480710047214,-1.0238599142775804,-0.1756380254772715,-0.8367787379649178,0.3975367627428735,0.39155397809630077,0.6538416310679108,-0.8203647406233346,-0.5130469405307695,-0.5002923463653823,-0.5204137982360927,1.062661561677639,1.173348951204219,0.014308482083302456,0.998822720576108,0.998822720576108,1.0857949244344887,0.6988717781888659,1.139254996944557,0.7553437615850738,-0.1492571570419967,0.9638185487998528,-0.07266372177507859,0.25861701095885326,-0.884203581724866,-0.1492571570419967,-0.21309599814352764,-0.5768857816323009,1.062661561677639,-0.07266372177507859,-0.5002923463653823,-0.21309599814352764,-0.8203647406233346,0.17164480710047214,0.5627161903178176,0.4613756038444044,1.062661561677639,-0.7096773510967544,-0.07266372177507859,-0.5130469405307695,0.0902189626503086,1.2262272008029378,1.1386975726747262,-0.22950999548511086,-1.0238599142775804,-0.038569767515416374,-0.21309599814352764,-0.5130469405307695,-0.884203581724866,-0.1492571570419967,-0.32625494953279804,-0.960021073176049,0.12071918311248125,-0.08907771911666168,-0.038569767515416374,1.0967555159373008,-0.4132271533911792,-0.1492571570419967,-0.3527523306962423,-0.1492571570419967,1.139254996944557,1.14963376553602,-0.21309599814352764,1.062661561677639,0.38818995968970643,0.09758582035563143,-0.01976107353484074,-0.7165421141850153,1.0857949244344887,-0.1492571570419967,0.8591663880233932,0.38818995968970643,0.27503100830043603,-0.884203581724866,0.893260342283055,-0.40235955100418946,-0.1492571570419967,1.14963376553602,0.6699028351627313,1.062661561677639,0.4163454567234492,-0.5768857816323009,-0.07266372177507859,-0.4789529862711078,1.1046036184150647,0.998822720576108,-0.11516320278233459,0.998822720576108,0.13167977461529337,0.04840243634296423,-0.4565749571345614,1.0176314145566838,-0.34938831228964784,0.8423159654434549,0.18805880444205506,-0.21309599814352764,-0.21309599814352764,-1.0238599142775804,0.998822720576108,0.4954695581040665,-0.21309599814352764,0.39155397809630077,0.15405780375183967,-0.21309599814352764,0.946138591881774,0.25189764554358607,-0.9764350705176322,-0.5932997789738838,-1.0238599142775804,-0.8203647406233346,-0.1492571570419967,-0.21309599814352764,-0.8203647406233346,0.4613756038444044,-0.40235955100418946,1.062661561677639,-0.884203581724866,-0.038569767515416374,-1.0238599142775804,0.23548364820200285,1.0176314145566838,-0.21309599814352764,1.062661561677639,-0.4565749571345614,-0.21309599814352764,-0.1492571570419967,0.998822720576108,-0.01976107353484074,-0.43898795378592914,0.998822720576108,-0.19092328575635753,-0.49423824655019394,-0.038569767515416374,0.46814741336321886,0.998822720576108,1.2262272008029378,-0.11516320278233459,-0.038569767515416374,0.18805880444205506,-0.07266372177507859,0.17164480710047214,-0.8203647406233346,0.3439357563844861,0.49537660453462,-0.43898795378592914,-0.27615889542932415,0.8591663880233932,0.47852618195468144,0.7784771243419237,0.25788043019015894,0.6988717781888659,0.502241367622881,0.3975367627428735,-0.5130469405307695,-0.8203647406233346,-0.1601933499032901,0.04840243634296423,-0.038569767515416374,0.26734232111756784,-0.21309599814352764,-0.038569767515416374,-0.038569767515416374,0.4835920889372006,1.062661561677639,0.39155397809630077,0.7329657324485273,1.062661561677639,-0.884203581724866,0.09758582035563143,-0.27357082083846457,0.18805880444205506,1.062661561677639,-0.7437713053564161,0.0808721595971417,0.3277151369947695,-0.21309599814352764,-0.1492571570419967,-0.1492571570419967,-0.1492571570419967,-0.8203647406233346,-0.21309599814352764,-0.1492571570419967,-1.0238599142775804,-0.11516320278233459,-0.21309599814352764,-0.21309599814352764,0.3439357563844861,-1.0402739116191633,-0.13650256287660945,-1.0402739116191633,0.2938397022810123,-0.21309599814352764,1.2791298490431755,0.7517744264291036,-0.13650256287660945,1.0754161558430257,-0.038569767515416374,0.6988717781888659,-0.07266372177507859,-0.9412123791954733,0.998822720576108,0.3439357563844861,0.43840252652134964,-0.21309599814352764,-0.1492571570419967,0.998822720576108,0.3113011396531867,-0.884203581724866,-0.4132271533911792,0.998822720576108,-0.1492571570419967,1.0754161558430257,-0.21309599814352764,0.998822720576108,-0.07266372177507859,1.0176314145566838,-0.038569767515416374,-0.4225739564443461,0.5592154456361512,-0.21309599814352764,-0.038569767515416374,1.139254996944557,-0.13044846306142102,-0.21309599814352764,-0.07266372177507859,-0.07266372177507859,1.062661561677639,0.998822720576108,0.3975367627428735,-0.21309599814352764,0.6988717781888659,-0.038569767515416374,0.5719700398015383,0.3277151369947695,-0.3085749926147192,-0.038569767515416374,-0.1492571570419967,-0.21309599814352764,-0.7437713053564161,-0.43898795378592914,-0.13044846306142102,-0.13650256287660945,1.173348951204219,-0.07266372177507859,0.6988717781888659,-0.884203581724866,1.062661561677639,-0.18659861698008348,0.5379690391113227,-0.5130469405307695,-0.21309599814352764,0.3975367627428735,-0.8501096274652037,0.18805880444205506,0.8591663880233932,0.6358088809030694,-0.884203581724866,1.1569349538626357,-0.5130469405307695,-0.1492571570419967,1.062661561677639,0.38818995968970643,0.18805880444205506,-0.8203647406233346,-0.4565749571345614,-0.1492571570419967,-0.11516320278233459,0.17164480710047214,-0.1492571570419967,-0.21309599814352764,-0.7165421141850153,-1.0238599142775804,-0.5130469405307695,1.1921576451847946,-0.1492571570419967,0.19731261837939956,-0.028190998923953863,0.27503100830043603,-0.1492571570419967,-1.0238599142775804,-0.053855027794502866,-0.8493336836494695,-0.21309599814352764,0.6350329370873345,-0.21309599814352764,0.6988717781888659,-0.8203647406233346,-0.21309599814352764,0.41468734085315034,0.3113011396531867,-0.11769386889603353,0.09758582035563143,0.998822720576108,0.27503100830043603,-0.3527523306962423,-0.8203647406233346,0.998822720576108,-0.36239451851901094,-0.21309599814352764,-0.21309599814352764,-0.1261237942851467,1.2603211550625997,-0.960021073176049,-0.0622849531836157,-0.07266372177507859,-1.0238599142775804,-0.1969773855715464,-0.8203647406233346,0.11980230544842752,-0.19428730416295198,0.25861701095885326,-1.0238599142775804,-0.07266372177507859,-0.5768857816323009,-0.884203581724866,0.18805880444205506,-0.960021073176049,-0.884203581724866,-0.1492571570419967,0.998822720576108,-0.1492571570419967,0.35654980632004596,-0.960021073176049,-0.02326181821650721,-0.7862707863636728,-0.960021073176049,-0.8203647406233346,0.09758582035563143,-0.1492571570419967,-0.43645350526385124,-0.5130469405307695,0.4861227550508995,-0.5768857816323009,-1.0238599142775804,1.062661561677639,-0.07266372177507859,-0.884203581724866,-0.038569767515416374,0.6350329370873345,-0.5130469405307695,-1.0402739116191633,-0.1492571570419967,0.27503100830043603,0.4801842978249804,-0.1492571570419967,0.17164480710047214,0.18815175801150155,0.4613756038444044,-0.4789529862711078,-0.884203581724866,-0.7370519399411494,-0.1492571570419967,0.998822720576108,-0.1492571570419967,-0.21309599814352764,-1.0238599142775804,-0.1492571570419967,0.25189764554358607,0.32245585206038396,-0.1492571570419967,1.0857949244344887,-0.13044846306142102,1.062661561677639,0.8965313715738268,1.062661561677639,-0.038569767515416374,-0.10507981896047366,-0.11516320278233459,-0.1492571570419967,-0.21309599814352764,-1.0238599142775804,1.0857949244344887,0.998822720576108,0.4613756038444044,-0.4225739564443461,-0.13650256287660945,0.5592154456361512,-0.21309599814352764,0.4613756038444044,0.35654980632004596,0.49537660453462,-0.10240860861694762,0.998822720576108,-1.0238599142775804,-0.7888014524773718,-0.07266372177507859,0.998822720576108,-0.21309599814352764,-0.07266372177507859,-0.5204137982360927,0.6538416310679108,-0.038569767515416374,0.25861701095885326,-0.07266372177507859,-0.21309599814352764,0.998822720576108,-0.1492571570419967,0.15405780375183967,0.6915049204835428,-0.1492571570419967,-0.0622849531836157,-0.1492571570419967,-1.0238599142775804,0.32245585206038396,-1.0238599142775804,0.8660311511116539,-0.21309599814352764,-0.08359991463637181,0.3277151369947695,0.5126201362143437,-0.3527523306962423,-0.21309599814352764,-1.0238599142775804,0.25861701095885326,-0.21309599814352764,0.18805880444205506,0.38818995968970643,-0.7735161921982857,0.27503100830043603,-0.9764350705176322,-0.21309599814352764,-0.1492571570419967,-0.5130469405307695,-0.1492571570419967,1.0176314145566838,0.41468734085315034,-0.1492571570419967,-0.884203581724866,-0.1492571570419967,-0.9764350705176322,-0.9636804763522447,-0.07266372177507859,-0.07266372177507859,-0.01976107353484074,-0.34938831228964784,-0.21309599814352764,-0.8203647406233346,-0.13650256287660945,-0.884203581724866,0.998822720576108,-0.5130469405307695,0.39155397809630077,-0.9897659600179185,0.0902189626503086,1.062661561677639,-0.884203581724866,-0.5130469405307695,0.39155397809630077,0.17164480710047214,0.3277151369947695,0.32512706240391026,-0.8203647406233346,-0.3339436367156664,-0.3527523306962423,-0.21309599814352764,-0.884203581724866,-0.3568481591107934,-0.21309599814352764,-0.21309599814352764,-0.5768857816323009,-0.13650256287660945,-0.8203647406233346,0.49537660453462,-0.28291762389163166,0.2707063395241622,0.17164480710047214,0.6915049204835428,-0.21309599814352764,-0.115256156351781,1.158063690925133,-0.8203647406233346,0.39155397809630077,0.17164480710047214,-0.07266372177507859,-0.4814836523848066,0.27503100830043603,0.04320887018150927,-0.21309599814352764,-0.038569767515416374,1.2262272008029378,-1.0238599142775804,-0.34938831228964784,-0.7165421141850153,-0.1492571570419967,1.062661561677639,0.7784771243419237,-0.1492571570419967,-0.1492571570419967,0.15746559486405995,0.998822720576108,-0.558077087651725,0.15405780375183967,-0.7437713053564161,1.062661561677639,1.14963376553602,-0.08710065931803807,-0.6977334202044396,0.5556489960294014,0.998822720576108,1.139254996944557,1.062661561677639,-1.0402739116191633,0.5518485879308284,0.18805880444205506,-0.21309599814352764,1.139254996944557,-0.13650256287660945,0.033746979254100425,-0.01976107353484074,-0.884203581724866,-0.1756380254772715,-0.07266372177507859,1.062661561677639,-0.8653948877442897,-0.9533017077607824,-0.10507981896047366,0.18805880444205506,-0.21309599814352764,-0.4132271533911792,1.062661561677639,-0.558077087651725,0.47852618195468144,0.4845089666012543,0.41468734085315034,1.016502677494186,1.062661561677639,-0.1492571570419967,-0.1227597758785526,0.6186189397457514,0.6350329370873345,-0.1492571570419967,0.3277151369947695,-0.960021073176049,0.3277151369947695,-1.0238599142775804,0.9553980516090274,1.062661561677639,-0.01976107353484074,0.4613756038444044,-0.8203647406233346,-0.21309599814352764,0.40430857226168776,-0.07266372177507859,0.998822720576108,0.17164480710047214,1.062661561677639,-0.8076101464579472,0.5210500616034568,-0.884203581724866,-1.0238599142775804,-0.558077087651725,-0.49423824655019394,-0.1492571570419967,-0.07266372177507859,0.4613756038444044,0.3277151369947695,-0.960021073176049,-0.21309599814352764,-0.13650256287660945,1.0754161558430257,-0.1492571570419967,0.18805880444205506,0.18805880444205506,-0.1492571570419967,-0.1492571570419967,-0.10507981896047366,-0.13650256287660945,-0.038569767515416374,0.998822720576108,0.20686749842263097,-0.1492571570419967,-0.21309599814352764,-0.23549278013168357,-0.1492571570419967,-0.19428730416295198,-0.5130469405307695,1.173348951204219,-1.0402739116191633,-0.038569767515416374,0.2553983902252528,0.25861701095885326,-0.1492571570419967,-0.928457785030086,-0.506327575115503,0.3277151369947695,0.18805880444205506,-0.07266372177507859,-0.4132271533911792,0.7858439820472465,-0.8730488693176682,-0.7165421141850153,0.46478339495662485,0.4835920889372006,-0.1492571570419967,-1.0238599142775804,-0.36580230963123117,0.38818995968970643,-0.09635450880175889,-0.11516320278233459,-0.27357082083846457,0.18805880444205506,-1.0238599142775804,-0.2472668176268868,0.18805880444205506,0.4520288007912374,0.4613756038444044,0.18805880444205506,-0.1492571570419967,0.5720629933709845,1.139254996944557,0.18805880444205506,0.5720629933709845,-0.884203581724866,0.6538416310679108,-0.21309599814352764,0.25189764554358607,1.062661561677639,-0.5130469405307695,-0.4225739564443461,-0.36580230963123117,-0.1492571570419967,0.998822720576108,-0.7096773510967544,0.3439357563844861,0.18805880444205506,-0.8026847837052558,-0.038569767515416374,-0.8203647406233346,-0.1492571570419967,-1.0238599142775804,-0.11516320278233459,-0.3527523306962423,-0.038569767515416374,-0.13157720012391796,0.7894377158447358,1.062661561677639,-0.1492571570419967,1.0754161558430257,-0.8203647406233346,-0.11516320278233459,-0.1492571570419967,0.4613756038444044,-0.038569767515416374,-0.21309599814352764,0.998822720576108,-0.4225739564443461,0.39155397809630077,-0.1492571570419967,0.3277151369947695,-0.558077087651725,-0.5768857816323009,-1.0402739116191633,-0.13650256287660945,0.25788043019015894,0.9824087232345244,0.6915049204835428,-0.8203647406233346,-0.5130469405307695,-0.8203647406233346,-0.1492571570419967,-0.5130469405307695,-0.5768857816323009,0.998822720576108,-0.8203647406233346,-0.24473615151318812,-0.1492571570419967,-0.049437369902405916,-0.13650256287660945,0.7517744264291036,-0.884203581724866,-0.038569767515416374,-1.0238599142775804,-0.8203647406233346,1.173348951204219,0.3975367627428735,-0.21309599814352764,-0.6824481599253531,0.17164480710047214,0.8591663880233932,0.033746979254100425,0.39155397809630077,-0.884203581724866,0.3975367627428735,-0.20973197973693353,1.062661561677639,0.998822720576108,-0.1492571570419967,-0.13650256287660945,-0.115256156351781,-0.07266372177507859,-0.053855027794502866,0.5518485879308284,-0.19428730416295198,-1.0238599142775804,-0.2889134895947112,-0.43898795378592914,-0.8203647406233346,0.4835920889372006,0.8591663880233932,0.2082732098822117,1.062661561677639,0.6915049204835428,-0.1756380254772715,-0.8653948877442897,0.8035239389653256,-0.07266372177507859,0.4954695581040665,0.38818995968970643,-0.21309599814352764,0.998822720576108,0.38896590350544114,0.3975367627428735,-0.038569767515416374,0.17164480710047214,-0.1492571570419967,-0.21309599814352764,-0.21309599814352764,0.39155397809630077,-0.884203581724866,0.5379690391113227,0.3217192712916899,0.25861701095885326,0.7784771243419237,0.998822720576108,-0.40235955100418946,-0.1492571570419967,-0.21309599814352764,-0.8653948877442897,-0.21309599814352764,-0.11516320278233459,0.18805880444205506,-0.21309599814352764,-0.1492571570419967,-0.20973197973693353,-0.960021073176049,-0.0622849531836157,-0.1492571570419967,-0.038569767515416374,-0.1492571570419967,0.25861701095885326,0.5379690391113227,0.27503100830043603,0.998822720576108,-0.5768857816323009,-0.21309599814352764,-0.07266372177507859,-0.038569767515416374,-0.11516320278233459,-0.13044846306142102,-0.1492571570419967,1.062661561677639,0.946138591881774,1.062661561677639,-0.3270788736274058,-0.038569767515416374,-1.0238599142775804,0.6988717781888659,-0.07266372177507859,-0.21309599814352764,-0.038569767515416374,-0.19428730416295198,-0.11516320278233459,-0.1492571570419967,0.998822720576108,0.3975367627428735,1.0754161558430257,0.8423159654434549,-0.3587351153428149,0.39155397809630077,-0.07266372177507859,-0.5204137982360927,-0.6295699103266342,-0.038569767515416374,-1.0402739116191633,0.18805880444205506,1.1837277197956815,-0.8203647406233346,0.18805880444205506,1.139254996944557,0.20686749842263097,-0.21309599814352764,1.0754161558430257,-0.21309599814352764,-0.1492571570419967,0.47852618195468144,-0.884203581724866,-0.49423824655019394,-0.1492571570419967,1.062661561677639,-0.7972313778664843,0.4487812951128123,0.6988717781888659,-0.1492571570419967,-0.49423824655019394,-0.07266372177507859,-0.9368877104191993,1.14963376553602,0.6988717781888659,-0.5768857816323009,-0.07266372177507859,0.25189764554358607,-0.5768857816323009,-0.41332014250700155,0.26115145948093066,0.5720629933709845,1.14963376553602,-0.21309599814352764,0.998822720576108,1.0967555159373008,-0.038569767515416374,-0.8203647406233346,-0.8653948877442897,0.028487694319714693,-0.1492571570419967,-0.13650256287660945,-0.07266372177507859,0.998822720576108,0.17164480710047214,-0.884203581724866,-0.13044846306142102,-0.27357082083846457,0.25861701095885326,-0.2930093180092624,1.062661561677639,-0.884203581724866,1.1623883597014069,0.998822720576108,-0.21309599814352764,0.18805880444205506,-1.0238599142775804,-0.40235955100418946,-0.5768857816323009,-0.960021073176049,0.17164480710047214,0.4613756038444044,0.033746979254100425,-0.11516320278233459,-0.884203581724866,-0.7141474175460226,0.17164480710047214,-0.21907878279010037,-0.5204137982360927,-0.1492571570419967,-0.21309599814352764,0.25861701095885326,0.998822720576108,0.4103626720768766,-0.1492571570419967,-0.1492571570419967,0.2707063395241622,-0.5130469405307695,-0.8203647406233346,0.23211962979540873,0.17164480710047214,0.3975367627428735,0.7553437615850738,-0.21309599814352764,-0.1492571570419967,-0.21309599814352764,-0.21309599814352764,-0.7165421141850153,-0.21309599814352764,-0.21309599814352764,-0.960021073176049,-0.7165421141850153,-0.21309599814352764,-0.8203647406233346,-0.1492571570419967,-0.1492571570419967,-1.0238599142775804,-0.1492571570419967,-0.038569767515416374,0.5627161903178176,-0.43645350526385124,1.062661561677639,-0.2547621268578887,-0.884203581724866,0.5627161903178176,0.4613756038444044,0.18805880444205506,-0.20973197973693353,-0.21309599814352764,0.014308482083302456,0.0902189626503086,-1.0402739116191633,0.5379690391113227,0.49537660453462,-0.1492571570419967,-0.960021073176049,-0.13650256287660945,0.2221527587017169,-0.21309599814352764,0.18805880444205506,0.9824087232345244,1.0942248498236018,0.17164480710047214,-0.9368877104191993,1.062661561677639,-0.01976107353484074,-0.21309599814352764,-0.21309599814352764,1.173348951204219,-0.7862707863636728,-0.7437713053564161,0.946138591881774,-0.20973197973693353,0.25861701095885326,0.6538416310679108,0.998822720576108,-0.13650256287660945,0.18805880444205506,-0.13650256287660945,0.0902189626503086,-0.1492571570419967,-0.13650256287660945,0.998822720576108,-0.1492571570419967,0.39155397809630077,-0.49536698361269077,-0.3339436367156664,0.998822720576108,1.062661561677639,-0.2657801268378612,-0.1492571570419967,-0.07266372177507859,0.18805880444205506,-0.17822610006813094,-0.8203647406233346,0.9357598232903115,0.3975367627428735,-0.884203581724866,-0.5768857816323009,-0.5768857816323009,-0.09644746237120531,-0.1261237942851467,0.998822720576108,-1.0238599142775804,-0.8203647406233346,0.27503100830043603,-0.21309599814352764,0.25861701095885326,-1.0238599142775804,-1.0238599142775804,-0.01976107353484074,0.25861701095885326,-0.5768857816323009,-0.884203581724866,-0.27357082083846457,1.062661561677639,-0.884203581724866,0.49537660453462,-0.460144292290532,0.06784093351376233,-0.21309599814352764,-0.884203581724866,-0.3527523306962423,-0.884203581724866,0.6915049204835428,0.3123724682385231,-0.925927118916387,1.14963376553602,-0.07266372177507859,-0.34938831228964784,-0.21309599814352764,-0.1492571570419967,-0.5130469405307695,0.998822720576108,0.25189764554358607,0.6691268913469963,-0.3527523306962423,-0.7165421141850153,-0.038569767515416374,-0.07266372177507859,0.998822720576108,-0.038569767515416374,1.0176314145566838,-0.10507981896047366,-0.3527523306962423,-0.884203581724866,1.0754161558430257,0.49537660453462,-0.884203581724866,-0.21309599814352764,0.18805880444205506,-0.038569767515416374,0.998822720576108,0.27512396186988247,0.17164480710047214,-0.884203581724866,-1.005051220297004,-0.13650256287660945,-0.5130469405307695,1.062661561677639,0.4613756038444044,-0.07266372177507859,-0.21309599814352764,-0.21309599814352764,0.35654980632004596,-0.16567115438357993,0.3277151369947695,0.25861701095885326,0.18805880444205506,0.17164480710047214,1.062661561677639,-0.21309599814352764,-0.7165421141850153,1.1623883597014069,-0.884203581724866,0.39155397809630077,1.14963376553602,-0.13044846306142102,-0.8203647406233346,-0.5130469405307695,-1.0402739116191633,-0.21309599814352764,-0.1261237942851467,-0.5204137982360927,0.2766891241707347,0.033746979254100425,0.998822720576108,-0.8578995785132882,-0.7862707863636728,-0.5768857816323009,-0.1492571570419967,0.24853362713699198,1.173348951204219,-0.1492571570419967,-1.0402739116191633,-0.21309599814352764,0.5141852985151959,-0.028190998923953863,-0.1492571570419967,-0.038569767515416374,0.18805880444205506,0.27503100830043603,-0.1492571570419967,0.024400176200933432,-0.09635450880175889,0.9824087232345244,0.6988717781888659,0.27503100830043603,0.46814741336321886,0.3277151369947695,0.998822720576108,0.3277151369947695,0.998822720576108,1.062661561677639,-0.1492571570419967,-0.5130469405307695,0.7220051409457151,-0.8026847837052558,-0.884203581724866,-0.20973197973693353,0.18805880444205506,-0.27357082083846457,-0.053855027794502866,-1.0238599142775804,0.005054668145958049,-0.884203581724866,1.139254996944557,-0.19428730416295198,1.062661561677639,1.139254996944557,-0.07266372177507859,0.998822720576108,-0.5130469405307695,-0.13650256287660945,-0.960021073176049,-1.005051220297004,-1.0238599142775804,-0.1492571570419967,0.3113011396531867,-0.21309599814352764,-0.21309599814352764,0.033746979254100425,0.5286222360581558,1.062661561677639,-0.6527032730834842,-0.8203647406233346,-0.1492571570419967,-0.1492571570419967,0.5286222360581558,-0.21309599814352764,-0.17900204388386579,-0.8203647406233346,-0.5130469405307695,-0.21309599814352764,-0.21309599814352764,-0.5130469405307695,-0.5768857816323009,-0.21309599814352764,-1.0238599142775804,-0.7862707863636728,1.173348951204219,0.5518485879308284,0.17164480710047214,-0.7862707863636728,-0.4132271533911792,0.5720629933709845,-0.8203647406233346,-0.1492571570419967,-0.5768857816323009,-0.13044846306142102,-1.0402739116191633,-0.884203581724866,-0.9472664790106621,-0.21309599814352764,-0.21309599814352764,0.4790555607624834,1.139254996944557,0.1504884685958692,-1.0238599142775804,0.18805880444205506,-0.13650256287660945,-1.0238599142775804,0.39155397809630077,-0.4132271533911792,0.25861701095885326,1.062661561677639,-0.4132271533911792,0.6988717781888659,0.40430857226168776,1.062661561677639,-0.0622849531836157,-0.21309599814352764,-0.900617579066449,-0.1492571570419967,-0.960021073176049,0.49537660453462,-0.884203581724866,1.139254996944557,-1.0402739116191633,-1.0238599142775804,-0.1492571570419967,-0.21309599814352764,-0.1492571570419967,-0.1492571570419967,-0.8203647406233346,-0.1492571570419967,-0.13157720012391796,0.46814741336321886,-0.5768857816323009,-0.1261237942851467,-0.4225739564443461,1.062661561677639,-0.884203581724866,0.35654980632004596,-0.3527523306962423,-1.0238599142775804,0.998822720576108,-0.07266372177507859,0.998822720576108,-0.17037799759036718,-0.11516320278233463,0.998822720576108,-0.17900204388386579,-0.14925715704199666,-0.8076101464579472,-0.7165421141850153,-0.13650256287660953,0.722005140945715,0.275031008300436,0.014308482083302546,1.062661561677639,-0.038569767515416374,0.275031008300436],\"yaxis\":\"y\",\"type\":\"scattergl\"}],                        {\"template\":{\"data\":{\"bar\":[{\"error_x\":{\"color\":\"#2a3f5f\"},\"error_y\":{\"color\":\"#2a3f5f\"},\"marker\":{\"line\":{\"color\":\"#E5ECF6\",\"width\":0.5},\"pattern\":{\"fillmode\":\"overlay\",\"size\":10,\"solidity\":0.2}},\"type\":\"bar\"}],\"barpolar\":[{\"marker\":{\"line\":{\"color\":\"#E5ECF6\",\"width\":0.5},\"pattern\":{\"fillmode\":\"overlay\",\"size\":10,\"solidity\":0.2}},\"type\":\"barpolar\"}],\"carpet\":[{\"aaxis\":{\"endlinecolor\":\"#2a3f5f\",\"gridcolor\":\"white\",\"linecolor\":\"white\",\"minorgridcolor\":\"white\",\"startlinecolor\":\"#2a3f5f\"},\"baxis\":{\"endlinecolor\":\"#2a3f5f\",\"gridcolor\":\"white\",\"linecolor\":\"white\",\"minorgridcolor\":\"white\",\"startlinecolor\":\"#2a3f5f\"},\"type\":\"carpet\"}],\"choropleth\":[{\"colorbar\":{\"outlinewidth\":0,\"ticks\":\"\"},\"type\":\"choropleth\"}],\"contour\":[{\"colorbar\":{\"outlinewidth\":0,\"ticks\":\"\"},\"colorscale\":[[0.0,\"#0d0887\"],[0.1111111111111111,\"#46039f\"],[0.2222222222222222,\"#7201a8\"],[0.3333333333333333,\"#9c179e\"],[0.4444444444444444,\"#bd3786\"],[0.5555555555555556,\"#d8576b\"],[0.6666666666666666,\"#ed7953\"],[0.7777777777777778,\"#fb9f3a\"],[0.8888888888888888,\"#fdca26\"],[1.0,\"#f0f921\"]],\"type\":\"contour\"}],\"contourcarpet\":[{\"colorbar\":{\"outlinewidth\":0,\"ticks\":\"\"},\"type\":\"contourcarpet\"}],\"heatmap\":[{\"colorbar\":{\"outlinewidth\":0,\"ticks\":\"\"},\"colorscale\":[[0.0,\"#0d0887\"],[0.1111111111111111,\"#46039f\"],[0.2222222222222222,\"#7201a8\"],[0.3333333333333333,\"#9c179e\"],[0.4444444444444444,\"#bd3786\"],[0.5555555555555556,\"#d8576b\"],[0.6666666666666666,\"#ed7953\"],[0.7777777777777778,\"#fb9f3a\"],[0.8888888888888888,\"#fdca26\"],[1.0,\"#f0f921\"]],\"type\":\"heatmap\"}],\"heatmapgl\":[{\"colorbar\":{\"outlinewidth\":0,\"ticks\":\"\"},\"colorscale\":[[0.0,\"#0d0887\"],[0.1111111111111111,\"#46039f\"],[0.2222222222222222,\"#7201a8\"],[0.3333333333333333,\"#9c179e\"],[0.4444444444444444,\"#bd3786\"],[0.5555555555555556,\"#d8576b\"],[0.6666666666666666,\"#ed7953\"],[0.7777777777777778,\"#fb9f3a\"],[0.8888888888888888,\"#fdca26\"],[1.0,\"#f0f921\"]],\"type\":\"heatmapgl\"}],\"histogram\":[{\"marker\":{\"pattern\":{\"fillmode\":\"overlay\",\"size\":10,\"solidity\":0.2}},\"type\":\"histogram\"}],\"histogram2d\":[{\"colorbar\":{\"outlinewidth\":0,\"ticks\":\"\"},\"colorscale\":[[0.0,\"#0d0887\"],[0.1111111111111111,\"#46039f\"],[0.2222222222222222,\"#7201a8\"],[0.3333333333333333,\"#9c179e\"],[0.4444444444444444,\"#bd3786\"],[0.5555555555555556,\"#d8576b\"],[0.6666666666666666,\"#ed7953\"],[0.7777777777777778,\"#fb9f3a\"],[0.8888888888888888,\"#fdca26\"],[1.0,\"#f0f921\"]],\"type\":\"histogram2d\"}],\"histogram2dcontour\":[{\"colorbar\":{\"outlinewidth\":0,\"ticks\":\"\"},\"colorscale\":[[0.0,\"#0d0887\"],[0.1111111111111111,\"#46039f\"],[0.2222222222222222,\"#7201a8\"],[0.3333333333333333,\"#9c179e\"],[0.4444444444444444,\"#bd3786\"],[0.5555555555555556,\"#d8576b\"],[0.6666666666666666,\"#ed7953\"],[0.7777777777777778,\"#fb9f3a\"],[0.8888888888888888,\"#fdca26\"],[1.0,\"#f0f921\"]],\"type\":\"histogram2dcontour\"}],\"mesh3d\":[{\"colorbar\":{\"outlinewidth\":0,\"ticks\":\"\"},\"type\":\"mesh3d\"}],\"parcoords\":[{\"line\":{\"colorbar\":{\"outlinewidth\":0,\"ticks\":\"\"}},\"type\":\"parcoords\"}],\"pie\":[{\"automargin\":true,\"type\":\"pie\"}],\"scatter\":[{\"marker\":{\"colorbar\":{\"outlinewidth\":0,\"ticks\":\"\"}},\"type\":\"scatter\"}],\"scatter3d\":[{\"line\":{\"colorbar\":{\"outlinewidth\":0,\"ticks\":\"\"}},\"marker\":{\"colorbar\":{\"outlinewidth\":0,\"ticks\":\"\"}},\"type\":\"scatter3d\"}],\"scattercarpet\":[{\"marker\":{\"colorbar\":{\"outlinewidth\":0,\"ticks\":\"\"}},\"type\":\"scattercarpet\"}],\"scattergeo\":[{\"marker\":{\"colorbar\":{\"outlinewidth\":0,\"ticks\":\"\"}},\"type\":\"scattergeo\"}],\"scattergl\":[{\"marker\":{\"colorbar\":{\"outlinewidth\":0,\"ticks\":\"\"}},\"type\":\"scattergl\"}],\"scattermapbox\":[{\"marker\":{\"colorbar\":{\"outlinewidth\":0,\"ticks\":\"\"}},\"type\":\"scattermapbox\"}],\"scatterpolar\":[{\"marker\":{\"colorbar\":{\"outlinewidth\":0,\"ticks\":\"\"}},\"type\":\"scatterpolar\"}],\"scatterpolargl\":[{\"marker\":{\"colorbar\":{\"outlinewidth\":0,\"ticks\":\"\"}},\"type\":\"scatterpolargl\"}],\"scatterternary\":[{\"marker\":{\"colorbar\":{\"outlinewidth\":0,\"ticks\":\"\"}},\"type\":\"scatterternary\"}],\"surface\":[{\"colorbar\":{\"outlinewidth\":0,\"ticks\":\"\"},\"colorscale\":[[0.0,\"#0d0887\"],[0.1111111111111111,\"#46039f\"],[0.2222222222222222,\"#7201a8\"],[0.3333333333333333,\"#9c179e\"],[0.4444444444444444,\"#bd3786\"],[0.5555555555555556,\"#d8576b\"],[0.6666666666666666,\"#ed7953\"],[0.7777777777777778,\"#fb9f3a\"],[0.8888888888888888,\"#fdca26\"],[1.0,\"#f0f921\"]],\"type\":\"surface\"}],\"table\":[{\"cells\":{\"fill\":{\"color\":\"#EBF0F8\"},\"line\":{\"color\":\"white\"}},\"header\":{\"fill\":{\"color\":\"#C8D4E3\"},\"line\":{\"color\":\"white\"}},\"type\":\"table\"}]},\"layout\":{\"annotationdefaults\":{\"arrowcolor\":\"#2a3f5f\",\"arrowhead\":0,\"arrowwidth\":1},\"autotypenumbers\":\"strict\",\"coloraxis\":{\"colorbar\":{\"outlinewidth\":0,\"ticks\":\"\"}},\"colorscale\":{\"diverging\":[[0,\"#8e0152\"],[0.1,\"#c51b7d\"],[0.2,\"#de77ae\"],[0.3,\"#f1b6da\"],[0.4,\"#fde0ef\"],[0.5,\"#f7f7f7\"],[0.6,\"#e6f5d0\"],[0.7,\"#b8e186\"],[0.8,\"#7fbc41\"],[0.9,\"#4d9221\"],[1,\"#276419\"]],\"sequential\":[[0.0,\"#0d0887\"],[0.1111111111111111,\"#46039f\"],[0.2222222222222222,\"#7201a8\"],[0.3333333333333333,\"#9c179e\"],[0.4444444444444444,\"#bd3786\"],[0.5555555555555556,\"#d8576b\"],[0.6666666666666666,\"#ed7953\"],[0.7777777777777778,\"#fb9f3a\"],[0.8888888888888888,\"#fdca26\"],[1.0,\"#f0f921\"]],\"sequentialminus\":[[0.0,\"#0d0887\"],[0.1111111111111111,\"#46039f\"],[0.2222222222222222,\"#7201a8\"],[0.3333333333333333,\"#9c179e\"],[0.4444444444444444,\"#bd3786\"],[0.5555555555555556,\"#d8576b\"],[0.6666666666666666,\"#ed7953\"],[0.7777777777777778,\"#fb9f3a\"],[0.8888888888888888,\"#fdca26\"],[1.0,\"#f0f921\"]]},\"colorway\":[\"#636efa\",\"#EF553B\",\"#00cc96\",\"#ab63fa\",\"#FFA15A\",\"#19d3f3\",\"#FF6692\",\"#B6E880\",\"#FF97FF\",\"#FECB52\"],\"font\":{\"color\":\"#2a3f5f\"},\"geo\":{\"bgcolor\":\"white\",\"lakecolor\":\"white\",\"landcolor\":\"#E5ECF6\",\"showlakes\":true,\"showland\":true,\"subunitcolor\":\"white\"},\"hoverlabel\":{\"align\":\"left\"},\"hovermode\":\"closest\",\"mapbox\":{\"style\":\"light\"},\"paper_bgcolor\":\"white\",\"plot_bgcolor\":\"#E5ECF6\",\"polar\":{\"angularaxis\":{\"gridcolor\":\"white\",\"linecolor\":\"white\",\"ticks\":\"\"},\"bgcolor\":\"#E5ECF6\",\"radialaxis\":{\"gridcolor\":\"white\",\"linecolor\":\"white\",\"ticks\":\"\"}},\"scene\":{\"xaxis\":{\"backgroundcolor\":\"#E5ECF6\",\"gridcolor\":\"white\",\"gridwidth\":2,\"linecolor\":\"white\",\"showbackground\":true,\"ticks\":\"\",\"zerolinecolor\":\"white\"},\"yaxis\":{\"backgroundcolor\":\"#E5ECF6\",\"gridcolor\":\"white\",\"gridwidth\":2,\"linecolor\":\"white\",\"showbackground\":true,\"ticks\":\"\",\"zerolinecolor\":\"white\"},\"zaxis\":{\"backgroundcolor\":\"#E5ECF6\",\"gridcolor\":\"white\",\"gridwidth\":2,\"linecolor\":\"white\",\"showbackground\":true,\"ticks\":\"\",\"zerolinecolor\":\"white\"}},\"shapedefaults\":{\"line\":{\"color\":\"#2a3f5f\"}},\"ternary\":{\"aaxis\":{\"gridcolor\":\"white\",\"linecolor\":\"white\",\"ticks\":\"\"},\"baxis\":{\"gridcolor\":\"white\",\"linecolor\":\"white\",\"ticks\":\"\"},\"bgcolor\":\"#E5ECF6\",\"caxis\":{\"gridcolor\":\"white\",\"linecolor\":\"white\",\"ticks\":\"\"}},\"title\":{\"x\":0.05},\"xaxis\":{\"automargin\":true,\"gridcolor\":\"white\",\"linecolor\":\"white\",\"ticks\":\"\",\"title\":{\"standoff\":15},\"zerolinecolor\":\"white\",\"zerolinewidth\":2},\"yaxis\":{\"automargin\":true,\"gridcolor\":\"white\",\"linecolor\":\"white\",\"ticks\":\"\",\"title\":{\"standoff\":15},\"zerolinecolor\":\"white\",\"zerolinewidth\":2}}},\"xaxis\":{\"anchor\":\"y\",\"domain\":[0.0,1.0],\"title\":{\"text\":\"0\"}},\"yaxis\":{\"anchor\":\"x\",\"domain\":[0.0,1.0],\"title\":{\"text\":\"1\"}},\"legend\":{\"tracegroupgap\":0},\"margin\":{\"t\":60},\"shapes\":[{\"type\":\"line\",\"x0\":0,\"x1\":-0.3610622703413367,\"y0\":0,\"y1\":0.22098612828250355},{\"type\":\"line\",\"x0\":0,\"x1\":-0.11759370584851715,\"y0\":0,\"y1\":0.009970774020561924},{\"type\":\"line\",\"x0\":0,\"x1\":-0.0048120805090325755,\"y0\":0,\"y1\":0.01142544581916823},{\"type\":\"line\",\"x0\":0,\"x1\":0.08799314080370754,\"y0\":0,\"y1\":-0.020710562230277695},{\"type\":\"line\",\"x0\":0,\"x1\":0.23047819740497613,\"y0\":0,\"y1\":-0.03877925925730324},{\"type\":\"line\",\"x0\":0,\"x1\":-0.08213476553840415,\"y0\":0,\"y1\":-0.052831749189167256},{\"type\":\"line\",\"x0\":0,\"x1\":-0.255266443350496,\"y0\":0,\"y1\":-0.37093226845636784},{\"type\":\"line\",\"x0\":0,\"x1\":-0.35695940465361936,\"y0\":0,\"y1\":0.1866819077310567},{\"type\":\"line\",\"x0\":0,\"x1\":0.24910088566901203,\"y0\":0,\"y1\":0.36525450093159},{\"type\":\"line\",\"x0\":0,\"x1\":-0.16178952304286834,\"y0\":0,\"y1\":0.0465271084557964},{\"type\":\"line\",\"x0\":0,\"x1\":0.28370652595052287,\"y0\":0,\"y1\":-0.08483501632450466}],\"annotations\":[{\"ax\":0,\"ay\":0,\"text\":\"yummy\",\"x\":-0.3610622703413367,\"xanchor\":\"center\",\"y\":0.22098612828250355,\"yanchor\":\"bottom\"},{\"ax\":0,\"ay\":0,\"text\":\"convenient\",\"x\":-0.11759370584851715,\"xanchor\":\"center\",\"y\":0.009970774020561924,\"yanchor\":\"bottom\"},{\"ax\":0,\"ay\":0,\"text\":\"spicy\",\"x\":-0.0048120805090325755,\"xanchor\":\"center\",\"y\":0.01142544581916823,\"yanchor\":\"bottom\"},{\"ax\":0,\"ay\":0,\"text\":\"fattening\",\"x\":0.08799314080370754,\"xanchor\":\"center\",\"y\":-0.020710562230277695,\"yanchor\":\"bottom\"},{\"ax\":0,\"ay\":0,\"text\":\"greasy\",\"x\":0.23047819740497613,\"xanchor\":\"center\",\"y\":-0.03877925925730324,\"yanchor\":\"bottom\"},{\"ax\":0,\"ay\":0,\"text\":\"fast\",\"x\":-0.08213476553840415,\"xanchor\":\"center\",\"y\":-0.052831749189167256,\"yanchor\":\"bottom\"},{\"ax\":0,\"ay\":0,\"text\":\"cheap\",\"x\":-0.255266443350496,\"xanchor\":\"center\",\"y\":-0.37093226845636784,\"yanchor\":\"bottom\"},{\"ax\":0,\"ay\":0,\"text\":\"tasty\",\"x\":-0.35695940465361936,\"xanchor\":\"center\",\"y\":0.1866819077310567,\"yanchor\":\"bottom\"},{\"ax\":0,\"ay\":0,\"text\":\"expensive\",\"x\":0.24910088566901203,\"xanchor\":\"center\",\"y\":0.36525450093159,\"yanchor\":\"bottom\"},{\"ax\":0,\"ay\":0,\"text\":\"healthy\",\"x\":-0.16178952304286834,\"xanchor\":\"center\",\"y\":0.0465271084557964,\"yanchor\":\"bottom\"},{\"ax\":0,\"ay\":0,\"text\":\"disgusting\",\"x\":0.28370652595052287,\"xanchor\":\"center\",\"y\":-0.08483501632450466,\"yanchor\":\"bottom\"}]},                        {\"responsive\": true}                    ).then(function(){\n",
              "                            \n",
              "var gd = document.getElementById('bed403c4-c8b7-4c49-85df-18a8b91e8aec');\n",
              "var x = new MutationObserver(function (mutations, observer) {{\n",
              "        var display = window.getComputedStyle(gd).display;\n",
              "        if (!display || display === 'none') {{\n",
              "            console.log([gd, 'removed!']);\n",
              "            Plotly.purge(gd);\n",
              "            observer.disconnect();\n",
              "        }}\n",
              "}});\n",
              "\n",
              "// Listen for the removal of the full notebook cells\n",
              "var notebookContainer = gd.closest('#notebook-container');\n",
              "if (notebookContainer) {{\n",
              "    x.observe(notebookContainer, {childList: true});\n",
              "}}\n",
              "\n",
              "// Listen for the clearing of the current output cell\n",
              "var outputEl = gd.closest('.output');\n",
              "if (outputEl) {{\n",
              "    x.observe(outputEl, {childList: true});\n",
              "}}\n",
              "\n",
              "                        })                };                            </script>        </div>\n",
              "</body>\n",
              "</html>"
            ]
          },
          "metadata": {}
        }
      ],
      "source": [
        "pca = PCA(n_components=2)\n",
        "features = ['yummy', 'convenient', 'spicy', 'fattening', 'greasy', 'fast', 'cheap','tasty', 'expensive', 'healthy', 'disgusting']\n",
        "components = pca.fit_transform(data2)\n",
        "loadings = pca.components_.T*np.sqrt(pca.explained_variance_)\n",
        "fig = px.scatter(components, x=0, y=1)\n",
        "\n",
        "for i, feature in enumerate(features):\n",
        "    fig.add_shape(\n",
        "        type='line',\n",
        "        x0=0, y0=0,\n",
        "        x1=loadings[i, 0],\n",
        "        y1=loadings[i, 1]\n",
        "    )\n",
        "    fig.add_annotation(\n",
        "        x=loadings[i, 0],\n",
        "        y=loadings[i, 1],\n",
        "        ax=0, ay=0,\n",
        "        xanchor=\"center\",\n",
        "        yanchor=\"bottom\",\n",
        "        text=feature,\n",
        "    )\n",
        "fig.show()"
      ]
    },
    {
      "cell_type": "markdown",
      "source": [
        "##EXTRACTING SEGMENTS"
      ],
      "metadata": {
        "id": "lAzy8ZMAYzBf"
      }
    },
    {
      "cell_type": "markdown",
      "metadata": {
        "id": "q_2_bnOAKJhY"
      },
      "source": [
        "**K Means Clustering**"
      ]
    },
    {
      "cell_type": "code",
      "execution_count": null,
      "metadata": {
        "id": "yqKOA2oVIgZx"
      },
      "outputs": [],
      "source": [
        "from sklearn.cluster import KMeans"
      ]
    },
    {
      "cell_type": "code",
      "execution_count": null,
      "metadata": {
        "id": "b4gHqRT1IvoW"
      },
      "outputs": [],
      "source": [
        "data3 = data2.values"
      ]
    },
    {
      "cell_type": "code",
      "execution_count": null,
      "metadata": {
        "id": "rL_rdbCKI12T"
      },
      "outputs": [],
      "source": [
        "l = []\n",
        "for i in range(2,20):\n",
        "    kmeans = KMeans(n_clusters = i, init = 'k-means++')\n",
        "    kmeans.fit(data3)\n",
        "    l.append(kmeans.inertia_)"
      ]
    },
    {
      "cell_type": "code",
      "execution_count": null,
      "metadata": {
        "id": "2aCpszJTI5ut"
      },
      "outputs": [],
      "source": [
        "wcss = pd.DataFrame({'Clusters':list(range(2,20)), 'WCSS':l})"
      ]
    },
    {
      "cell_type": "code",
      "execution_count": null,
      "metadata": {
        "colab": {
          "base_uri": "https://localhost:8080/",
          "height": 542
        },
        "id": "Yc8niqfJJKgY",
        "outputId": "9fd440c5-25d8-41a6-cffa-1657377f0930"
      },
      "outputs": [
        {
          "output_type": "display_data",
          "data": {
            "text/html": [
              "<html>\n",
              "<head><meta charset=\"utf-8\" /></head>\n",
              "<body>\n",
              "    <div>            <script src=\"https://cdnjs.cloudflare.com/ajax/libs/mathjax/2.7.5/MathJax.js?config=TeX-AMS-MML_SVG\"></script><script type=\"text/javascript\">if (window.MathJax) {MathJax.Hub.Config({SVG: {font: \"STIX-Web\"}});}</script>                <script type=\"text/javascript\">window.PlotlyConfig = {MathJaxConfig: 'local'};</script>\n",
              "        <script src=\"https://cdn.plot.ly/plotly-2.8.3.min.js\"></script>                <div id=\"f985cab1-5c5a-47f8-9321-255734bce234\" class=\"plotly-graph-div\" style=\"height:525px; width:100%;\"></div>            <script type=\"text/javascript\">                                    window.PLOTLYENV=window.PLOTLYENV || {};                                    if (document.getElementById(\"f985cab1-5c5a-47f8-9321-255734bce234\")) {                    Plotly.newPlot(                        \"f985cab1-5c5a-47f8-9321-255734bce234\",                        [{\"alignmentgroup\":\"True\",\"hovertemplate\":\"Clusters=%{x}<br>WCSS=%{y}<extra></extra>\",\"legendgroup\":\"\",\"marker\":{\"color\":\"#636efa\",\"pattern\":{\"shape\":\"\"}},\"name\":\"\",\"offsetgroup\":\"\",\"orientation\":\"v\",\"showlegend\":false,\"textposition\":\"auto\",\"x\":[2,3,4,5,6,7,8,9,10,11,12,13,14,15,16,17,18,19],\"xaxis\":\"x\",\"y\":[2145.5037269171667,1818.7008474414404,1602.9303457472056,1434.8765972690626,1371.0708404699158,1247.7163220108603,1193.9772402830033,1152.1582419183183,1068.5141923309586,1037.0528348487828,997.8215466199092,967.2319364730151,928.23031806302,878.9561940935084,870.179520664368,815.8152234289189,820.0268504485271,778.9972065480667],\"yaxis\":\"y\",\"type\":\"bar\"}],                        {\"template\":{\"data\":{\"bar\":[{\"error_x\":{\"color\":\"#2a3f5f\"},\"error_y\":{\"color\":\"#2a3f5f\"},\"marker\":{\"line\":{\"color\":\"#E5ECF6\",\"width\":0.5},\"pattern\":{\"fillmode\":\"overlay\",\"size\":10,\"solidity\":0.2}},\"type\":\"bar\"}],\"barpolar\":[{\"marker\":{\"line\":{\"color\":\"#E5ECF6\",\"width\":0.5},\"pattern\":{\"fillmode\":\"overlay\",\"size\":10,\"solidity\":0.2}},\"type\":\"barpolar\"}],\"carpet\":[{\"aaxis\":{\"endlinecolor\":\"#2a3f5f\",\"gridcolor\":\"white\",\"linecolor\":\"white\",\"minorgridcolor\":\"white\",\"startlinecolor\":\"#2a3f5f\"},\"baxis\":{\"endlinecolor\":\"#2a3f5f\",\"gridcolor\":\"white\",\"linecolor\":\"white\",\"minorgridcolor\":\"white\",\"startlinecolor\":\"#2a3f5f\"},\"type\":\"carpet\"}],\"choropleth\":[{\"colorbar\":{\"outlinewidth\":0,\"ticks\":\"\"},\"type\":\"choropleth\"}],\"contour\":[{\"colorbar\":{\"outlinewidth\":0,\"ticks\":\"\"},\"colorscale\":[[0.0,\"#0d0887\"],[0.1111111111111111,\"#46039f\"],[0.2222222222222222,\"#7201a8\"],[0.3333333333333333,\"#9c179e\"],[0.4444444444444444,\"#bd3786\"],[0.5555555555555556,\"#d8576b\"],[0.6666666666666666,\"#ed7953\"],[0.7777777777777778,\"#fb9f3a\"],[0.8888888888888888,\"#fdca26\"],[1.0,\"#f0f921\"]],\"type\":\"contour\"}],\"contourcarpet\":[{\"colorbar\":{\"outlinewidth\":0,\"ticks\":\"\"},\"type\":\"contourcarpet\"}],\"heatmap\":[{\"colorbar\":{\"outlinewidth\":0,\"ticks\":\"\"},\"colorscale\":[[0.0,\"#0d0887\"],[0.1111111111111111,\"#46039f\"],[0.2222222222222222,\"#7201a8\"],[0.3333333333333333,\"#9c179e\"],[0.4444444444444444,\"#bd3786\"],[0.5555555555555556,\"#d8576b\"],[0.6666666666666666,\"#ed7953\"],[0.7777777777777778,\"#fb9f3a\"],[0.8888888888888888,\"#fdca26\"],[1.0,\"#f0f921\"]],\"type\":\"heatmap\"}],\"heatmapgl\":[{\"colorbar\":{\"outlinewidth\":0,\"ticks\":\"\"},\"colorscale\":[[0.0,\"#0d0887\"],[0.1111111111111111,\"#46039f\"],[0.2222222222222222,\"#7201a8\"],[0.3333333333333333,\"#9c179e\"],[0.4444444444444444,\"#bd3786\"],[0.5555555555555556,\"#d8576b\"],[0.6666666666666666,\"#ed7953\"],[0.7777777777777778,\"#fb9f3a\"],[0.8888888888888888,\"#fdca26\"],[1.0,\"#f0f921\"]],\"type\":\"heatmapgl\"}],\"histogram\":[{\"marker\":{\"pattern\":{\"fillmode\":\"overlay\",\"size\":10,\"solidity\":0.2}},\"type\":\"histogram\"}],\"histogram2d\":[{\"colorbar\":{\"outlinewidth\":0,\"ticks\":\"\"},\"colorscale\":[[0.0,\"#0d0887\"],[0.1111111111111111,\"#46039f\"],[0.2222222222222222,\"#7201a8\"],[0.3333333333333333,\"#9c179e\"],[0.4444444444444444,\"#bd3786\"],[0.5555555555555556,\"#d8576b\"],[0.6666666666666666,\"#ed7953\"],[0.7777777777777778,\"#fb9f3a\"],[0.8888888888888888,\"#fdca26\"],[1.0,\"#f0f921\"]],\"type\":\"histogram2d\"}],\"histogram2dcontour\":[{\"colorbar\":{\"outlinewidth\":0,\"ticks\":\"\"},\"colorscale\":[[0.0,\"#0d0887\"],[0.1111111111111111,\"#46039f\"],[0.2222222222222222,\"#7201a8\"],[0.3333333333333333,\"#9c179e\"],[0.4444444444444444,\"#bd3786\"],[0.5555555555555556,\"#d8576b\"],[0.6666666666666666,\"#ed7953\"],[0.7777777777777778,\"#fb9f3a\"],[0.8888888888888888,\"#fdca26\"],[1.0,\"#f0f921\"]],\"type\":\"histogram2dcontour\"}],\"mesh3d\":[{\"colorbar\":{\"outlinewidth\":0,\"ticks\":\"\"},\"type\":\"mesh3d\"}],\"parcoords\":[{\"line\":{\"colorbar\":{\"outlinewidth\":0,\"ticks\":\"\"}},\"type\":\"parcoords\"}],\"pie\":[{\"automargin\":true,\"type\":\"pie\"}],\"scatter\":[{\"marker\":{\"colorbar\":{\"outlinewidth\":0,\"ticks\":\"\"}},\"type\":\"scatter\"}],\"scatter3d\":[{\"line\":{\"colorbar\":{\"outlinewidth\":0,\"ticks\":\"\"}},\"marker\":{\"colorbar\":{\"outlinewidth\":0,\"ticks\":\"\"}},\"type\":\"scatter3d\"}],\"scattercarpet\":[{\"marker\":{\"colorbar\":{\"outlinewidth\":0,\"ticks\":\"\"}},\"type\":\"scattercarpet\"}],\"scattergeo\":[{\"marker\":{\"colorbar\":{\"outlinewidth\":0,\"ticks\":\"\"}},\"type\":\"scattergeo\"}],\"scattergl\":[{\"marker\":{\"colorbar\":{\"outlinewidth\":0,\"ticks\":\"\"}},\"type\":\"scattergl\"}],\"scattermapbox\":[{\"marker\":{\"colorbar\":{\"outlinewidth\":0,\"ticks\":\"\"}},\"type\":\"scattermapbox\"}],\"scatterpolar\":[{\"marker\":{\"colorbar\":{\"outlinewidth\":0,\"ticks\":\"\"}},\"type\":\"scatterpolar\"}],\"scatterpolargl\":[{\"marker\":{\"colorbar\":{\"outlinewidth\":0,\"ticks\":\"\"}},\"type\":\"scatterpolargl\"}],\"scatterternary\":[{\"marker\":{\"colorbar\":{\"outlinewidth\":0,\"ticks\":\"\"}},\"type\":\"scatterternary\"}],\"surface\":[{\"colorbar\":{\"outlinewidth\":0,\"ticks\":\"\"},\"colorscale\":[[0.0,\"#0d0887\"],[0.1111111111111111,\"#46039f\"],[0.2222222222222222,\"#7201a8\"],[0.3333333333333333,\"#9c179e\"],[0.4444444444444444,\"#bd3786\"],[0.5555555555555556,\"#d8576b\"],[0.6666666666666666,\"#ed7953\"],[0.7777777777777778,\"#fb9f3a\"],[0.8888888888888888,\"#fdca26\"],[1.0,\"#f0f921\"]],\"type\":\"surface\"}],\"table\":[{\"cells\":{\"fill\":{\"color\":\"#EBF0F8\"},\"line\":{\"color\":\"white\"}},\"header\":{\"fill\":{\"color\":\"#C8D4E3\"},\"line\":{\"color\":\"white\"}},\"type\":\"table\"}]},\"layout\":{\"annotationdefaults\":{\"arrowcolor\":\"#2a3f5f\",\"arrowhead\":0,\"arrowwidth\":1},\"autotypenumbers\":\"strict\",\"coloraxis\":{\"colorbar\":{\"outlinewidth\":0,\"ticks\":\"\"}},\"colorscale\":{\"diverging\":[[0,\"#8e0152\"],[0.1,\"#c51b7d\"],[0.2,\"#de77ae\"],[0.3,\"#f1b6da\"],[0.4,\"#fde0ef\"],[0.5,\"#f7f7f7\"],[0.6,\"#e6f5d0\"],[0.7,\"#b8e186\"],[0.8,\"#7fbc41\"],[0.9,\"#4d9221\"],[1,\"#276419\"]],\"sequential\":[[0.0,\"#0d0887\"],[0.1111111111111111,\"#46039f\"],[0.2222222222222222,\"#7201a8\"],[0.3333333333333333,\"#9c179e\"],[0.4444444444444444,\"#bd3786\"],[0.5555555555555556,\"#d8576b\"],[0.6666666666666666,\"#ed7953\"],[0.7777777777777778,\"#fb9f3a\"],[0.8888888888888888,\"#fdca26\"],[1.0,\"#f0f921\"]],\"sequentialminus\":[[0.0,\"#0d0887\"],[0.1111111111111111,\"#46039f\"],[0.2222222222222222,\"#7201a8\"],[0.3333333333333333,\"#9c179e\"],[0.4444444444444444,\"#bd3786\"],[0.5555555555555556,\"#d8576b\"],[0.6666666666666666,\"#ed7953\"],[0.7777777777777778,\"#fb9f3a\"],[0.8888888888888888,\"#fdca26\"],[1.0,\"#f0f921\"]]},\"colorway\":[\"#636efa\",\"#EF553B\",\"#00cc96\",\"#ab63fa\",\"#FFA15A\",\"#19d3f3\",\"#FF6692\",\"#B6E880\",\"#FF97FF\",\"#FECB52\"],\"font\":{\"color\":\"#2a3f5f\"},\"geo\":{\"bgcolor\":\"white\",\"lakecolor\":\"white\",\"landcolor\":\"#E5ECF6\",\"showlakes\":true,\"showland\":true,\"subunitcolor\":\"white\"},\"hoverlabel\":{\"align\":\"left\"},\"hovermode\":\"closest\",\"mapbox\":{\"style\":\"light\"},\"paper_bgcolor\":\"white\",\"plot_bgcolor\":\"#E5ECF6\",\"polar\":{\"angularaxis\":{\"gridcolor\":\"white\",\"linecolor\":\"white\",\"ticks\":\"\"},\"bgcolor\":\"#E5ECF6\",\"radialaxis\":{\"gridcolor\":\"white\",\"linecolor\":\"white\",\"ticks\":\"\"}},\"scene\":{\"xaxis\":{\"backgroundcolor\":\"#E5ECF6\",\"gridcolor\":\"white\",\"gridwidth\":2,\"linecolor\":\"white\",\"showbackground\":true,\"ticks\":\"\",\"zerolinecolor\":\"white\"},\"yaxis\":{\"backgroundcolor\":\"#E5ECF6\",\"gridcolor\":\"white\",\"gridwidth\":2,\"linecolor\":\"white\",\"showbackground\":true,\"ticks\":\"\",\"zerolinecolor\":\"white\"},\"zaxis\":{\"backgroundcolor\":\"#E5ECF6\",\"gridcolor\":\"white\",\"gridwidth\":2,\"linecolor\":\"white\",\"showbackground\":true,\"ticks\":\"\",\"zerolinecolor\":\"white\"}},\"shapedefaults\":{\"line\":{\"color\":\"#2a3f5f\"}},\"ternary\":{\"aaxis\":{\"gridcolor\":\"white\",\"linecolor\":\"white\",\"ticks\":\"\"},\"baxis\":{\"gridcolor\":\"white\",\"linecolor\":\"white\",\"ticks\":\"\"},\"bgcolor\":\"#E5ECF6\",\"caxis\":{\"gridcolor\":\"white\",\"linecolor\":\"white\",\"ticks\":\"\"}},\"title\":{\"x\":0.05},\"xaxis\":{\"automargin\":true,\"gridcolor\":\"white\",\"linecolor\":\"white\",\"ticks\":\"\",\"title\":{\"standoff\":15},\"zerolinecolor\":\"white\",\"zerolinewidth\":2},\"yaxis\":{\"automargin\":true,\"gridcolor\":\"white\",\"linecolor\":\"white\",\"ticks\":\"\",\"title\":{\"standoff\":15},\"zerolinecolor\":\"white\",\"zerolinewidth\":2}}},\"xaxis\":{\"anchor\":\"y\",\"domain\":[0.0,1.0],\"title\":{\"text\":\"Clusters\"}},\"yaxis\":{\"anchor\":\"x\",\"domain\":[0.0,1.0],\"title\":{\"text\":\"WCSS\"}},\"legend\":{\"tracegroupgap\":0},\"margin\":{\"t\":60},\"barmode\":\"relative\"},                        {\"responsive\": true}                    ).then(function(){\n",
              "                            \n",
              "var gd = document.getElementById('f985cab1-5c5a-47f8-9321-255734bce234');\n",
              "var x = new MutationObserver(function (mutations, observer) {{\n",
              "        var display = window.getComputedStyle(gd).display;\n",
              "        if (!display || display === 'none') {{\n",
              "            console.log([gd, 'removed!']);\n",
              "            Plotly.purge(gd);\n",
              "            observer.disconnect();\n",
              "        }}\n",
              "}});\n",
              "\n",
              "// Listen for the removal of the full notebook cells\n",
              "var notebookContainer = gd.closest('#notebook-container');\n",
              "if (notebookContainer) {{\n",
              "    x.observe(notebookContainer, {childList: true});\n",
              "}}\n",
              "\n",
              "// Listen for the clearing of the current output cell\n",
              "var outputEl = gd.closest('.output');\n",
              "if (outputEl) {{\n",
              "    x.observe(outputEl, {childList: true});\n",
              "}}\n",
              "\n",
              "                        })                };                            </script>        </div>\n",
              "</body>\n",
              "</html>"
            ]
          },
          "metadata": {}
        }
      ],
      "source": [
        "px.bar(data_frame=wcss, x='Clusters', y='WCSS')"
      ]
    },
    {
      "cell_type": "code",
      "execution_count": null,
      "metadata": {
        "id": "QkSFU6EpJaQT"
      },
      "outputs": [],
      "source": [
        "kmeans = KMeans(4)\n",
        "kmeans.fit(data2)\n",
        "data2['Predicted_Clusters'] = kmeans.predict(data2)"
      ]
    },
    {
      "cell_type": "code",
      "execution_count": null,
      "metadata": {
        "colab": {
          "base_uri": "https://localhost:8080/",
          "height": 206
        },
        "id": "GGzjuLwjJy5Y",
        "outputId": "4a7b875b-69c7-4cdd-a474-e4a85b4e801d"
      },
      "outputs": [
        {
          "output_type": "execute_result",
          "data": {
            "text/plain": [
              "   yummy  convenient  spicy  fattening  greasy  fast  cheap  tasty  expensive  \\\n",
              "0      0           1      0          1       0     1      1      0          1   \n",
              "1      1           1      0          1       1     1      1      1          1   \n",
              "2      0           1      1          1       1     1      0      1          1   \n",
              "3      1           1      0          1       1     1      1      1          0   \n",
              "4      0           1      0          1       1     1      1      0          0   \n",
              "\n",
              "   healthy  disgusting  Predicted_Clusters  \n",
              "0        0           0                   3  \n",
              "1        0           0                   2  \n",
              "2        1           0                   2  \n",
              "3        0           1                   0  \n",
              "4        1           0                   3  "
            ],
            "text/html": [
              "\n",
              "  <div id=\"df-e5ee2792-1c01-491f-a7e0-063c78e8932e\">\n",
              "    <div class=\"colab-df-container\">\n",
              "      <div>\n",
              "<style scoped>\n",
              "    .dataframe tbody tr th:only-of-type {\n",
              "        vertical-align: middle;\n",
              "    }\n",
              "\n",
              "    .dataframe tbody tr th {\n",
              "        vertical-align: top;\n",
              "    }\n",
              "\n",
              "    .dataframe thead th {\n",
              "        text-align: right;\n",
              "    }\n",
              "</style>\n",
              "<table border=\"1\" class=\"dataframe\">\n",
              "  <thead>\n",
              "    <tr style=\"text-align: right;\">\n",
              "      <th></th>\n",
              "      <th>yummy</th>\n",
              "      <th>convenient</th>\n",
              "      <th>spicy</th>\n",
              "      <th>fattening</th>\n",
              "      <th>greasy</th>\n",
              "      <th>fast</th>\n",
              "      <th>cheap</th>\n",
              "      <th>tasty</th>\n",
              "      <th>expensive</th>\n",
              "      <th>healthy</th>\n",
              "      <th>disgusting</th>\n",
              "      <th>Predicted_Clusters</th>\n",
              "    </tr>\n",
              "  </thead>\n",
              "  <tbody>\n",
              "    <tr>\n",
              "      <th>0</th>\n",
              "      <td>0</td>\n",
              "      <td>1</td>\n",
              "      <td>0</td>\n",
              "      <td>1</td>\n",
              "      <td>0</td>\n",
              "      <td>1</td>\n",
              "      <td>1</td>\n",
              "      <td>0</td>\n",
              "      <td>1</td>\n",
              "      <td>0</td>\n",
              "      <td>0</td>\n",
              "      <td>3</td>\n",
              "    </tr>\n",
              "    <tr>\n",
              "      <th>1</th>\n",
              "      <td>1</td>\n",
              "      <td>1</td>\n",
              "      <td>0</td>\n",
              "      <td>1</td>\n",
              "      <td>1</td>\n",
              "      <td>1</td>\n",
              "      <td>1</td>\n",
              "      <td>1</td>\n",
              "      <td>1</td>\n",
              "      <td>0</td>\n",
              "      <td>0</td>\n",
              "      <td>2</td>\n",
              "    </tr>\n",
              "    <tr>\n",
              "      <th>2</th>\n",
              "      <td>0</td>\n",
              "      <td>1</td>\n",
              "      <td>1</td>\n",
              "      <td>1</td>\n",
              "      <td>1</td>\n",
              "      <td>1</td>\n",
              "      <td>0</td>\n",
              "      <td>1</td>\n",
              "      <td>1</td>\n",
              "      <td>1</td>\n",
              "      <td>0</td>\n",
              "      <td>2</td>\n",
              "    </tr>\n",
              "    <tr>\n",
              "      <th>3</th>\n",
              "      <td>1</td>\n",
              "      <td>1</td>\n",
              "      <td>0</td>\n",
              "      <td>1</td>\n",
              "      <td>1</td>\n",
              "      <td>1</td>\n",
              "      <td>1</td>\n",
              "      <td>1</td>\n",
              "      <td>0</td>\n",
              "      <td>0</td>\n",
              "      <td>1</td>\n",
              "      <td>0</td>\n",
              "    </tr>\n",
              "    <tr>\n",
              "      <th>4</th>\n",
              "      <td>0</td>\n",
              "      <td>1</td>\n",
              "      <td>0</td>\n",
              "      <td>1</td>\n",
              "      <td>1</td>\n",
              "      <td>1</td>\n",
              "      <td>1</td>\n",
              "      <td>0</td>\n",
              "      <td>0</td>\n",
              "      <td>1</td>\n",
              "      <td>0</td>\n",
              "      <td>3</td>\n",
              "    </tr>\n",
              "  </tbody>\n",
              "</table>\n",
              "</div>\n",
              "      <button class=\"colab-df-convert\" onclick=\"convertToInteractive('df-e5ee2792-1c01-491f-a7e0-063c78e8932e')\"\n",
              "              title=\"Convert this dataframe to an interactive table.\"\n",
              "              style=\"display:none;\">\n",
              "        \n",
              "  <svg xmlns=\"http://www.w3.org/2000/svg\" height=\"24px\"viewBox=\"0 0 24 24\"\n",
              "       width=\"24px\">\n",
              "    <path d=\"M0 0h24v24H0V0z\" fill=\"none\"/>\n",
              "    <path d=\"M18.56 5.44l.94 2.06.94-2.06 2.06-.94-2.06-.94-.94-2.06-.94 2.06-2.06.94zm-11 1L8.5 8.5l.94-2.06 2.06-.94-2.06-.94L8.5 2.5l-.94 2.06-2.06.94zm10 10l.94 2.06.94-2.06 2.06-.94-2.06-.94-.94-2.06-.94 2.06-2.06.94z\"/><path d=\"M17.41 7.96l-1.37-1.37c-.4-.4-.92-.59-1.43-.59-.52 0-1.04.2-1.43.59L10.3 9.45l-7.72 7.72c-.78.78-.78 2.05 0 2.83L4 21.41c.39.39.9.59 1.41.59.51 0 1.02-.2 1.41-.59l7.78-7.78 2.81-2.81c.8-.78.8-2.07 0-2.86zM5.41 20L4 18.59l7.72-7.72 1.47 1.35L5.41 20z\"/>\n",
              "  </svg>\n",
              "      </button>\n",
              "      \n",
              "  <style>\n",
              "    .colab-df-container {\n",
              "      display:flex;\n",
              "      flex-wrap:wrap;\n",
              "      gap: 12px;\n",
              "    }\n",
              "\n",
              "    .colab-df-convert {\n",
              "      background-color: #E8F0FE;\n",
              "      border: none;\n",
              "      border-radius: 50%;\n",
              "      cursor: pointer;\n",
              "      display: none;\n",
              "      fill: #1967D2;\n",
              "      height: 32px;\n",
              "      padding: 0 0 0 0;\n",
              "      width: 32px;\n",
              "    }\n",
              "\n",
              "    .colab-df-convert:hover {\n",
              "      background-color: #E2EBFA;\n",
              "      box-shadow: 0px 1px 2px rgba(60, 64, 67, 0.3), 0px 1px 3px 1px rgba(60, 64, 67, 0.15);\n",
              "      fill: #174EA6;\n",
              "    }\n",
              "\n",
              "    [theme=dark] .colab-df-convert {\n",
              "      background-color: #3B4455;\n",
              "      fill: #D2E3FC;\n",
              "    }\n",
              "\n",
              "    [theme=dark] .colab-df-convert:hover {\n",
              "      background-color: #434B5C;\n",
              "      box-shadow: 0px 1px 3px 1px rgba(0, 0, 0, 0.15);\n",
              "      filter: drop-shadow(0px 1px 2px rgba(0, 0, 0, 0.3));\n",
              "      fill: #FFFFFF;\n",
              "    }\n",
              "  </style>\n",
              "\n",
              "      <script>\n",
              "        const buttonEl =\n",
              "          document.querySelector('#df-e5ee2792-1c01-491f-a7e0-063c78e8932e button.colab-df-convert');\n",
              "        buttonEl.style.display =\n",
              "          google.colab.kernel.accessAllowed ? 'block' : 'none';\n",
              "\n",
              "        async function convertToInteractive(key) {\n",
              "          const element = document.querySelector('#df-e5ee2792-1c01-491f-a7e0-063c78e8932e');\n",
              "          const dataTable =\n",
              "            await google.colab.kernel.invokeFunction('convertToInteractive',\n",
              "                                                     [key], {});\n",
              "          if (!dataTable) return;\n",
              "\n",
              "          const docLinkHtml = 'Like what you see? Visit the ' +\n",
              "            '<a target=\"_blank\" href=https://colab.research.google.com/notebooks/data_table.ipynb>data table notebook</a>'\n",
              "            + ' to learn more about interactive tables.';\n",
              "          element.innerHTML = '';\n",
              "          dataTable['output_type'] = 'display_data';\n",
              "          await google.colab.output.renderOutput(dataTable, element);\n",
              "          const docLink = document.createElement('div');\n",
              "          docLink.innerHTML = docLinkHtml;\n",
              "          element.appendChild(docLink);\n",
              "        }\n",
              "      </script>\n",
              "    </div>\n",
              "  </div>\n",
              "  "
            ]
          },
          "metadata": {},
          "execution_count": 37
        }
      ],
      "source": [
        "data2.head()"
      ]
    },
    {
      "cell_type": "code",
      "execution_count": null,
      "metadata": {
        "colab": {
          "base_uri": "https://localhost:8080/",
          "height": 394
        },
        "id": "iXtbP5VnKCf6",
        "outputId": "e3cc1d28-aa3a-427b-dc4f-362e31897218"
      },
      "outputs": [
        {
          "output_type": "execute_result",
          "data": {
            "text/plain": [
              "<matplotlib.axes._subplots.AxesSubplot at 0x7fb03bb94210>"
            ]
          },
          "metadata": {},
          "execution_count": 38
        },
        {
          "output_type": "display_data",
          "data": {
            "text/plain": [
              "<Figure size 720x432 with 1 Axes>"
            ],
            "image/png": "[encoded data removed]"
          },
          "metadata": {}
        }
      ],
      "source": [
        "plt.rcParams['figure.figsize'] = (10,6)\n",
        "sns.scatterplot(x = components[:,0], y = components[:,1], hue=data2['Predicted_Clusters'], palette='hls')"
      ]
    },
    {
      "cell_type": "markdown",
      "source": [
        "##DESCRIBING SEGMENTS"
      ],
      "metadata": {
        "id": "0A8h2lpLBOmv"
      }
    },
    {
      "cell_type": "code",
      "source": [
        "dataset['cluster'] = data2['Predicted_Clusters']"
      ],
      "metadata": {
        "id": "Qjc1zJ4GBXEa"
      },
      "execution_count": null,
      "outputs": []
    },
    {
      "cell_type": "code",
      "source": [
        "dataset.head()"
      ],
      "metadata": {
        "colab": {
          "base_uri": "https://localhost:8080/",
          "height": 206
        },
        "id": "dirMzNIIBZ7t",
        "outputId": "84cc2184-b103-4d39-8062-dbcdacbe7d96"
      },
      "execution_count": null,
      "outputs": [
        {
          "output_type": "execute_result",
          "data": {
            "text/plain": [
              "  yummy convenient spicy fattening greasy fast cheap tasty expensive healthy  \\\n",
              "0    No        Yes    No       Yes     No  Yes   Yes    No       Yes      No   \n",
              "1   Yes        Yes    No       Yes    Yes  Yes   Yes   Yes       Yes      No   \n",
              "2    No        Yes   Yes       Yes    Yes  Yes    No   Yes       Yes     Yes   \n",
              "3   Yes        Yes    No       Yes    Yes  Yes   Yes   Yes        No      No   \n",
              "4    No        Yes    No       Yes    Yes  Yes   Yes    No        No     Yes   \n",
              "\n",
              "  disgusting Like  Age      VisitFrequency  Gender  cluster  \n",
              "0         No   -3   61  Every three months  Female        3  \n",
              "1         No   +2   51  Every three months  Female        2  \n",
              "2         No   +1   62  Every three months  Female        2  \n",
              "3        Yes   +4   69         Once a week  Female        0  \n",
              "4         No   +2   49        Once a month    Male        3  "
            ],
            "text/html": [
              "\n",
              "  <div id=\"df-2b4c7044-ae38-452c-a0b3-1085268cafce\">\n",
              "    <div class=\"colab-df-container\">\n",
              "      <div>\n",
              "<style scoped>\n",
              "    .dataframe tbody tr th:only-of-type {\n",
              "        vertical-align: middle;\n",
              "    }\n",
              "\n",
              "    .dataframe tbody tr th {\n",
              "        vertical-align: top;\n",
              "    }\n",
              "\n",
              "    .dataframe thead th {\n",
              "        text-align: right;\n",
              "    }\n",
              "</style>\n",
              "<table border=\"1\" class=\"dataframe\">\n",
              "  <thead>\n",
              "    <tr style=\"text-align: right;\">\n",
              "      <th></th>\n",
              "      <th>yummy</th>\n",
              "      <th>convenient</th>\n",
              "      <th>spicy</th>\n",
              "      <th>fattening</th>\n",
              "      <th>greasy</th>\n",
              "      <th>fast</th>\n",
              "      <th>cheap</th>\n",
              "      <th>tasty</th>\n",
              "      <th>expensive</th>\n",
              "      <th>healthy</th>\n",
              "      <th>disgusting</th>\n",
              "      <th>Like</th>\n",
              "      <th>Age</th>\n",
              "      <th>VisitFrequency</th>\n",
              "      <th>Gender</th>\n",
              "      <th>cluster</th>\n",
              "    </tr>\n",
              "  </thead>\n",
              "  <tbody>\n",
              "    <tr>\n",
              "      <th>0</th>\n",
              "      <td>No</td>\n",
              "      <td>Yes</td>\n",
              "      <td>No</td>\n",
              "      <td>Yes</td>\n",
              "      <td>No</td>\n",
              "      <td>Yes</td>\n",
              "      <td>Yes</td>\n",
              "      <td>No</td>\n",
              "      <td>Yes</td>\n",
              "      <td>No</td>\n",
              "      <td>No</td>\n",
              "      <td>-3</td>\n",
              "      <td>61</td>\n",
              "      <td>Every three months</td>\n",
              "      <td>Female</td>\n",
              "      <td>3</td>\n",
              "    </tr>\n",
              "    <tr>\n",
              "      <th>1</th>\n",
              "      <td>Yes</td>\n",
              "      <td>Yes</td>\n",
              "      <td>No</td>\n",
              "      <td>Yes</td>\n",
              "      <td>Yes</td>\n",
              "      <td>Yes</td>\n",
              "      <td>Yes</td>\n",
              "      <td>Yes</td>\n",
              "      <td>Yes</td>\n",
              "      <td>No</td>\n",
              "      <td>No</td>\n",
              "      <td>+2</td>\n",
              "      <td>51</td>\n",
              "      <td>Every three months</td>\n",
              "      <td>Female</td>\n",
              "      <td>2</td>\n",
              "    </tr>\n",
              "    <tr>\n",
              "      <th>2</th>\n",
              "      <td>No</td>\n",
              "      <td>Yes</td>\n",
              "      <td>Yes</td>\n",
              "      <td>Yes</td>\n",
              "      <td>Yes</td>\n",
              "      <td>Yes</td>\n",
              "      <td>No</td>\n",
              "      <td>Yes</td>\n",
              "      <td>Yes</td>\n",
              "      <td>Yes</td>\n",
              "      <td>No</td>\n",
              "      <td>+1</td>\n",
              "      <td>62</td>\n",
              "      <td>Every three months</td>\n",
              "      <td>Female</td>\n",
              "      <td>2</td>\n",
              "    </tr>\n",
              "    <tr>\n",
              "      <th>3</th>\n",
              "      <td>Yes</td>\n",
              "      <td>Yes</td>\n",
              "      <td>No</td>\n",
              "      <td>Yes</td>\n",
              "      <td>Yes</td>\n",
              "      <td>Yes</td>\n",
              "      <td>Yes</td>\n",
              "      <td>Yes</td>\n",
              "      <td>No</td>\n",
              "      <td>No</td>\n",
              "      <td>Yes</td>\n",
              "      <td>+4</td>\n",
              "      <td>69</td>\n",
              "      <td>Once a week</td>\n",
              "      <td>Female</td>\n",
              "      <td>0</td>\n",
              "    </tr>\n",
              "    <tr>\n",
              "      <th>4</th>\n",
              "      <td>No</td>\n",
              "      <td>Yes</td>\n",
              "      <td>No</td>\n",
              "      <td>Yes</td>\n",
              "      <td>Yes</td>\n",
              "      <td>Yes</td>\n",
              "      <td>Yes</td>\n",
              "      <td>No</td>\n",
              "      <td>No</td>\n",
              "      <td>Yes</td>\n",
              "      <td>No</td>\n",
              "      <td>+2</td>\n",
              "      <td>49</td>\n",
              "      <td>Once a month</td>\n",
              "      <td>Male</td>\n",
              "      <td>3</td>\n",
              "    </tr>\n",
              "  </tbody>\n",
              "</table>\n",
              "</div>\n",
              "      <button class=\"colab-df-convert\" onclick=\"convertToInteractive('df-2b4c7044-ae38-452c-a0b3-1085268cafce')\"\n",
              "              title=\"Convert this dataframe to an interactive table.\"\n",
              "              style=\"display:none;\">\n",
              "        \n",
              "  <svg xmlns=\"http://www.w3.org/2000/svg\" height=\"24px\"viewBox=\"0 0 24 24\"\n",
              "       width=\"24px\">\n",
              "    <path d=\"M0 0h24v24H0V0z\" fill=\"none\"/>\n",
              "    <path d=\"M18.56 5.44l.94 2.06.94-2.06 2.06-.94-2.06-.94-.94-2.06-.94 2.06-2.06.94zm-11 1L8.5 8.5l.94-2.06 2.06-.94-2.06-.94L8.5 2.5l-.94 2.06-2.06.94zm10 10l.94 2.06.94-2.06 2.06-.94-2.06-.94-.94-2.06-.94 2.06-2.06.94z\"/><path d=\"M17.41 7.96l-1.37-1.37c-.4-.4-.92-.59-1.43-.59-.52 0-1.04.2-1.43.59L10.3 9.45l-7.72 7.72c-.78.78-.78 2.05 0 2.83L4 21.41c.39.39.9.59 1.41.59.51 0 1.02-.2 1.41-.59l7.78-7.78 2.81-2.81c.8-.78.8-2.07 0-2.86zM5.41 20L4 18.59l7.72-7.72 1.47 1.35L5.41 20z\"/>\n",
              "  </svg>\n",
              "      </button>\n",
              "      \n",
              "  <style>\n",
              "    .colab-df-container {\n",
              "      display:flex;\n",
              "      flex-wrap:wrap;\n",
              "      gap: 12px;\n",
              "    }\n",
              "\n",
              "    .colab-df-convert {\n",
              "      background-color: #E8F0FE;\n",
              "      border: none;\n",
              "      border-radius: 50%;\n",
              "      cursor: pointer;\n",
              "      display: none;\n",
              "      fill: #1967D2;\n",
              "      height: 32px;\n",
              "      padding: 0 0 0 0;\n",
              "      width: 32px;\n",
              "    }\n",
              "\n",
              "    .colab-df-convert:hover {\n",
              "      background-color: #E2EBFA;\n",
              "      box-shadow: 0px 1px 2px rgba(60, 64, 67, 0.3), 0px 1px 3px 1px rgba(60, 64, 67, 0.15);\n",
              "      fill: #174EA6;\n",
              "    }\n",
              "\n",
              "    [theme=dark] .colab-df-convert {\n",
              "      background-color: #3B4455;\n",
              "      fill: #D2E3FC;\n",
              "    }\n",
              "\n",
              "    [theme=dark] .colab-df-convert:hover {\n",
              "      background-color: #434B5C;\n",
              "      box-shadow: 0px 1px 3px 1px rgba(0, 0, 0, 0.15);\n",
              "      filter: drop-shadow(0px 1px 2px rgba(0, 0, 0, 0.3));\n",
              "      fill: #FFFFFF;\n",
              "    }\n",
              "  </style>\n",
              "\n",
              "      <script>\n",
              "        const buttonEl =\n",
              "          document.querySelector('#df-2b4c7044-ae38-452c-a0b3-1085268cafce button.colab-df-convert');\n",
              "        buttonEl.style.display =\n",
              "          google.colab.kernel.accessAllowed ? 'block' : 'none';\n",
              "\n",
              "        async function convertToInteractive(key) {\n",
              "          const element = document.querySelector('#df-2b4c7044-ae38-452c-a0b3-1085268cafce');\n",
              "          const dataTable =\n",
              "            await google.colab.kernel.invokeFunction('convertToInteractive',\n",
              "                                                     [key], {});\n",
              "          if (!dataTable) return;\n",
              "\n",
              "          const docLinkHtml = 'Like what you see? Visit the ' +\n",
              "            '<a target=\"_blank\" href=https://colab.research.google.com/notebooks/data_table.ipynb>data table notebook</a>'\n",
              "            + ' to learn more about interactive tables.';\n",
              "          element.innerHTML = '';\n",
              "          dataTable['output_type'] = 'display_data';\n",
              "          await google.colab.output.renderOutput(dataTable, element);\n",
              "          const docLink = document.createElement('div');\n",
              "          docLink.innerHTML = docLinkHtml;\n",
              "          element.appendChild(docLink);\n",
              "        }\n",
              "      </script>\n",
              "    </div>\n",
              "  </div>\n",
              "  "
            ]
          },
          "metadata": {},
          "execution_count": 40
        }
      ]
    },
    {
      "cell_type": "code",
      "source": [
        "dataset['cluster'].value_counts()"
      ],
      "metadata": {
        "colab": {
          "base_uri": "https://localhost:8080/"
        },
        "id": "R4v9ZvvBBrew",
        "outputId": "adf7d362-3920-480b-aa69-4647eee80c3c"
      },
      "execution_count": null,
      "outputs": [
        {
          "output_type": "execute_result",
          "data": {
            "text/plain": [
              "0    580\n",
              "2    324\n",
              "3    309\n",
              "1    240\n",
              "Name: cluster, dtype: int64"
            ]
          },
          "metadata": {},
          "execution_count": 41
        }
      ]
    },
    {
      "cell_type": "code",
      "source": [
        "sns.countplot(x = dataset['cluster'], hue = dataset['cluster'])\n",
        "plt.show()"
      ],
      "metadata": {
        "colab": {
          "base_uri": "https://localhost:8080/",
          "height": 394
        },
        "id": "cDE_CvUDB1lh",
        "outputId": "60573132-f48d-40da-c78e-1c9fdd5cddd1"
      },
      "execution_count": null,
      "outputs": [
        {
          "output_type": "display_data",
          "data": {
            "text/plain": [
              "<Figure size 720x432 with 1 Axes>"
            ],
            "image/png": "[encoded data removed]"
          },
          "metadata": {}
        }
      ]
    },
    {
      "cell_type": "code",
      "source": [
        "from statsmodels.graphics.mosaicplot import mosaic\n",
        "from itertools import product\n",
        "\n",
        "crosstable = pd.crosstab(dataset['cluster'], dataset['Gender'])\n",
        "crosstable"
      ],
      "metadata": {
        "colab": {
          "base_uri": "https://localhost:8080/",
          "height": 276
        },
        "id": "IsP4QdNZB56G",
        "outputId": "669e8704-097b-4c68-ea80-55102ae0aaf5"
      },
      "execution_count": null,
      "outputs": [
        {
          "output_type": "stream",
          "name": "stderr",
          "text": [
            "/usr/local/lib/python3.7/dist-packages/statsmodels/tools/_testing.py:19: FutureWarning:\n",
            "\n",
            "pandas.util.testing is deprecated. Use the functions in the public API at pandas.testing instead.\n",
            "\n"
          ]
        },
        {
          "output_type": "execute_result",
          "data": {
            "text/plain": [
              "Gender   Female  Male\n",
              "cluster              \n",
              "0           349   231\n",
              "1           101   139\n",
              "2           155   169\n",
              "3           183   126"
            ],
            "text/html": [
              "\n",
              "  <div id=\"df-ddeb0b6d-2668-450a-8baf-95441d02ce4b\">\n",
              "    <div class=\"colab-df-container\">\n",
              "      <div>\n",
              "<style scoped>\n",
              "    .dataframe tbody tr th:only-of-type {\n",
              "        vertical-align: middle;\n",
              "    }\n",
              "\n",
              "    .dataframe tbody tr th {\n",
              "        vertical-align: top;\n",
              "    }\n",
              "\n",
              "    .dataframe thead th {\n",
              "        text-align: right;\n",
              "    }\n",
              "</style>\n",
              "<table border=\"1\" class=\"dataframe\">\n",
              "  <thead>\n",
              "    <tr style=\"text-align: right;\">\n",
              "      <th>Gender</th>\n",
              "      <th>Female</th>\n",
              "      <th>Male</th>\n",
              "    </tr>\n",
              "    <tr>\n",
              "      <th>cluster</th>\n",
              "      <th></th>\n",
              "      <th></th>\n",
              "    </tr>\n",
              "  </thead>\n",
              "  <tbody>\n",
              "    <tr>\n",
              "      <th>0</th>\n",
              "      <td>349</td>\n",
              "      <td>231</td>\n",
              "    </tr>\n",
              "    <tr>\n",
              "      <th>1</th>\n",
              "      <td>101</td>\n",
              "      <td>139</td>\n",
              "    </tr>\n",
              "    <tr>\n",
              "      <th>2</th>\n",
              "      <td>155</td>\n",
              "      <td>169</td>\n",
              "    </tr>\n",
              "    <tr>\n",
              "      <th>3</th>\n",
              "      <td>183</td>\n",
              "      <td>126</td>\n",
              "    </tr>\n",
              "  </tbody>\n",
              "</table>\n",
              "</div>\n",
              "      <button class=\"colab-df-convert\" onclick=\"convertToInteractive('df-ddeb0b6d-2668-450a-8baf-95441d02ce4b')\"\n",
              "              title=\"Convert this dataframe to an interactive table.\"\n",
              "              style=\"display:none;\">\n",
              "        \n",
              "  <svg xmlns=\"http://www.w3.org/2000/svg\" height=\"24px\"viewBox=\"0 0 24 24\"\n",
              "       width=\"24px\">\n",
              "    <path d=\"M0 0h24v24H0V0z\" fill=\"none\"/>\n",
              "    <path d=\"M18.56 5.44l.94 2.06.94-2.06 2.06-.94-2.06-.94-.94-2.06-.94 2.06-2.06.94zm-11 1L8.5 8.5l.94-2.06 2.06-.94-2.06-.94L8.5 2.5l-.94 2.06-2.06.94zm10 10l.94 2.06.94-2.06 2.06-.94-2.06-.94-.94-2.06-.94 2.06-2.06.94z\"/><path d=\"M17.41 7.96l-1.37-1.37c-.4-.4-.92-.59-1.43-.59-.52 0-1.04.2-1.43.59L10.3 9.45l-7.72 7.72c-.78.78-.78 2.05 0 2.83L4 21.41c.39.39.9.59 1.41.59.51 0 1.02-.2 1.41-.59l7.78-7.78 2.81-2.81c.8-.78.8-2.07 0-2.86zM5.41 20L4 18.59l7.72-7.72 1.47 1.35L5.41 20z\"/>\n",
              "  </svg>\n",
              "      </button>\n",
              "      \n",
              "  <style>\n",
              "    .colab-df-container {\n",
              "      display:flex;\n",
              "      flex-wrap:wrap;\n",
              "      gap: 12px;\n",
              "    }\n",
              "\n",
              "    .colab-df-convert {\n",
              "      background-color: #E8F0FE;\n",
              "      border: none;\n",
              "      border-radius: 50%;\n",
              "      cursor: pointer;\n",
              "      display: none;\n",
              "      fill: #1967D2;\n",
              "      height: 32px;\n",
              "      padding: 0 0 0 0;\n",
              "      width: 32px;\n",
              "    }\n",
              "\n",
              "    .colab-df-convert:hover {\n",
              "      background-color: #E2EBFA;\n",
              "      box-shadow: 0px 1px 2px rgba(60, 64, 67, 0.3), 0px 1px 3px 1px rgba(60, 64, 67, 0.15);\n",
              "      fill: #174EA6;\n",
              "    }\n",
              "\n",
              "    [theme=dark] .colab-df-convert {\n",
              "      background-color: #3B4455;\n",
              "      fill: #D2E3FC;\n",
              "    }\n",
              "\n",
              "    [theme=dark] .colab-df-convert:hover {\n",
              "      background-color: #434B5C;\n",
              "      box-shadow: 0px 1px 3px 1px rgba(0, 0, 0, 0.15);\n",
              "      filter: drop-shadow(0px 1px 2px rgba(0, 0, 0, 0.3));\n",
              "      fill: #FFFFFF;\n",
              "    }\n",
              "  </style>\n",
              "\n",
              "      <script>\n",
              "        const buttonEl =\n",
              "          document.querySelector('#df-ddeb0b6d-2668-450a-8baf-95441d02ce4b button.colab-df-convert');\n",
              "        buttonEl.style.display =\n",
              "          google.colab.kernel.accessAllowed ? 'block' : 'none';\n",
              "\n",
              "        async function convertToInteractive(key) {\n",
              "          const element = document.querySelector('#df-ddeb0b6d-2668-450a-8baf-95441d02ce4b');\n",
              "          const dataTable =\n",
              "            await google.colab.kernel.invokeFunction('convertToInteractive',\n",
              "                                                     [key], {});\n",
              "          if (!dataTable) return;\n",
              "\n",
              "          const docLinkHtml = 'Like what you see? Visit the ' +\n",
              "            '<a target=\"_blank\" href=https://colab.research.google.com/notebooks/data_table.ipynb>data table notebook</a>'\n",
              "            + ' to learn more about interactive tables.';\n",
              "          element.innerHTML = '';\n",
              "          dataTable['output_type'] = 'display_data';\n",
              "          await google.colab.output.renderOutput(dataTable, element);\n",
              "          const docLink = document.createElement('div');\n",
              "          docLink.innerHTML = docLinkHtml;\n",
              "          element.appendChild(docLink);\n",
              "        }\n",
              "      </script>\n",
              "    </div>\n",
              "  </div>\n",
              "  "
            ]
          },
          "metadata": {},
          "execution_count": 43
        }
      ]
    },
    {
      "cell_type": "code",
      "source": [
        "plt.figure(figsize = (14, 10))\n",
        "colors=['orange','yellow','blue','pink']\n",
        "props={}\n",
        "for i in range(len(colors)):\n",
        "    for j in range(-5,6):\n",
        "        sign=''\n",
        "        if (j)>0:\n",
        "            sign='+'\n",
        "\n",
        "        props[(str(i),sign+str(j))]={'color': 'xkcd:'+colors[i]}\n",
        "mosaic(crosstable.stack(),properties=props)\n",
        "plt.show()   "
      ],
      "metadata": {
        "colab": {
          "base_uri": "https://localhost:8080/",
          "height": 400
        },
        "id": "QYgy__1GB-GU",
        "outputId": "1e941d01-856d-4937-9e00-85c1e9c29f35"
      },
      "execution_count": null,
      "outputs": [
        {
          "output_type": "display_data",
          "data": {
            "text/plain": [
              "<Figure size 1008x720 with 0 Axes>"
            ]
          },
          "metadata": {}
        },
        {
          "output_type": "display_data",
          "data": {
            "text/plain": [
              "<Figure size 720x432 with 3 Axes>"
            ],
            "image/png": "[encoded data removed]"
          },
          "metadata": {}
        }
      ]
    },
    {
      "cell_type": "code",
      "source": [
        "crosstable = pd.crosstab(dataset['cluster'], dataset['Like'])\n",
        "crosstable"
      ],
      "metadata": {
        "colab": {
          "base_uri": "https://localhost:8080/",
          "height": 206
        },
        "id": "dtaA0fljCAwC",
        "outputId": "dd4dc02f-9d0a-43e0-d9a7-789059e3b0e7"
      },
      "execution_count": null,
      "outputs": [
        {
          "output_type": "execute_result",
          "data": {
            "text/plain": [
              "Like     +1  +2   +3   +4  -1  -2  -3  -4   0  I hate it!-5  I love it!+5\n",
              "cluster                                                                  \n",
              "0        65  90  143  111  13   6   2   4  43             4            99\n",
              "1        13   6    8    0  12  18  30  27  37            89             0\n",
              "2        42  60   66   47   7   6   7   4  36             5            44\n",
              "3        32  31   12    2  26  29  34  36  53            54             0"
            ],
            "text/html": [
              "\n",
              "  <div id=\"df-db172606-8e11-46d0-8aea-4dbe4d3cec2e\">\n",
              "    <div class=\"colab-df-container\">\n",
              "      <div>\n",
              "<style scoped>\n",
              "    .dataframe tbody tr th:only-of-type {\n",
              "        vertical-align: middle;\n",
              "    }\n",
              "\n",
              "    .dataframe tbody tr th {\n",
              "        vertical-align: top;\n",
              "    }\n",
              "\n",
              "    .dataframe thead th {\n",
              "        text-align: right;\n",
              "    }\n",
              "</style>\n",
              "<table border=\"1\" class=\"dataframe\">\n",
              "  <thead>\n",
              "    <tr style=\"text-align: right;\">\n",
              "      <th>Like</th>\n",
              "      <th>+1</th>\n",
              "      <th>+2</th>\n",
              "      <th>+3</th>\n",
              "      <th>+4</th>\n",
              "      <th>-1</th>\n",
              "      <th>-2</th>\n",
              "      <th>-3</th>\n",
              "      <th>-4</th>\n",
              "      <th>0</th>\n",
              "      <th>I hate it!-5</th>\n",
              "      <th>I love it!+5</th>\n",
              "    </tr>\n",
              "    <tr>\n",
              "      <th>cluster</th>\n",
              "      <th></th>\n",
              "      <th></th>\n",
              "      <th></th>\n",
              "      <th></th>\n",
              "      <th></th>\n",
              "      <th></th>\n",
              "      <th></th>\n",
              "      <th></th>\n",
              "      <th></th>\n",
              "      <th></th>\n",
              "      <th></th>\n",
              "    </tr>\n",
              "  </thead>\n",
              "  <tbody>\n",
              "    <tr>\n",
              "      <th>0</th>\n",
              "      <td>65</td>\n",
              "      <td>90</td>\n",
              "      <td>143</td>\n",
              "      <td>111</td>\n",
              "      <td>13</td>\n",
              "      <td>6</td>\n",
              "      <td>2</td>\n",
              "      <td>4</td>\n",
              "      <td>43</td>\n",
              "      <td>4</td>\n",
              "      <td>99</td>\n",
              "    </tr>\n",
              "    <tr>\n",
              "      <th>1</th>\n",
              "      <td>13</td>\n",
              "      <td>6</td>\n",
              "      <td>8</td>\n",
              "      <td>0</td>\n",
              "      <td>12</td>\n",
              "      <td>18</td>\n",
              "      <td>30</td>\n",
              "      <td>27</td>\n",
              "      <td>37</td>\n",
              "      <td>89</td>\n",
              "      <td>0</td>\n",
              "    </tr>\n",
              "    <tr>\n",
              "      <th>2</th>\n",
              "      <td>42</td>\n",
              "      <td>60</td>\n",
              "      <td>66</td>\n",
              "      <td>47</td>\n",
              "      <td>7</td>\n",
              "      <td>6</td>\n",
              "      <td>7</td>\n",
              "      <td>4</td>\n",
              "      <td>36</td>\n",
              "      <td>5</td>\n",
              "      <td>44</td>\n",
              "    </tr>\n",
              "    <tr>\n",
              "      <th>3</th>\n",
              "      <td>32</td>\n",
              "      <td>31</td>\n",
              "      <td>12</td>\n",
              "      <td>2</td>\n",
              "      <td>26</td>\n",
              "      <td>29</td>\n",
              "      <td>34</td>\n",
              "      <td>36</td>\n",
              "      <td>53</td>\n",
              "      <td>54</td>\n",
              "      <td>0</td>\n",
              "    </tr>\n",
              "  </tbody>\n",
              "</table>\n",
              "</div>\n",
              "      <button class=\"colab-df-convert\" onclick=\"convertToInteractive('df-db172606-8e11-46d0-8aea-4dbe4d3cec2e')\"\n",
              "              title=\"Convert this dataframe to an interactive table.\"\n",
              "              style=\"display:none;\">\n",
              "        \n",
              "  <svg xmlns=\"http://www.w3.org/2000/svg\" height=\"24px\"viewBox=\"0 0 24 24\"\n",
              "       width=\"24px\">\n",
              "    <path d=\"M0 0h24v24H0V0z\" fill=\"none\"/>\n",
              "    <path d=\"M18.56 5.44l.94 2.06.94-2.06 2.06-.94-2.06-.94-.94-2.06-.94 2.06-2.06.94zm-11 1L8.5 8.5l.94-2.06 2.06-.94-2.06-.94L8.5 2.5l-.94 2.06-2.06.94zm10 10l.94 2.06.94-2.06 2.06-.94-2.06-.94-.94-2.06-.94 2.06-2.06.94z\"/><path d=\"M17.41 7.96l-1.37-1.37c-.4-.4-.92-.59-1.43-.59-.52 0-1.04.2-1.43.59L10.3 9.45l-7.72 7.72c-.78.78-.78 2.05 0 2.83L4 21.41c.39.39.9.59 1.41.59.51 0 1.02-.2 1.41-.59l7.78-7.78 2.81-2.81c.8-.78.8-2.07 0-2.86zM5.41 20L4 18.59l7.72-7.72 1.47 1.35L5.41 20z\"/>\n",
              "  </svg>\n",
              "      </button>\n",
              "      \n",
              "  <style>\n",
              "    .colab-df-container {\n",
              "      display:flex;\n",
              "      flex-wrap:wrap;\n",
              "      gap: 12px;\n",
              "    }\n",
              "\n",
              "    .colab-df-convert {\n",
              "      background-color: #E8F0FE;\n",
              "      border: none;\n",
              "      border-radius: 50%;\n",
              "      cursor: pointer;\n",
              "      display: none;\n",
              "      fill: #1967D2;\n",
              "      height: 32px;\n",
              "      padding: 0 0 0 0;\n",
              "      width: 32px;\n",
              "    }\n",
              "\n",
              "    .colab-df-convert:hover {\n",
              "      background-color: #E2EBFA;\n",
              "      box-shadow: 0px 1px 2px rgba(60, 64, 67, 0.3), 0px 1px 3px 1px rgba(60, 64, 67, 0.15);\n",
              "      fill: #174EA6;\n",
              "    }\n",
              "\n",
              "    [theme=dark] .colab-df-convert {\n",
              "      background-color: #3B4455;\n",
              "      fill: #D2E3FC;\n",
              "    }\n",
              "\n",
              "    [theme=dark] .colab-df-convert:hover {\n",
              "      background-color: #434B5C;\n",
              "      box-shadow: 0px 1px 3px 1px rgba(0, 0, 0, 0.15);\n",
              "      filter: drop-shadow(0px 1px 2px rgba(0, 0, 0, 0.3));\n",
              "      fill: #FFFFFF;\n",
              "    }\n",
              "  </style>\n",
              "\n",
              "      <script>\n",
              "        const buttonEl =\n",
              "          document.querySelector('#df-db172606-8e11-46d0-8aea-4dbe4d3cec2e button.colab-df-convert');\n",
              "        buttonEl.style.display =\n",
              "          google.colab.kernel.accessAllowed ? 'block' : 'none';\n",
              "\n",
              "        async function convertToInteractive(key) {\n",
              "          const element = document.querySelector('#df-db172606-8e11-46d0-8aea-4dbe4d3cec2e');\n",
              "          const dataTable =\n",
              "            await google.colab.kernel.invokeFunction('convertToInteractive',\n",
              "                                                     [key], {});\n",
              "          if (!dataTable) return;\n",
              "\n",
              "          const docLinkHtml = 'Like what you see? Visit the ' +\n",
              "            '<a target=\"_blank\" href=https://colab.research.google.com/notebooks/data_table.ipynb>data table notebook</a>'\n",
              "            + ' to learn more about interactive tables.';\n",
              "          element.innerHTML = '';\n",
              "          dataTable['output_type'] = 'display_data';\n",
              "          await google.colab.output.renderOutput(dataTable, element);\n",
              "          const docLink = document.createElement('div');\n",
              "          docLink.innerHTML = docLinkHtml;\n",
              "          element.appendChild(docLink);\n",
              "        }\n",
              "      </script>\n",
              "    </div>\n",
              "  </div>\n",
              "  "
            ]
          },
          "metadata": {},
          "execution_count": 45
        }
      ]
    },
    {
      "cell_type": "code",
      "source": [
        "plt.figure(figsize = (14, 10))\n",
        "mosaic(crosstable.stack(),properties=props)\n",
        "plt.show()"
      ],
      "metadata": {
        "colab": {
          "base_uri": "https://localhost:8080/",
          "height": 404
        },
        "id": "aBs88-HtCElf",
        "outputId": "8b43dce3-3b24-4117-99a4-f53ed7d00497"
      },
      "execution_count": null,
      "outputs": [
        {
          "output_type": "display_data",
          "data": {
            "text/plain": [
              "<Figure size 1008x720 with 0 Axes>"
            ]
          },
          "metadata": {}
        },
        {
          "output_type": "display_data",
          "data": {
            "text/plain": [
              "<Figure size 720x432 with 3 Axes>"
            ],
            "image/png": "[encoded data removed]"
          },
          "metadata": {}
        }
      ]
    },
    {
      "cell_type": "code",
      "source": [
        "plt.figure(figsize = (14, 7))\n",
        "sns.countplot(x = dataset['Gender'], hue = dataset['cluster'])\n",
        "plt.title('Distribution of Gender in diffrent clusters')\n",
        "plt.show()"
      ],
      "metadata": {
        "colab": {
          "base_uri": "https://localhost:8080/",
          "height": 464
        },
        "id": "w7A_HqoJCGck",
        "outputId": "9c02bdb7-00b3-46f2-f677-f82fe0c876c4"
      },
      "execution_count": null,
      "outputs": [
        {
          "output_type": "display_data",
          "data": {
            "text/plain": [
              "<Figure size 1008x504 with 1 Axes>"
            ],
            "image/png": "[encoded data removed]"
          },
          "metadata": {}
        }
      ]
    },
    {
      "cell_type": "code",
      "source": [
        "plt.figure(figsize = (14, 7))\n",
        "sns.countplot(x = dataset['VisitFrequency'], hue = dataset['cluster'])\n",
        "plt.title('Distribution of Likeness in diffrent clusters')\n",
        "plt.show()"
      ],
      "metadata": {
        "colab": {
          "base_uri": "https://localhost:8080/",
          "height": 464
        },
        "id": "ZuiwBMekCmRF",
        "outputId": "fd9bc7ac-bff5-4e10-f16b-fc08e76a24e3"
      },
      "execution_count": null,
      "outputs": [
        {
          "output_type": "display_data",
          "data": {
            "text/plain": [
              "<Figure size 1008x504 with 1 Axes>"
            ],
            "image/png": "[encoded data removed]"
          },
          "metadata": {}
        }
      ]
    },
    {
      "cell_type": "code",
      "source": [
        "plt.figure(figsize = (10, 8))\n",
        "sns.boxplot(x=\"cluster\", y=\"Age\", data=dataset)\n",
        "plt.show()\n"
      ],
      "metadata": {
        "colab": {
          "base_uri": "https://localhost:8080/",
          "height": 502
        },
        "id": "6NO1dhWgCqwD",
        "outputId": "dfe146f3-1ee9-48c7-be94-ddd087b546a3"
      },
      "execution_count": null,
      "outputs": [
        {
          "output_type": "display_data",
          "data": {
            "text/plain": [
              "<Figure size 720x576 with 1 Axes>"
            ],
            "image/png": "[encoded data removed]"
          },
          "metadata": {}
        }
      ]
    },
    {
      "cell_type": "markdown",
      "source": [
        "## Selecting Target Segment"
      ],
      "metadata": {
        "id": "c7MMz9CON_8y"
      }
    },
    {
      "cell_type": "code",
      "source": [
        "from sklearn.preprocessing import LabelEncoder\n",
        "\n",
        "dataset['VisitFrequency'] = LabelEncoder().fit_transform(dataset['VisitFrequency'])\n",
        "visit = dataset.groupby('cluster')['VisitFrequency'].mean()\n",
        "visit = visit.to_frame().reset_index()\n",
        "visit"
      ],
      "metadata": {
        "colab": {
          "base_uri": "https://localhost:8080/",
          "height": 175
        },
        "id": "EF8dOMKcOATa",
        "outputId": "980bf1f8-a391-423a-e5e4-a69ca36b950e"
      },
      "execution_count": null,
      "outputs": [
        {
          "output_type": "execute_result",
          "data": {
            "text/plain": [
              "   cluster  VisitFrequency\n",
              "0        0        2.584483\n",
              "1        1        2.679167\n",
              "2        2        2.540123\n",
              "3        3        2.809061"
            ],
            "text/html": [
              "\n",
              "  <div id=\"df-7c68f547-acd9-4384-b892-f0213bd724a9\">\n",
              "    <div class=\"colab-df-container\">\n",
              "      <div>\n",
              "<style scoped>\n",
              "    .dataframe tbody tr th:only-of-type {\n",
              "        vertical-align: middle;\n",
              "    }\n",
              "\n",
              "    .dataframe tbody tr th {\n",
              "        vertical-align: top;\n",
              "    }\n",
              "\n",
              "    .dataframe thead th {\n",
              "        text-align: right;\n",
              "    }\n",
              "</style>\n",
              "<table border=\"1\" class=\"dataframe\">\n",
              "  <thead>\n",
              "    <tr style=\"text-align: right;\">\n",
              "      <th></th>\n",
              "      <th>cluster</th>\n",
              "      <th>VisitFrequency</th>\n",
              "    </tr>\n",
              "  </thead>\n",
              "  <tbody>\n",
              "    <tr>\n",
              "      <th>0</th>\n",
              "      <td>0</td>\n",
              "      <td>2.584483</td>\n",
              "    </tr>\n",
              "    <tr>\n",
              "      <th>1</th>\n",
              "      <td>1</td>\n",
              "      <td>2.679167</td>\n",
              "    </tr>\n",
              "    <tr>\n",
              "      <th>2</th>\n",
              "      <td>2</td>\n",
              "      <td>2.540123</td>\n",
              "    </tr>\n",
              "    <tr>\n",
              "      <th>3</th>\n",
              "      <td>3</td>\n",
              "      <td>2.809061</td>\n",
              "    </tr>\n",
              "  </tbody>\n",
              "</table>\n",
              "</div>\n",
              "      <button class=\"colab-df-convert\" onclick=\"convertToInteractive('df-7c68f547-acd9-4384-b892-f0213bd724a9')\"\n",
              "              title=\"Convert this dataframe to an interactive table.\"\n",
              "              style=\"display:none;\">\n",
              "        \n",
              "  <svg xmlns=\"http://www.w3.org/2000/svg\" height=\"24px\"viewBox=\"0 0 24 24\"\n",
              "       width=\"24px\">\n",
              "    <path d=\"M0 0h24v24H0V0z\" fill=\"none\"/>\n",
              "    <path d=\"M18.56 5.44l.94 2.06.94-2.06 2.06-.94-2.06-.94-.94-2.06-.94 2.06-2.06.94zm-11 1L8.5 8.5l.94-2.06 2.06-.94-2.06-.94L8.5 2.5l-.94 2.06-2.06.94zm10 10l.94 2.06.94-2.06 2.06-.94-2.06-.94-.94-2.06-.94 2.06-2.06.94z\"/><path d=\"M17.41 7.96l-1.37-1.37c-.4-.4-.92-.59-1.43-.59-.52 0-1.04.2-1.43.59L10.3 9.45l-7.72 7.72c-.78.78-.78 2.05 0 2.83L4 21.41c.39.39.9.59 1.41.59.51 0 1.02-.2 1.41-.59l7.78-7.78 2.81-2.81c.8-.78.8-2.07 0-2.86zM5.41 20L4 18.59l7.72-7.72 1.47 1.35L5.41 20z\"/>\n",
              "  </svg>\n",
              "      </button>\n",
              "      \n",
              "  <style>\n",
              "    .colab-df-container {\n",
              "      display:flex;\n",
              "      flex-wrap:wrap;\n",
              "      gap: 12px;\n",
              "    }\n",
              "\n",
              "    .colab-df-convert {\n",
              "      background-color: #E8F0FE;\n",
              "      border: none;\n",
              "      border-radius: 50%;\n",
              "      cursor: pointer;\n",
              "      display: none;\n",
              "      fill: #1967D2;\n",
              "      height: 32px;\n",
              "      padding: 0 0 0 0;\n",
              "      width: 32px;\n",
              "    }\n",
              "\n",
              "    .colab-df-convert:hover {\n",
              "      background-color: #E2EBFA;\n",
              "      box-shadow: 0px 1px 2px rgba(60, 64, 67, 0.3), 0px 1px 3px 1px rgba(60, 64, 67, 0.15);\n",
              "      fill: #174EA6;\n",
              "    }\n",
              "\n",
              "    [theme=dark] .colab-df-convert {\n",
              "      background-color: #3B4455;\n",
              "      fill: #D2E3FC;\n",
              "    }\n",
              "\n",
              "    [theme=dark] .colab-df-convert:hover {\n",
              "      background-color: #434B5C;\n",
              "      box-shadow: 0px 1px 3px 1px rgba(0, 0, 0, 0.15);\n",
              "      filter: drop-shadow(0px 1px 2px rgba(0, 0, 0, 0.3));\n",
              "      fill: #FFFFFF;\n",
              "    }\n",
              "  </style>\n",
              "\n",
              "      <script>\n",
              "        const buttonEl =\n",
              "          document.querySelector('#df-7c68f547-acd9-4384-b892-f0213bd724a9 button.colab-df-convert');\n",
              "        buttonEl.style.display =\n",
              "          google.colab.kernel.accessAllowed ? 'block' : 'none';\n",
              "\n",
              "        async function convertToInteractive(key) {\n",
              "          const element = document.querySelector('#df-7c68f547-acd9-4384-b892-f0213bd724a9');\n",
              "          const dataTable =\n",
              "            await google.colab.kernel.invokeFunction('convertToInteractive',\n",
              "                                                     [key], {});\n",
              "          if (!dataTable) return;\n",
              "\n",
              "          const docLinkHtml = 'Like what you see? Visit the ' +\n",
              "            '<a target=\"_blank\" href=https://colab.research.google.com/notebooks/data_table.ipynb>data table notebook</a>'\n",
              "            + ' to learn more about interactive tables.';\n",
              "          element.innerHTML = '';\n",
              "          dataTable['output_type'] = 'display_data';\n",
              "          await google.colab.output.renderOutput(dataTable, element);\n",
              "          const docLink = document.createElement('div');\n",
              "          docLink.innerHTML = docLinkHtml;\n",
              "          element.appendChild(docLink);\n",
              "        }\n",
              "      </script>\n",
              "    </div>\n",
              "  </div>\n",
              "  "
            ]
          },
          "metadata": {},
          "execution_count": 53
        }
      ]
    },
    {
      "cell_type": "code",
      "source": [
        "dataset['Like'] = LabelEncoder().fit_transform(dataset['Like'])\n",
        "Like = dataset.groupby('cluster')['Like'].mean()\n",
        "Like = Like.to_frame().reset_index()\n",
        "Like"
      ],
      "metadata": {
        "colab": {
          "base_uri": "https://localhost:8080/",
          "height": 175
        },
        "id": "JtdvM5ZLOED4",
        "outputId": "e7195463-b100-4917-f3d6-044068d7fa11"
      },
      "execution_count": null,
      "outputs": [
        {
          "output_type": "execute_result",
          "data": {
            "text/plain": [
              "   cluster      Like\n",
              "0        0  3.794828\n",
              "1        1  6.775000\n",
              "2        2  3.808642\n",
              "3        3  5.423948"
            ],
            "text/html": [
              "\n",
              "  <div id=\"df-33e57d06-5583-437a-9997-d932ee505f21\">\n",
              "    <div class=\"colab-df-container\">\n",
              "      <div>\n",
              "<style scoped>\n",
              "    .dataframe tbody tr th:only-of-type {\n",
              "        vertical-align: middle;\n",
              "    }\n",
              "\n",
              "    .dataframe tbody tr th {\n",
              "        vertical-align: top;\n",
              "    }\n",
              "\n",
              "    .dataframe thead th {\n",
              "        text-align: right;\n",
              "    }\n",
              "</style>\n",
              "<table border=\"1\" class=\"dataframe\">\n",
              "  <thead>\n",
              "    <tr style=\"text-align: right;\">\n",
              "      <th></th>\n",
              "      <th>cluster</th>\n",
              "      <th>Like</th>\n",
              "    </tr>\n",
              "  </thead>\n",
              "  <tbody>\n",
              "    <tr>\n",
              "      <th>0</th>\n",
              "      <td>0</td>\n",
              "      <td>3.794828</td>\n",
              "    </tr>\n",
              "    <tr>\n",
              "      <th>1</th>\n",
              "      <td>1</td>\n",
              "      <td>6.775000</td>\n",
              "    </tr>\n",
              "    <tr>\n",
              "      <th>2</th>\n",
              "      <td>2</td>\n",
              "      <td>3.808642</td>\n",
              "    </tr>\n",
              "    <tr>\n",
              "      <th>3</th>\n",
              "      <td>3</td>\n",
              "      <td>5.423948</td>\n",
              "    </tr>\n",
              "  </tbody>\n",
              "</table>\n",
              "</div>\n",
              "      <button class=\"colab-df-convert\" onclick=\"convertToInteractive('df-33e57d06-5583-437a-9997-d932ee505f21')\"\n",
              "              title=\"Convert this dataframe to an interactive table.\"\n",
              "              style=\"display:none;\">\n",
              "        \n",
              "  <svg xmlns=\"http://www.w3.org/2000/svg\" height=\"24px\"viewBox=\"0 0 24 24\"\n",
              "       width=\"24px\">\n",
              "    <path d=\"M0 0h24v24H0V0z\" fill=\"none\"/>\n",
              "    <path d=\"M18.56 5.44l.94 2.06.94-2.06 2.06-.94-2.06-.94-.94-2.06-.94 2.06-2.06.94zm-11 1L8.5 8.5l.94-2.06 2.06-.94-2.06-.94L8.5 2.5l-.94 2.06-2.06.94zm10 10l.94 2.06.94-2.06 2.06-.94-2.06-.94-.94-2.06-.94 2.06-2.06.94z\"/><path d=\"M17.41 7.96l-1.37-1.37c-.4-.4-.92-.59-1.43-.59-.52 0-1.04.2-1.43.59L10.3 9.45l-7.72 7.72c-.78.78-.78 2.05 0 2.83L4 21.41c.39.39.9.59 1.41.59.51 0 1.02-.2 1.41-.59l7.78-7.78 2.81-2.81c.8-.78.8-2.07 0-2.86zM5.41 20L4 18.59l7.72-7.72 1.47 1.35L5.41 20z\"/>\n",
              "  </svg>\n",
              "      </button>\n",
              "      \n",
              "  <style>\n",
              "    .colab-df-container {\n",
              "      display:flex;\n",
              "      flex-wrap:wrap;\n",
              "      gap: 12px;\n",
              "    }\n",
              "\n",
              "    .colab-df-convert {\n",
              "      background-color: #E8F0FE;\n",
              "      border: none;\n",
              "      border-radius: 50%;\n",
              "      cursor: pointer;\n",
              "      display: none;\n",
              "      fill: #1967D2;\n",
              "      height: 32px;\n",
              "      padding: 0 0 0 0;\n",
              "      width: 32px;\n",
              "    }\n",
              "\n",
              "    .colab-df-convert:hover {\n",
              "      background-color: #E2EBFA;\n",
              "      box-shadow: 0px 1px 2px rgba(60, 64, 67, 0.3), 0px 1px 3px 1px rgba(60, 64, 67, 0.15);\n",
              "      fill: #174EA6;\n",
              "    }\n",
              "\n",
              "    [theme=dark] .colab-df-convert {\n",
              "      background-color: #3B4455;\n",
              "      fill: #D2E3FC;\n",
              "    }\n",
              "\n",
              "    [theme=dark] .colab-df-convert:hover {\n",
              "      background-color: #434B5C;\n",
              "      box-shadow: 0px 1px 3px 1px rgba(0, 0, 0, 0.15);\n",
              "      filter: drop-shadow(0px 1px 2px rgba(0, 0, 0, 0.3));\n",
              "      fill: #FFFFFF;\n",
              "    }\n",
              "  </style>\n",
              "\n",
              "      <script>\n",
              "        const buttonEl =\n",
              "          document.querySelector('#df-33e57d06-5583-437a-9997-d932ee505f21 button.colab-df-convert');\n",
              "        buttonEl.style.display =\n",
              "          google.colab.kernel.accessAllowed ? 'block' : 'none';\n",
              "\n",
              "        async function convertToInteractive(key) {\n",
              "          const element = document.querySelector('#df-33e57d06-5583-437a-9997-d932ee505f21');\n",
              "          const dataTable =\n",
              "            await google.colab.kernel.invokeFunction('convertToInteractive',\n",
              "                                                     [key], {});\n",
              "          if (!dataTable) return;\n",
              "\n",
              "          const docLinkHtml = 'Like what you see? Visit the ' +\n",
              "            '<a target=\"_blank\" href=https://colab.research.google.com/notebooks/data_table.ipynb>data table notebook</a>'\n",
              "            + ' to learn more about interactive tables.';\n",
              "          element.innerHTML = '';\n",
              "          dataTable['output_type'] = 'display_data';\n",
              "          await google.colab.output.renderOutput(dataTable, element);\n",
              "          const docLink = document.createElement('div');\n",
              "          docLink.innerHTML = docLinkHtml;\n",
              "          element.appendChild(docLink);\n",
              "        }\n",
              "      </script>\n",
              "    </div>\n",
              "  </div>\n",
              "  "
            ]
          },
          "metadata": {},
          "execution_count": 54
        }
      ]
    },
    {
      "cell_type": "code",
      "source": [
        "dataset['Gender'] = LabelEncoder().fit_transform(dataset['Gender'])\n",
        "Gender = dataset.groupby('cluster')['Gender'].mean()\n",
        "Gender = Gender.to_frame().reset_index()\n",
        "Gender"
      ],
      "metadata": {
        "colab": {
          "base_uri": "https://localhost:8080/",
          "height": 175
        },
        "id": "8J_e5XROP5gR",
        "outputId": "b3fcee9c-9a3a-473a-f015-e0611b09cedd"
      },
      "execution_count": null,
      "outputs": [
        {
          "output_type": "execute_result",
          "data": {
            "text/plain": [
              "   cluster    Gender\n",
              "0        0  0.398276\n",
              "1        1  0.579167\n",
              "2        2  0.521605\n",
              "3        3  0.407767"
            ],
            "text/html": [
              "\n",
              "  <div id=\"df-a6552aeb-253b-4125-bc8e-17e790e2135a\">\n",
              "    <div class=\"colab-df-container\">\n",
              "      <div>\n",
              "<style scoped>\n",
              "    .dataframe tbody tr th:only-of-type {\n",
              "        vertical-align: middle;\n",
              "    }\n",
              "\n",
              "    .dataframe tbody tr th {\n",
              "        vertical-align: top;\n",
              "    }\n",
              "\n",
              "    .dataframe thead th {\n",
              "        text-align: right;\n",
              "    }\n",
              "</style>\n",
              "<table border=\"1\" class=\"dataframe\">\n",
              "  <thead>\n",
              "    <tr style=\"text-align: right;\">\n",
              "      <th></th>\n",
              "      <th>cluster</th>\n",
              "      <th>Gender</th>\n",
              "    </tr>\n",
              "  </thead>\n",
              "  <tbody>\n",
              "    <tr>\n",
              "      <th>0</th>\n",
              "      <td>0</td>\n",
              "      <td>0.398276</td>\n",
              "    </tr>\n",
              "    <tr>\n",
              "      <th>1</th>\n",
              "      <td>1</td>\n",
              "      <td>0.579167</td>\n",
              "    </tr>\n",
              "    <tr>\n",
              "      <th>2</th>\n",
              "      <td>2</td>\n",
              "      <td>0.521605</td>\n",
              "    </tr>\n",
              "    <tr>\n",
              "      <th>3</th>\n",
              "      <td>3</td>\n",
              "      <td>0.407767</td>\n",
              "    </tr>\n",
              "  </tbody>\n",
              "</table>\n",
              "</div>\n",
              "      <button class=\"colab-df-convert\" onclick=\"convertToInteractive('df-a6552aeb-253b-4125-bc8e-17e790e2135a')\"\n",
              "              title=\"Convert this dataframe to an interactive table.\"\n",
              "              style=\"display:none;\">\n",
              "        \n",
              "  <svg xmlns=\"http://www.w3.org/2000/svg\" height=\"24px\"viewBox=\"0 0 24 24\"\n",
              "       width=\"24px\">\n",
              "    <path d=\"M0 0h24v24H0V0z\" fill=\"none\"/>\n",
              "    <path d=\"M18.56 5.44l.94 2.06.94-2.06 2.06-.94-2.06-.94-.94-2.06-.94 2.06-2.06.94zm-11 1L8.5 8.5l.94-2.06 2.06-.94-2.06-.94L8.5 2.5l-.94 2.06-2.06.94zm10 10l.94 2.06.94-2.06 2.06-.94-2.06-.94-.94-2.06-.94 2.06-2.06.94z\"/><path d=\"M17.41 7.96l-1.37-1.37c-.4-.4-.92-.59-1.43-.59-.52 0-1.04.2-1.43.59L10.3 9.45l-7.72 7.72c-.78.78-.78 2.05 0 2.83L4 21.41c.39.39.9.59 1.41.59.51 0 1.02-.2 1.41-.59l7.78-7.78 2.81-2.81c.8-.78.8-2.07 0-2.86zM5.41 20L4 18.59l7.72-7.72 1.47 1.35L5.41 20z\"/>\n",
              "  </svg>\n",
              "      </button>\n",
              "      \n",
              "  <style>\n",
              "    .colab-df-container {\n",
              "      display:flex;\n",
              "      flex-wrap:wrap;\n",
              "      gap: 12px;\n",
              "    }\n",
              "\n",
              "    .colab-df-convert {\n",
              "      background-color: #E8F0FE;\n",
              "      border: none;\n",
              "      border-radius: 50%;\n",
              "      cursor: pointer;\n",
              "      display: none;\n",
              "      fill: #1967D2;\n",
              "      height: 32px;\n",
              "      padding: 0 0 0 0;\n",
              "      width: 32px;\n",
              "    }\n",
              "\n",
              "    .colab-df-convert:hover {\n",
              "      background-color: #E2EBFA;\n",
              "      box-shadow: 0px 1px 2px rgba(60, 64, 67, 0.3), 0px 1px 3px 1px rgba(60, 64, 67, 0.15);\n",
              "      fill: #174EA6;\n",
              "    }\n",
              "\n",
              "    [theme=dark] .colab-df-convert {\n",
              "      background-color: #3B4455;\n",
              "      fill: #D2E3FC;\n",
              "    }\n",
              "\n",
              "    [theme=dark] .colab-df-convert:hover {\n",
              "      background-color: #434B5C;\n",
              "      box-shadow: 0px 1px 3px 1px rgba(0, 0, 0, 0.15);\n",
              "      filter: drop-shadow(0px 1px 2px rgba(0, 0, 0, 0.3));\n",
              "      fill: #FFFFFF;\n",
              "    }\n",
              "  </style>\n",
              "\n",
              "      <script>\n",
              "        const buttonEl =\n",
              "          document.querySelector('#df-a6552aeb-253b-4125-bc8e-17e790e2135a button.colab-df-convert');\n",
              "        buttonEl.style.display =\n",
              "          google.colab.kernel.accessAllowed ? 'block' : 'none';\n",
              "\n",
              "        async function convertToInteractive(key) {\n",
              "          const element = document.querySelector('#df-a6552aeb-253b-4125-bc8e-17e790e2135a');\n",
              "          const dataTable =\n",
              "            await google.colab.kernel.invokeFunction('convertToInteractive',\n",
              "                                                     [key], {});\n",
              "          if (!dataTable) return;\n",
              "\n",
              "          const docLinkHtml = 'Like what you see? Visit the ' +\n",
              "            '<a target=\"_blank\" href=https://colab.research.google.com/notebooks/data_table.ipynb>data table notebook</a>'\n",
              "            + ' to learn more about interactive tables.';\n",
              "          element.innerHTML = '';\n",
              "          dataTable['output_type'] = 'display_data';\n",
              "          await google.colab.output.renderOutput(dataTable, element);\n",
              "          const docLink = document.createElement('div');\n",
              "          docLink.innerHTML = docLinkHtml;\n",
              "          element.appendChild(docLink);\n",
              "        }\n",
              "      </script>\n",
              "    </div>\n",
              "  </div>\n",
              "  "
            ]
          },
          "metadata": {},
          "execution_count": 57
        }
      ]
    },
    {
      "cell_type": "code",
      "source": [
        "segments = Gender.merge(Like, on='cluster', how='left').merge(visit, on='cluster', how='left')\n",
        "segments"
      ],
      "metadata": {
        "colab": {
          "base_uri": "https://localhost:8080/",
          "height": 175
        },
        "id": "xFNCodgyQJNQ",
        "outputId": "0420d304-475c-4f23-d256-6af0cd672b82"
      },
      "execution_count": null,
      "outputs": [
        {
          "output_type": "execute_result",
          "data": {
            "text/plain": [
              "   cluster    Gender      Like  VisitFrequency\n",
              "0        0  0.398276  3.794828        2.584483\n",
              "1        1  0.579167  6.775000        2.679167\n",
              "2        2  0.521605  3.808642        2.540123\n",
              "3        3  0.407767  5.423948        2.809061"
            ],
            "text/html": [
              "\n",
              "  <div id=\"df-37d8a070-e18f-431e-a069-44192c766986\">\n",
              "    <div class=\"colab-df-container\">\n",
              "      <div>\n",
              "<style scoped>\n",
              "    .dataframe tbody tr th:only-of-type {\n",
              "        vertical-align: middle;\n",
              "    }\n",
              "\n",
              "    .dataframe tbody tr th {\n",
              "        vertical-align: top;\n",
              "    }\n",
              "\n",
              "    .dataframe thead th {\n",
              "        text-align: right;\n",
              "    }\n",
              "</style>\n",
              "<table border=\"1\" class=\"dataframe\">\n",
              "  <thead>\n",
              "    <tr style=\"text-align: right;\">\n",
              "      <th></th>\n",
              "      <th>cluster</th>\n",
              "      <th>Gender</th>\n",
              "      <th>Like</th>\n",
              "      <th>VisitFrequency</th>\n",
              "    </tr>\n",
              "  </thead>\n",
              "  <tbody>\n",
              "    <tr>\n",
              "      <th>0</th>\n",
              "      <td>0</td>\n",
              "      <td>0.398276</td>\n",
              "      <td>3.794828</td>\n",
              "      <td>2.584483</td>\n",
              "    </tr>\n",
              "    <tr>\n",
              "      <th>1</th>\n",
              "      <td>1</td>\n",
              "      <td>0.579167</td>\n",
              "      <td>6.775000</td>\n",
              "      <td>2.679167</td>\n",
              "    </tr>\n",
              "    <tr>\n",
              "      <th>2</th>\n",
              "      <td>2</td>\n",
              "      <td>0.521605</td>\n",
              "      <td>3.808642</td>\n",
              "      <td>2.540123</td>\n",
              "    </tr>\n",
              "    <tr>\n",
              "      <th>3</th>\n",
              "      <td>3</td>\n",
              "      <td>0.407767</td>\n",
              "      <td>5.423948</td>\n",
              "      <td>2.809061</td>\n",
              "    </tr>\n",
              "  </tbody>\n",
              "</table>\n",
              "</div>\n",
              "      <button class=\"colab-df-convert\" onclick=\"convertToInteractive('df-37d8a070-e18f-431e-a069-44192c766986')\"\n",
              "              title=\"Convert this dataframe to an interactive table.\"\n",
              "              style=\"display:none;\">\n",
              "        \n",
              "  <svg xmlns=\"http://www.w3.org/2000/svg\" height=\"24px\"viewBox=\"0 0 24 24\"\n",
              "       width=\"24px\">\n",
              "    <path d=\"M0 0h24v24H0V0z\" fill=\"none\"/>\n",
              "    <path d=\"M18.56 5.44l.94 2.06.94-2.06 2.06-.94-2.06-.94-.94-2.06-.94 2.06-2.06.94zm-11 1L8.5 8.5l.94-2.06 2.06-.94-2.06-.94L8.5 2.5l-.94 2.06-2.06.94zm10 10l.94 2.06.94-2.06 2.06-.94-2.06-.94-.94-2.06-.94 2.06-2.06.94z\"/><path d=\"M17.41 7.96l-1.37-1.37c-.4-.4-.92-.59-1.43-.59-.52 0-1.04.2-1.43.59L10.3 9.45l-7.72 7.72c-.78.78-.78 2.05 0 2.83L4 21.41c.39.39.9.59 1.41.59.51 0 1.02-.2 1.41-.59l7.78-7.78 2.81-2.81c.8-.78.8-2.07 0-2.86zM5.41 20L4 18.59l7.72-7.72 1.47 1.35L5.41 20z\"/>\n",
              "  </svg>\n",
              "      </button>\n",
              "      \n",
              "  <style>\n",
              "    .colab-df-container {\n",
              "      display:flex;\n",
              "      flex-wrap:wrap;\n",
              "      gap: 12px;\n",
              "    }\n",
              "\n",
              "    .colab-df-convert {\n",
              "      background-color: #E8F0FE;\n",
              "      border: none;\n",
              "      border-radius: 50%;\n",
              "      cursor: pointer;\n",
              "      display: none;\n",
              "      fill: #1967D2;\n",
              "      height: 32px;\n",
              "      padding: 0 0 0 0;\n",
              "      width: 32px;\n",
              "    }\n",
              "\n",
              "    .colab-df-convert:hover {\n",
              "      background-color: #E2EBFA;\n",
              "      box-shadow: 0px 1px 2px rgba(60, 64, 67, 0.3), 0px 1px 3px 1px rgba(60, 64, 67, 0.15);\n",
              "      fill: #174EA6;\n",
              "    }\n",
              "\n",
              "    [theme=dark] .colab-df-convert {\n",
              "      background-color: #3B4455;\n",
              "      fill: #D2E3FC;\n",
              "    }\n",
              "\n",
              "    [theme=dark] .colab-df-convert:hover {\n",
              "      background-color: #434B5C;\n",
              "      box-shadow: 0px 1px 3px 1px rgba(0, 0, 0, 0.15);\n",
              "      filter: drop-shadow(0px 1px 2px rgba(0, 0, 0, 0.3));\n",
              "      fill: #FFFFFF;\n",
              "    }\n",
              "  </style>\n",
              "\n",
              "      <script>\n",
              "        const buttonEl =\n",
              "          document.querySelector('#df-37d8a070-e18f-431e-a069-44192c766986 button.colab-df-convert');\n",
              "        buttonEl.style.display =\n",
              "          google.colab.kernel.accessAllowed ? 'block' : 'none';\n",
              "\n",
              "        async function convertToInteractive(key) {\n",
              "          const element = document.querySelector('#df-37d8a070-e18f-431e-a069-44192c766986');\n",
              "          const dataTable =\n",
              "            await google.colab.kernel.invokeFunction('convertToInteractive',\n",
              "                                                     [key], {});\n",
              "          if (!dataTable) return;\n",
              "\n",
              "          const docLinkHtml = 'Like what you see? Visit the ' +\n",
              "            '<a target=\"_blank\" href=https://colab.research.google.com/notebooks/data_table.ipynb>data table notebook</a>'\n",
              "            + ' to learn more about interactive tables.';\n",
              "          element.innerHTML = '';\n",
              "          dataTable['output_type'] = 'display_data';\n",
              "          await google.colab.output.renderOutput(dataTable, element);\n",
              "          const docLink = document.createElement('div');\n",
              "          docLink.innerHTML = docLinkHtml;\n",
              "          element.appendChild(docLink);\n",
              "        }\n",
              "      </script>\n",
              "    </div>\n",
              "  </div>\n",
              "  "
            ]
          },
          "metadata": {},
          "execution_count": 71
        }
      ]
    },
    {
      "cell_type": "code",
      "source": [
        "sns.scatterplot(x = \"VisitFrequency\", y = \"Like\",data=segments,s=100, color=\"m\")\n",
        "plt.title(\"Segment Evaluation Plot\", fontsize = 18) \n",
        "plt.xlabel(\"Visits\", fontsize = 15) \n",
        "plt.ylabel(\"Likes\", fontsize = 15) \n",
        "plt.show()"
      ],
      "metadata": {
        "colab": {
          "base_uri": "https://localhost:8080/",
          "height": 416
        },
        "id": "dR5jNb2IP5iv",
        "outputId": "1ebb50a2-bbc6-4032-a097-db6518dd378b"
      },
      "execution_count": null,
      "outputs": [
        {
          "output_type": "display_data",
          "data": {
            "text/plain": [
              "<Figure size 720x432 with 1 Axes>"
            ],
            "image/png": "[encoded data removed]"
          },
          "metadata": {}
        }
      ]
    }
  ],
  "metadata": {
    "colab": {
      "collapsed_sections": [],
      "name": "Feynn_Labs_Mcdonalds_MarketSegmentation.ipynb",
      "provenance": [],
      "toc_visible": true,
      "include_colab_link": true
    },
    "kernelspec": {
      "display_name": "Python 3 (ipykernel)",
      "language": "python",
      "name": "python3"
    },
    "language_info": {
      "codemirror_mode": {
        "name": "ipython",
        "version": 3
      },
      "file_extension": ".py",
      "mimetype": "text/x-python",
      "name": "python",
      "nbconvert_exporter": "python",
      "pygments_lexer": "ipython3",
      "version": "3.9.7"
    }
  },
  "nbformat": 4,
  "nbformat_minor": 0
}